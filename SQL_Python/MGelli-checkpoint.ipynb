{
 "cells": [
  {
   "cell_type": "markdown",
   "id": "eaa198b6",
   "metadata": {},
   "source": [
    "# Part2 : SQLite"
   ]
  },
  {
   "cell_type": "markdown",
   "id": "2d079386",
   "metadata": {},
   "source": [
    "## connecting SQL database to python and accessing Facilities, Bookings and Members tables"
   ]
  },
  {
   "cell_type": "code",
   "execution_count": 1,
   "id": "12e7560c",
   "metadata": {},
   "outputs": [],
   "source": [
    "import sqlite3\n",
    "import pandas as pd\n"
   ]
  },
  {
   "cell_type": "code",
   "execution_count": 2,
   "id": "f6a025d4",
   "metadata": {},
   "outputs": [],
   "source": [
    "# Read sqlite query results into a pandas DataFrame\n",
    "con = sqlite3.connect(\"C:/Users/gellima/Desktop/Springboard_DScience/SQLFiles Tier 1/sqlite_db_pythonsqlite.db\")\n",
    "df_fac = pd.read_sql_query(\"SELECT * from Facilities\", con)"
   ]
  },
  {
   "cell_type": "code",
   "execution_count": 3,
   "id": "abdacc6e",
   "metadata": {},
   "outputs": [
    {
     "name": "stdout",
     "output_type": "stream",
     "text": [
      "   facid             name  membercost  guestcost  initialoutlay  \\\n",
      "0      0   Tennis Court 1         5.0       25.0          10000   \n",
      "1      1   Tennis Court 2         5.0       25.0           8000   \n",
      "2      2  Badminton Court         0.0       15.5           4000   \n",
      "3      3     Table Tennis         0.0        5.0            320   \n",
      "4      4   Massage Room 1         9.9       80.0           4000   \n",
      "\n",
      "   monthlymaintenance  \n",
      "0                 200  \n",
      "1                 200  \n",
      "2                  50  \n",
      "3                  10  \n",
      "4                3000  \n"
     ]
    }
   ],
   "source": [
    "print(df_fac.head())"
   ]
  },
  {
   "cell_type": "code",
   "execution_count": 4,
   "id": "1010ec02",
   "metadata": {},
   "outputs": [
    {
     "name": "stdout",
     "output_type": "stream",
     "text": [
      "   bookid  facid  memid            starttime  slots\n",
      "0       0      3      1  2012-07-03 11:00:00      2\n",
      "1       1      4      1  2012-07-03 08:00:00      2\n",
      "2       2      6      0  2012-07-03 18:00:00      2\n",
      "3       3      7      1  2012-07-03 19:00:00      2\n",
      "4       4      8      1  2012-07-03 10:00:00      1\n"
     ]
    }
   ],
   "source": [
    "df_book = pd.read_sql_query(\"SELECT * from Bookings\", con)\n",
    "print(df_book.head())"
   ]
  },
  {
   "cell_type": "markdown",
   "id": "49183c53",
   "metadata": {},
   "source": [
    "# Q10. /* Q10: Produce a list of facilities with a total revenue less than 1000. The output of facility name and total revenue, sorted by revenue. Remember that there's a different cost for guests and members! */"
   ]
  },
  {
   "cell_type": "code",
   "execution_count": 5,
   "id": "0b19d076",
   "metadata": {},
   "outputs": [
    {
     "name": "stdout",
     "output_type": "stream",
     "text": [
      "         Facility  Total_Revenue\n",
      "0  Massage Room 1          640.0\n",
      "1  Massage Room 1          640.0\n",
      "2  Massage Room 1          640.0\n",
      "3  Massage Room 1          480.0\n",
      "4  Massage Room 1          480.0\n"
     ]
    }
   ],
   "source": [
    "query1= '''\n",
    "select F.name as Facility, \n",
    "(case when B.memid=0 THEN F.guestcost * B.slots\n",
    "      when B.memid>0 THEN F.membercost * B.slots\n",
    "      ELSE 0 END) AS Total_Revenue\n",
    "\n",
    "From Facilities as F\n",
    "Left Join Bookings as B\n",
    "on F.facid=B.facid\n",
    "\n",
    "where Total_Revenue<1000\n",
    "\n",
    "Order by Total_Revenue DESC\n",
    "'''\n",
    "df_fac_list = pd.read_sql_query(query1, con)\n",
    "print(df_fac_list.head())"
   ]
  },
  {
   "cell_type": "markdown",
   "id": "5aa6a4c8",
   "metadata": {},
   "source": [
    "# Q11: Produce a report of members and who recommended them in alphabetic surname,firstname order */"
   ]
  },
  {
   "cell_type": "code",
   "execution_count": 6,
   "id": "21ea081c",
   "metadata": {},
   "outputs": [],
   "source": [
    "df_mem= pd.read_sql_query(\"SELECT * from Members\", con)\n",
    "#print(df_mem.head())\n"
   ]
  },
  {
   "cell_type": "code",
   "execution_count": 36,
   "id": "f153cc10",
   "metadata": {},
   "outputs": [
    {
     "name": "stdout",
     "output_type": "stream",
     "text": [
      "    memid           mem_name recommendedby                 rec_name\n",
      "0       9    Stibbons Ponder             6           Bader Florence\n",
      "1       9    Stibbons Ponder             6               Baker Anne\n",
      "2      13     Farrell Jemima                          Baker Timothy\n",
      "3       3         Rownam Tim                             Boothe Tim\n",
      "4       1       Smith Darren                         Butters Gerald\n",
      "5      16      Baker Timothy            13              Coplin Joan\n",
      "6       2        Smith Tracy                          Crumpet Erica\n",
      "7       4    Joplette Janice             1               Dare Nancy\n",
      "8       5     Butters Gerald             1          Genting Matthew\n",
      "9      30  Purview Millicent             2                Hunt John\n",
      "10      4    Joplette Janice             1              Jones David\n",
      "11     11        Jones David             4            Jones Douglas\n",
      "12      1       Smith Darren                        Joplette Janice\n",
      "13      1       Smith Darren                         Mackenzie Anna\n",
      "14      1       Smith Darren                           Owen Charles\n",
      "15     13     Farrell Jemima                           Pinker David\n",
      "16      2        Smith Tracy                      Purview Millicent\n",
      "17     20    Genting Matthew             5         Rumney Henrietta\n",
      "18     15     Bader Florence             9         Sarwin Ramnaresh\n",
      "19      1       Smith Darren                             Smith Jack\n",
      "20      6       Tracy Burton                        Stibbons Ponder\n",
      "21      2        Smith Tracy                Worthington-Smyth Henry\n"
     ]
    }
   ],
   "source": [
    "query_mem_rec='''\n",
    "\n",
    "select * from\n",
    "\n",
    "(select m1.memid,  m1.surname || ' ' || m1.firstname AS mem_name, m1.recommendedby, m2.surname || ' ' ||  m2.firstname as rec_name\n",
    "from Members as m2\n",
    "\n",
    "\n",
    "LEFT JOIN Members as m1\n",
    "  on m1.memid=m2.recommendedby) AS data\n",
    "\n",
    "where memid>0\n",
    "Order by rec_name\n",
    "\n",
    "\n",
    "'''\n",
    "\n",
    "df_mem_rec = pd.read_sql_query(query_mem_rec, con)\n",
    "print(df_mem_rec)"
   ]
  },
  {
   "cell_type": "markdown",
   "id": "2017c376",
   "metadata": {},
   "source": [
    "# Q12: Find the facilities with their usage by member, but not guests */"
   ]
  },
  {
   "cell_type": "code",
   "execution_count": 30,
   "id": "2153567b",
   "metadata": {},
   "outputs": [
    {
     "name": "stdout",
     "output_type": "stream",
     "text": [
      "           Facility  memid  Total_mem_bookings\n",
      "0   Badminton Court      1                 432\n",
      "1        Pool Table      3                 282\n",
      "2    Massage Room 1      3                 176\n",
      "3    Tennis Court 1      5                 171\n",
      "4    Tennis Court 2      8                 168\n",
      "5      Table Tennis      3                 150\n",
      "6     Snooker Table      4                 142\n",
      "7    Tennis Court 2     10                 141\n",
      "8    Tennis Court 2     12                 114\n",
      "9      Squash Court     12                 110\n",
      "10  Badminton Court      2                 102\n",
      "11   Tennis Court 2     11                  99\n",
      "12  Badminton Court     21                  96\n",
      "13   Tennis Court 2      9                  96\n",
      "14       Pool Table     16                  95\n",
      "15   Tennis Court 1      2                  93\n",
      "16   Tennis Court 1      6                  93\n",
      "17    Snooker Table      2                  90\n",
      "18    Snooker Table      8                  90\n",
      "19     Table Tennis     15                  86\n"
     ]
    }
   ],
   "source": [
    "query='''\n",
    "select F.name as Facility, B.memid, \n",
    "(case when memid !=0 THEN sum(slots) ELSE 0 END) AS Total_mem_bookings     \n",
    "     \n",
    "from Bookings as B\n",
    "Left Join Facilities as F\n",
    "       on B.facid = F.facid\n",
    "\n",
    "\n",
    "Group by F.name, B.memid\n",
    "Order by Total_mem_bookings DESC\n",
    "\n",
    "'''\n",
    "df_book_list = pd.read_sql_query(query, con)\n",
    "print(df_book_list.head(20))"
   ]
  },
  {
   "cell_type": "markdown",
   "id": "346cc8f2",
   "metadata": {},
   "source": [
    "# Q13: Find the facilities usage by month, but not guests */"
   ]
  },
  {
   "cell_type": "code",
   "execution_count": 31,
   "id": "db6881e8",
   "metadata": {},
   "outputs": [
    {
     "name": "stdout",
     "output_type": "stream",
     "text": [
      "           Facility  memid Month  Total_mem_bookings  Total_guest_bookings\n",
      "0    Massage Room 1      8    09                 648                     0\n",
      "1   Badminton Court      1    09                 570                     0\n",
      "2    Massage Room 1      5    08                 492                     0\n",
      "3    Tennis Court 2      8    08                 483                     0\n",
      "4        Pool Table     17    09                 471                     0\n",
      "5   Badminton Court      1    08                 459                     0\n",
      "6    Tennis Court 1      5    08                 459                     0\n",
      "7     Snooker Table     21    09                 426                     0\n",
      "8      Table Tennis     17    09                 422                     0\n",
      "9     Snooker Table      4    08                 326                     0\n",
      "10       Pool Table      3    08                 322                     0\n",
      "11     Table Tennis      7    08                 304                     0\n",
      "12   Tennis Court 1      2    07                 270                     0\n",
      "13   Massage Room 1      1    07                 264                     0\n",
      "14  Badminton Court      1    07                 180                     0\n",
      "15    Snooker Table      1    07                 156                     0\n",
      "16       Pool Table      1    07                 117                     0\n",
      "17     Table Tennis      1    07                 104                     0\n",
      "18   Massage Room 2      7    08                  82                     0\n",
      "19   Massage Room 2      0    07                   0                    24\n",
      "20     Squash Court      0    07                   0                   164\n",
      "21   Tennis Court 2      0    07                   0                   207\n",
      "22     Squash Court      0    08                   0                   400\n",
      "23   Massage Room 2      0    09                   0                   122\n",
      "24     Squash Court      0    09                   0                   540\n",
      "25   Tennis Court 1      0    09                   0                   591\n",
      "26   Tennis Court 2      0    09                   0                   588\n"
     ]
    }
   ],
   "source": [
    "query_fac='''\n",
    "select F.name as Facility, B.memid, strftime('%m', B.starttime) as Month,  \n",
    "(case when memid !=0 THEN sum(slots) ELSE 0 END) AS Total_mem_bookings,\n",
    "(case when memid =0 THEN sum(slots) ELSE 0 END) AS Total_guest_bookings\n",
    "\n",
    "from Bookings as B \n",
    "Left JOIN Facilities as F\n",
    "on B.facid=F.facid\n",
    "\n",
    "\n",
    "Group by Month, Facility\n",
    "Order by Total_mem_bookings DESC\n",
    "\n",
    "'''\n",
    "df_fac_use=pd.read_sql_query(query_fac, con)\n",
    "print(df_fac_use)\n"
   ]
  }
 ],
 "metadata": {
  "kernelspec": {
   "display_name": "Python 3",
   "language": "python",
   "name": "python3"
  },
  "language_info": {
   "codemirror_mode": {
    "name": "ipython",
    "version": 3
   },
   "file_extension": ".py",
   "mimetype": "text/x-python",
   "name": "python",
   "nbconvert_exporter": "python",
   "pygments_lexer": "ipython3",
   "version": "3.7.4"
  }
 },
 "nbformat": 4,
 "nbformat_minor": 5
}
