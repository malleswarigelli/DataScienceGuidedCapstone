{
 "cells": [
  {
   "cell_type": "markdown",
   "id": "eaa198b6",
   "metadata": {},
   "source": [
    "# Part2 : SQLite"
   ]
  },
  {
   "cell_type": "markdown",
   "id": "2d079386",
   "metadata": {},
   "source": [
    "## connecting SQL database to python and accessing Facilities, Bookings and Members tables"
   ]
  },
  {
   "cell_type": "code",
   "execution_count": 52,
   "id": "12e7560c",
   "metadata": {},
   "outputs": [],
   "source": [
    "import sqlite3\n",
    "import pandas as pd\n"
   ]
  },
  {
   "cell_type": "code",
   "execution_count": 53,
   "id": "f6a025d4",
   "metadata": {},
   "outputs": [],
   "source": [
    "# Read sqlite query results into a pandas DataFrame\n",
    "con = sqlite3.connect(\"C:/Users/gellima/Desktop/Springboard_DScience/SQLFiles Tier 1/sqlite_db_pythonsqlite.db\")\n",
    "df_fac = pd.read_sql_query(\"SELECT * from Facilities\", con)"
   ]
  },
  {
   "cell_type": "code",
   "execution_count": 54,
   "id": "c4a3447f",
   "metadata": {},
   "outputs": [
    {
     "name": "stdout",
     "output_type": "stream",
     "text": [
      "   facid             name  membercost  guestcost  initialoutlay  \\\n",
      "0      0   Tennis Court 1         5.0       25.0          10000   \n",
      "1      1   Tennis Court 2         5.0       25.0           8000   \n",
      "2      2  Badminton Court         0.0       15.5           4000   \n",
      "3      3     Table Tennis         0.0        5.0            320   \n",
      "4      4   Massage Room 1         9.9       80.0           4000   \n",
      "5      5   Massage Room 2         9.9       80.0           4000   \n",
      "6      6     Squash Court         3.5       17.5           5000   \n",
      "7      7    Snooker Table         0.0        5.0            450   \n",
      "8      8       Pool Table         0.0        5.0            400   \n",
      "\n",
      "   monthlymaintenance  \n",
      "0                 200  \n",
      "1                 200  \n",
      "2                  50  \n",
      "3                  10  \n",
      "4                3000  \n",
      "5                3000  \n",
      "6                  80  \n",
      "7                  15  \n",
      "8                  15  \n"
     ]
    }
   ],
   "source": [
    "print(df_fac.head(30))\n"
   ]
  },
  {
   "cell_type": "markdown",
   "id": "49183c53",
   "metadata": {},
   "source": [
    "# Q10. /* Q10: Produce a list of facilities with a total revenue less than 1000. The output of facility name and total revenue, sorted by revenue. Remember that there's a different cost for guests and members! */"
   ]
  },
  {
   "cell_type": "code",
   "execution_count": 74,
   "id": "0b19d076",
   "metadata": {},
   "outputs": [
    {
     "name": "stdout",
     "output_type": "stream",
     "text": [
      "            name  initialoutlay\n",
      "3   Table Tennis            320\n",
      "7  Snooker Table            450\n",
      "8     Pool Table            400\n"
     ]
    }
   ],
   "source": [
    "rev_fac=df_fac.loc[df_fac['initialoutlay']<1000]\n",
    "rev_fac_cols=rev_fac[['name','initialoutlay']]\n",
    "rev_fac_cols.sort_values(by='initialoutlay')\n",
    "print(rev_fac_cols)"
   ]
  },
  {
   "cell_type": "code",
   "execution_count": 55,
   "id": "1010ec02",
   "metadata": {},
   "outputs": [
    {
     "name": "stdout",
     "output_type": "stream",
     "text": [
      "   bookid  facid  memid            starttime  slots\n",
      "0       0      3      1  2012-07-03 11:00:00      2\n",
      "1       1      4      1  2012-07-03 08:00:00      2\n",
      "2       2      6      0  2012-07-03 18:00:00      2\n",
      "3       3      7      1  2012-07-03 19:00:00      2\n",
      "4       4      8      1  2012-07-03 10:00:00      1\n"
     ]
    }
   ],
   "source": [
    "df_book = pd.read_sql_query(\"SELECT * from Bookings\", con)\n",
    "print(df_book.head())\n"
   ]
  },
  {
   "cell_type": "markdown",
   "id": "5aa6a4c8",
   "metadata": {},
   "source": [
    "# Q11: Produce a report of members and who recommended them in alphabetic surname,firstname order */"
   ]
  },
  {
   "cell_type": "code",
   "execution_count": 119,
   "id": "1aa03f10",
   "metadata": {},
   "outputs": [
    {
     "name": "stdout",
     "output_type": "stream",
     "text": [
      "   memid   surname firstname                       address  zipcode  \\\n",
      "0      0     GUEST     GUEST                         GUEST        0   \n",
      "1      1     Smith    Darren    8 Bloomsbury Close, Boston     4321   \n",
      "2      2     Smith     Tracy  8 Bloomsbury Close, New York     4321   \n",
      "3      3    Rownam       Tim        23 Highway Way, Boston    23423   \n",
      "4      4  Joplette    Janice    20 Crossing Road, New York      234   \n",
      "\n",
      "        telephone recommendedby             joindate  \n",
      "0  (000) 000-0000                2012-07-01 00:00:00  \n",
      "1    555-555-5555                2012-07-02 12:02:05  \n",
      "2    555-555-5555                2012-07-02 12:08:23  \n",
      "3  (844) 693-0723                2012-07-03 09:32:15  \n",
      "4  (833) 942-4710             1  2012-07-03 10:25:05  \n"
     ]
    }
   ],
   "source": [
    "df_memb = pd.read_sql_query(\"SELECT * from Members\", con)\n",
    "print(df_memb.head())"
   ]
  },
  {
   "cell_type": "code",
   "execution_count": 114,
   "id": "cf54af52",
   "metadata": {},
   "outputs": [
    {
     "name": "stdout",
     "output_type": "stream",
     "text": [
      "    memid  surname firstname recommendedby\n",
      "15     15    Bader  Florence             9\n",
      "12     12    Baker      Anne             9\n",
      "16     16    Baker   Timothy            13\n",
      "8       8   Boothe       Tim             3\n",
      "5       5  Butters    Gerald             1\n"
     ]
    }
   ],
   "source": [
    "df_memb_reco=df_memb[['memid','surname','firstname', 'recommendedby']]\n",
    "sort=data.sort_values(by=['surname', 'firstname'])\n",
    "print(sort.head())\n"
   ]
  },
  {
   "cell_type": "markdown",
   "id": "2017c376",
   "metadata": {},
   "source": [
    "# Q12: Find the facilities with their usage by member, but not guests */"
   ]
  },
  {
   "cell_type": "code",
   "execution_count": 117,
   "id": "2153567b",
   "metadata": {},
   "outputs": [
    {
     "name": "stdout",
     "output_type": "stream",
     "text": [
      "   memid surname firstname address  zipcode       telephone recommendedby  \\\n",
      "0      0   GUEST     GUEST   GUEST        0  (000) 000-0000                 \n",
      "\n",
      "              joindate  \n",
      "0  2012-07-01 00:00:00  \n"
     ]
    }
   ],
   "source": [
    "not_guests= df_memb[df_memb['surname']=='GUEST']\n",
    "print(not_guests)"
   ]
  },
  {
   "cell_type": "code",
   "execution_count": null,
   "id": "db6881e8",
   "metadata": {},
   "outputs": [],
   "source": []
  }
 ],
 "metadata": {
  "kernelspec": {
   "display_name": "Python 3",
   "language": "python",
   "name": "python3"
  },
  "language_info": {
   "codemirror_mode": {
    "name": "ipython",
    "version": 3
   },
   "file_extension": ".py",
   "mimetype": "text/x-python",
   "name": "python",
   "nbconvert_exporter": "python",
   "pygments_lexer": "ipython3",
   "version": "3.7.4"
  }
 },
 "nbformat": 4,
 "nbformat_minor": 5
}
