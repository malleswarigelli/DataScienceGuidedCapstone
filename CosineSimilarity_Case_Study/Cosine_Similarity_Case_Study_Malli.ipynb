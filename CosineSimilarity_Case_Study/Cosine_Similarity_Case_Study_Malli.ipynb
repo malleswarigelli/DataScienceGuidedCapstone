{
 "cells": [
  {
   "cell_type": "markdown",
   "metadata": {
    "colab_type": "text",
    "id": "eNSkSfKvSXEE"
   },
   "source": [
    "## Cosine Similarity Calculations\n",
    "Cosine similarity is a measure of similarity between two non-zero vectors of an inner product space that measures the cosine of the angle between them. Similarity measures have a multiude of uses in machine learning projects; they come in handy when matching strings, measuring distance, and extracting features. This similarity measurement is particularly concerned with orientation, rather than magnitude. \n",
    "In this case study, you'll use the cosine similarity to compare both a numeric data within a plane and a text dataset for string matching."
   ]
  },
  {
   "cell_type": "markdown",
   "metadata": {
    "colab_type": "text",
    "id": "USGZdZYoVu7A"
   },
   "source": [
    "Load the Python modules, including cosine_similarity, from sklearn.metrics.pairwise"
   ]
  },
  {
   "cell_type": "code",
   "execution_count": 1,
   "metadata": {
    "colab": {},
    "colab_type": "code",
    "id": "_T-FTjWuSXEF"
   },
   "outputs": [],
   "source": [
    "import numpy as np\n",
    "import pandas as pd\n",
    "import matplotlib.pyplot as plt\n",
    "import matplotlib.cm as cm\n",
    "%matplotlib inline\n",
    "plt.style.use('ggplot')\n",
    "from scipy import spatial\n",
    "from sklearn.metrics.pairwise import cosine_similarity"
   ]
  },
  {
   "cell_type": "markdown",
   "metadata": {
    "colab_type": "text",
    "id": "woBv3-cmV1R6"
   },
   "source": [
    "**<font color='teal'> Load the distance dataset into a dataframe. </font>**"
   ]
  },
  {
   "cell_type": "code",
   "execution_count": 5,
   "metadata": {
    "colab": {},
    "colab_type": "code",
    "id": "irpsaCuGSXEK"
   },
   "outputs": [
    {
     "data": {
      "text/html": [
       "<div>\n",
       "<style scoped>\n",
       "    .dataframe tbody tr th:only-of-type {\n",
       "        vertical-align: middle;\n",
       "    }\n",
       "\n",
       "    .dataframe tbody tr th {\n",
       "        vertical-align: top;\n",
       "    }\n",
       "\n",
       "    .dataframe thead th {\n",
       "        text-align: right;\n",
       "    }\n",
       "</style>\n",
       "<table border=\"1\" class=\"dataframe\">\n",
       "  <thead>\n",
       "    <tr style=\"text-align: right;\">\n",
       "      <th></th>\n",
       "      <th>Unnamed: 0</th>\n",
       "      <th>X</th>\n",
       "      <th>Y</th>\n",
       "      <th>Z</th>\n",
       "      <th>ClusterID</th>\n",
       "    </tr>\n",
       "  </thead>\n",
       "  <tbody>\n",
       "    <tr>\n",
       "      <th>0</th>\n",
       "      <td>0</td>\n",
       "      <td>5.135779</td>\n",
       "      <td>4.167542</td>\n",
       "      <td>5.787635</td>\n",
       "      <td>4</td>\n",
       "    </tr>\n",
       "    <tr>\n",
       "      <th>1</th>\n",
       "      <td>1</td>\n",
       "      <td>4.280721</td>\n",
       "      <td>5.770909</td>\n",
       "      <td>6.091044</td>\n",
       "      <td>4</td>\n",
       "    </tr>\n",
       "    <tr>\n",
       "      <th>2</th>\n",
       "      <td>2</td>\n",
       "      <td>8.329098</td>\n",
       "      <td>7.540436</td>\n",
       "      <td>3.247239</td>\n",
       "      <td>2</td>\n",
       "    </tr>\n",
       "    <tr>\n",
       "      <th>3</th>\n",
       "      <td>3</td>\n",
       "      <td>5.470224</td>\n",
       "      <td>5.069249</td>\n",
       "      <td>5.768313</td>\n",
       "      <td>4</td>\n",
       "    </tr>\n",
       "    <tr>\n",
       "      <th>4</th>\n",
       "      <td>4</td>\n",
       "      <td>2.381797</td>\n",
       "      <td>2.402374</td>\n",
       "      <td>3.879101</td>\n",
       "      <td>1</td>\n",
       "    </tr>\n",
       "  </tbody>\n",
       "</table>\n",
       "</div>"
      ],
      "text/plain": [
       "   Unnamed: 0         X         Y         Z  ClusterID\n",
       "0           0  5.135779  4.167542  5.787635          4\n",
       "1           1  4.280721  5.770909  6.091044          4\n",
       "2           2  8.329098  7.540436  3.247239          2\n",
       "3           3  5.470224  5.069249  5.768313          4\n",
       "4           4  2.381797  2.402374  3.879101          1"
      ]
     },
     "execution_count": 5,
     "metadata": {},
     "output_type": "execute_result"
    }
   ],
   "source": [
    "distance=pd.read_csv('C:/Users/gellima/Desktop/Springboard_DScience/CosineSimilarityCaseStudy/distance_dataset (1).csv')\n",
    "distance.head()\n"
   ]
  },
  {
   "cell_type": "markdown",
   "metadata": {
    "colab_type": "text",
    "id": "WWd4xbk1SXEO"
   },
   "source": [
    "### Cosine Similarity with clusters and numeric matrices\n",
    "\n",
    "All points in our dataset can be thought of as feature vectors. We illustrate it here as we display the __Cosine Similarity__ between each feature vector in the YZ plane and the [5, 5] vector we chose as reference. The sklearn.metrics.pairwise module provides an efficient way to compute the __cosine_similarity__ for large arrays from which we can compute the similarity."
   ]
  },
  {
   "cell_type": "markdown",
   "metadata": {
    "colab_type": "text",
    "id": "NeRvhNjLWaau"
   },
   "source": [
    " **<font color='teal'> First, create a 2D and a 3D matrix from the dataframe. The 2D matrix should contain the 'Y' and 'Z' columns and the 3D matrix should contain the 'X','Y', and 'Z' columns.</font>**"
   ]
  },
  {
   "cell_type": "code",
   "execution_count": 14,
   "metadata": {
    "colab": {},
    "colab_type": "code",
    "id": "aWkrVP8dWqZ-"
   },
   "outputs": [
    {
     "data": {
      "text/plain": [
       "array([[4.16754224, 5.7876354 ],\n",
       "       [5.77090875, 6.0910442 ],\n",
       "       [7.54043595, 3.2472394 ],\n",
       "       ...,\n",
       "       [2.35191142, 6.77931097],\n",
       "       [5.64267723, 4.85577967],\n",
       "       [5.27055029, 7.84476766]])"
      ]
     },
     "execution_count": 14,
     "metadata": {},
     "output_type": "execute_result"
    }
   ],
   "source": [
    "two_matrix=np.array(distance[['Y','Z']])\n",
    "two_matrix\n"
   ]
  },
  {
   "cell_type": "code",
   "execution_count": 15,
   "metadata": {},
   "outputs": [
    {
     "data": {
      "text/plain": [
       "(2000, 2)"
      ]
     },
     "execution_count": 15,
     "metadata": {},
     "output_type": "execute_result"
    }
   ],
   "source": [
    "two_matrix.shape"
   ]
  },
  {
   "cell_type": "code",
   "execution_count": 17,
   "metadata": {},
   "outputs": [
    {
     "data": {
      "text/html": [
       "<div>\n",
       "<style scoped>\n",
       "    .dataframe tbody tr th:only-of-type {\n",
       "        vertical-align: middle;\n",
       "    }\n",
       "\n",
       "    .dataframe tbody tr th {\n",
       "        vertical-align: top;\n",
       "    }\n",
       "\n",
       "    .dataframe thead th {\n",
       "        text-align: right;\n",
       "    }\n",
       "</style>\n",
       "<table border=\"1\" class=\"dataframe\">\n",
       "  <thead>\n",
       "    <tr style=\"text-align: right;\">\n",
       "      <th></th>\n",
       "      <th>X</th>\n",
       "      <th>Y</th>\n",
       "      <th>Z</th>\n",
       "    </tr>\n",
       "  </thead>\n",
       "  <tbody>\n",
       "    <tr>\n",
       "      <th>0</th>\n",
       "      <td>5.135779</td>\n",
       "      <td>4.167542</td>\n",
       "      <td>5.787635</td>\n",
       "    </tr>\n",
       "    <tr>\n",
       "      <th>1</th>\n",
       "      <td>4.280721</td>\n",
       "      <td>5.770909</td>\n",
       "      <td>6.091044</td>\n",
       "    </tr>\n",
       "    <tr>\n",
       "      <th>2</th>\n",
       "      <td>8.329098</td>\n",
       "      <td>7.540436</td>\n",
       "      <td>3.247239</td>\n",
       "    </tr>\n",
       "    <tr>\n",
       "      <th>3</th>\n",
       "      <td>5.470224</td>\n",
       "      <td>5.069249</td>\n",
       "      <td>5.768313</td>\n",
       "    </tr>\n",
       "    <tr>\n",
       "      <th>4</th>\n",
       "      <td>2.381797</td>\n",
       "      <td>2.402374</td>\n",
       "      <td>3.879101</td>\n",
       "    </tr>\n",
       "  </tbody>\n",
       "</table>\n",
       "</div>"
      ],
      "text/plain": [
       "          X         Y         Z\n",
       "0  5.135779  4.167542  5.787635\n",
       "1  4.280721  5.770909  6.091044\n",
       "2  8.329098  7.540436  3.247239\n",
       "3  5.470224  5.069249  5.768313\n",
       "4  2.381797  2.402374  3.879101"
      ]
     },
     "execution_count": 17,
     "metadata": {},
     "output_type": "execute_result"
    }
   ],
   "source": [
    "df1=distance[['X','Y','Z']]\n",
    "df1.head()"
   ]
  },
  {
   "cell_type": "code",
   "execution_count": 19,
   "metadata": {},
   "outputs": [
    {
     "data": {
      "text/plain": [
       "(2000, 3)"
      ]
     },
     "execution_count": 19,
     "metadata": {},
     "output_type": "execute_result"
    }
   ],
   "source": [
    "df1.shape"
   ]
  },
  {
   "cell_type": "code",
   "execution_count": 18,
   "metadata": {},
   "outputs": [
    {
     "ename": "ValueError",
     "evalue": "cannot reshape array of size 6000 into shape (5,5,5)",
     "output_type": "error",
     "traceback": [
      "\u001b[1;31m---------------------------------------------------------------------------\u001b[0m",
      "\u001b[1;31mValueError\u001b[0m                                Traceback (most recent call last)",
      "\u001b[1;32m<ipython-input-18-899f6411a34b>\u001b[0m in \u001b[0;36m<module>\u001b[1;34m\u001b[0m\n\u001b[1;32m----> 1\u001b[1;33m \u001b[0marr\u001b[0m \u001b[1;33m=\u001b[0m \u001b[0mdf1\u001b[0m\u001b[1;33m.\u001b[0m\u001b[0mto_numpy\u001b[0m\u001b[1;33m(\u001b[0m\u001b[1;33m)\u001b[0m\u001b[1;33m.\u001b[0m\u001b[0mreshape\u001b[0m\u001b[1;33m(\u001b[0m\u001b[1;36m5\u001b[0m\u001b[1;33m,\u001b[0m\u001b[1;36m5\u001b[0m\u001b[1;33m,\u001b[0m\u001b[1;36m5\u001b[0m\u001b[1;33m)\u001b[0m\u001b[1;33m\u001b[0m\u001b[1;33m\u001b[0m\u001b[0m\n\u001b[0m",
      "\u001b[1;31mValueError\u001b[0m: cannot reshape array of size 6000 into shape (5,5,5)"
     ]
    }
   ],
   "source": [
    "arr = df1.to_numpy().reshape(5,5,5)"
   ]
  },
  {
   "cell_type": "code",
   "execution_count": 16,
   "metadata": {},
   "outputs": [
    {
     "data": {
      "text/plain": [
       "(2000, 3)"
      ]
     },
     "execution_count": 16,
     "metadata": {},
     "output_type": "execute_result"
    }
   ],
   "source": [
    "three_matrix.shape"
   ]
  },
  {
   "cell_type": "markdown",
   "metadata": {
    "colab_type": "text",
    "id": "HlRZpDfzXJR9"
   },
   "source": [
    "Calculate the cosine similarity for those matrices with reference planes of 5,5 and 5,5,5. Then subtract those measures from 1 in new features."
   ]
  },
  {
   "cell_type": "code",
   "execution_count": 12,
   "metadata": {
    "colab": {},
    "colab_type": "code",
    "id": "QmKPcdIjSXEP"
   },
   "outputs": [
    {
     "ename": "NameError",
     "evalue": "name 'mat' is not defined",
     "output_type": "error",
     "traceback": [
      "\u001b[1;31m---------------------------------------------------------------------------\u001b[0m",
      "\u001b[1;31mNameError\u001b[0m                                 Traceback (most recent call last)",
      "\u001b[1;32m<ipython-input-12-b9a8b706bc43>\u001b[0m in \u001b[0;36m<module>\u001b[1;34m\u001b[0m\n\u001b[1;32m----> 1\u001b[1;33m \u001b[0msimCosine3D\u001b[0m \u001b[1;33m=\u001b[0m \u001b[1;36m1.\u001b[0m \u001b[1;33m-\u001b[0m \u001b[0mcosine_similarity\u001b[0m\u001b[1;33m(\u001b[0m\u001b[0mmat\u001b[0m\u001b[1;33m,\u001b[0m \u001b[1;33m[\u001b[0m\u001b[1;33m[\u001b[0m\u001b[1;36m5\u001b[0m\u001b[1;33m,\u001b[0m\u001b[1;36m5\u001b[0m\u001b[1;33m,\u001b[0m\u001b[1;36m5\u001b[0m\u001b[1;33m]\u001b[0m\u001b[1;33m]\u001b[0m\u001b[1;33m,\u001b[0m \u001b[1;34m'cosine'\u001b[0m\u001b[1;33m)\u001b[0m\u001b[1;33m\u001b[0m\u001b[1;33m\u001b[0m\u001b[0m\n\u001b[0m\u001b[0;32m      2\u001b[0m \u001b[0msimCosine\u001b[0m \u001b[1;33m=\u001b[0m \u001b[1;36m1.\u001b[0m \u001b[1;33m-\u001b[0m \u001b[0mcosine_similarity\u001b[0m\u001b[1;33m(\u001b[0m\u001b[0mmatYZ\u001b[0m\u001b[1;33m,\u001b[0m \u001b[1;33m[\u001b[0m\u001b[1;33m[\u001b[0m\u001b[1;36m5\u001b[0m\u001b[1;33m,\u001b[0m\u001b[1;36m5\u001b[0m\u001b[1;33m]\u001b[0m\u001b[1;33m]\u001b[0m\u001b[1;33m,\u001b[0m \u001b[1;34m'cosine'\u001b[0m\u001b[1;33m)\u001b[0m\u001b[1;33m\u001b[0m\u001b[1;33m\u001b[0m\u001b[0m\n",
      "\u001b[1;31mNameError\u001b[0m: name 'mat' is not defined"
     ]
    }
   ],
   "source": [
    "simCosine3D = 1. - cosine_similarity(mat, [[5,5,5]], 'cosine')\n",
    "simCosine = 1. - cosine_similarity(matYZ, [[5,5]], 'cosine')"
   ]
  },
  {
   "cell_type": "markdown",
   "metadata": {
    "colab_type": "text",
    "id": "EieVXBAcX0OU"
   },
   "source": [
    "Using the 2D matrix and the reference plane of (5,5) we can use a scatter plot to view the way the similarity is calculated using the Cosine angle."
   ]
  },
  {
   "cell_type": "code",
   "execution_count": 0,
   "metadata": {
    "colab": {},
    "colab_type": "code",
    "id": "Oga4-0A6SXEY"
   },
   "outputs": [],
   "source": [
    "figCosine = plt.figure(figsize=[10,8])\n",
    "\n",
    "plt.scatter(df.Y, df.Z, c=simCosine[:,0], s=20)\n",
    "plt.plot([0,5],[0,5], '--', color='dimgray')\n",
    "plt.plot([0,3],[0,7.2], '--', color='dimgray')\n",
    "plt.text(0.7,2.6,r'$\\theta$ = 22.4 deg.', rotation=47, size=14)\n",
    "plt.ylim([0,10])\n",
    "plt.xlim([0,10])\n",
    "plt.xlabel('Y', size=14)\n",
    "plt.ylabel('Z', size=14)\n",
    "plt.title('Cosine Similarity')\n",
    "cb = plt.colorbar()\n",
    "cb.set_label('Similarity with (5,5)', size=14)\n",
    "\n",
    "#figCosine.savefig('similarity-cosine.png')"
   ]
  },
  {
   "cell_type": "markdown",
   "metadata": {
    "colab_type": "text",
    "id": "h5EERbkYXioh"
   },
   "source": [
    "Now, plot the 3D matrix with the similarity and the reference plane, (5,5,5)."
   ]
  },
  {
   "cell_type": "code",
   "execution_count": 0,
   "metadata": {
    "colab": {},
    "colab_type": "code",
    "id": "-f3ZhgoQSXEV"
   },
   "outputs": [],
   "source": [
    "from mpl_toolkits.mplot3d import Axes3D\n",
    "figCosine3D = plt.figure(figsize=(10, 8))\n",
    "ax = figCosine3D.add_subplot(111, projection='3d')\n",
    "\n",
    "p = ax.scatter(mat[:,0], mat[:,1], mat[:,2], c=simCosine3D[:,0])\n",
    "ax.set_xlabel('X')\n",
    "ax.set_ylabel('Y')\n",
    "ax.set_zlabel('Z')\n",
    "cb = figCosine3D.colorbar(p)\n",
    "cb.set_label('Similarity with (5,5,5)', size=14)\n",
    "                                   \n",
    "figCosine3D.tight_layout()\n",
    "#figCosine3D.savefig('cosine-3D.png', dpi=300, transparent=True)"
   ]
  },
  {
   "cell_type": "markdown",
   "metadata": {
    "colab_type": "text",
    "id": "_ysZ1wFMSXEt"
   },
   "source": [
    "----"
   ]
  },
  {
   "cell_type": "markdown",
   "metadata": {
    "colab_type": "text",
    "id": "jGJ2vr60SXEu"
   },
   "source": [
    "### Cosine Similarity with text data\n",
    "This is a quick example of how you can use Cosine Similarity to compare different text values or names for record matching or other natural language proecessing needs. \n",
    "First, we use count vectorizer to create a vector for each unique word in our Document 0 and Document 1. "
   ]
  },
  {
   "cell_type": "code",
   "execution_count": 20,
   "metadata": {
    "colab": {},
    "colab_type": "code",
    "id": "7oSm7linSXEv"
   },
   "outputs": [
    {
     "data": {
      "text/html": [
       "<div>\n",
       "<style scoped>\n",
       "    .dataframe tbody tr th:only-of-type {\n",
       "        vertical-align: middle;\n",
       "    }\n",
       "\n",
       "    .dataframe tbody tr th {\n",
       "        vertical-align: top;\n",
       "    }\n",
       "\n",
       "    .dataframe thead th {\n",
       "        text-align: right;\n",
       "    }\n",
       "</style>\n",
       "<table border=\"1\" class=\"dataframe\">\n",
       "  <thead>\n",
       "    <tr style=\"text-align: right;\">\n",
       "      <th></th>\n",
       "      <th>coffee</th>\n",
       "      <th>essence</th>\n",
       "      <th>of</th>\n",
       "      <th>starbucks</th>\n",
       "    </tr>\n",
       "  </thead>\n",
       "  <tbody>\n",
       "    <tr>\n",
       "      <th>Document 0</th>\n",
       "      <td>1</td>\n",
       "      <td>0</td>\n",
       "      <td>0</td>\n",
       "      <td>1</td>\n",
       "    </tr>\n",
       "    <tr>\n",
       "      <th>Document 1</th>\n",
       "      <td>1</td>\n",
       "      <td>1</td>\n",
       "      <td>1</td>\n",
       "      <td>0</td>\n",
       "    </tr>\n",
       "  </tbody>\n",
       "</table>\n",
       "</div>"
      ],
      "text/plain": [
       "            coffee  essence  of  starbucks\n",
       "Document 0       1        0   0          1\n",
       "Document 1       1        1   1          0"
      ]
     },
     "execution_count": 20,
     "metadata": {},
     "output_type": "execute_result"
    }
   ],
   "source": [
    "from sklearn.feature_extraction.text import CountVectorizer\n",
    "count_vect = CountVectorizer()\n",
    "Document1 = \"Starbucks Coffee\"\n",
    "Document2 = \"Essence of Coffee\"\n",
    "\n",
    "corpus = [Document1,Document2]\n",
    "\n",
    "X_train_counts = count_vect.fit_transform(corpus)\n",
    "\n",
    "pd.DataFrame(X_train_counts.toarray(),columns=count_vect.get_feature_names(),index=['Document 0','Document 1'])"
   ]
  },
  {
   "cell_type": "markdown",
   "metadata": {
    "colab_type": "text",
    "id": "W99LBHobSXE1"
   },
   "source": [
    "Now, we use a common frequency tool called TF-IDF to convert the vectors to unique measures."
   ]
  },
  {
   "cell_type": "code",
   "execution_count": 21,
   "metadata": {
    "colab": {},
    "colab_type": "code",
    "id": "mA52-mj9SXE1"
   },
   "outputs": [
    {
     "data": {
      "text/html": [
       "<div>\n",
       "<style scoped>\n",
       "    .dataframe tbody tr th:only-of-type {\n",
       "        vertical-align: middle;\n",
       "    }\n",
       "\n",
       "    .dataframe tbody tr th {\n",
       "        vertical-align: top;\n",
       "    }\n",
       "\n",
       "    .dataframe thead th {\n",
       "        text-align: right;\n",
       "    }\n",
       "</style>\n",
       "<table border=\"1\" class=\"dataframe\">\n",
       "  <thead>\n",
       "    <tr style=\"text-align: right;\">\n",
       "      <th></th>\n",
       "      <th>coffee</th>\n",
       "      <th>essence</th>\n",
       "      <th>of</th>\n",
       "      <th>starbucks</th>\n",
       "    </tr>\n",
       "  </thead>\n",
       "  <tbody>\n",
       "    <tr>\n",
       "      <th>Document 0</th>\n",
       "      <td>0.579739</td>\n",
       "      <td>0.000000</td>\n",
       "      <td>0.000000</td>\n",
       "      <td>0.814802</td>\n",
       "    </tr>\n",
       "    <tr>\n",
       "      <th>Document 1</th>\n",
       "      <td>0.449436</td>\n",
       "      <td>0.631667</td>\n",
       "      <td>0.631667</td>\n",
       "      <td>0.000000</td>\n",
       "    </tr>\n",
       "  </tbody>\n",
       "</table>\n",
       "</div>"
      ],
      "text/plain": [
       "              coffee   essence        of  starbucks\n",
       "Document 0  0.579739  0.000000  0.000000   0.814802\n",
       "Document 1  0.449436  0.631667  0.631667   0.000000"
      ]
     },
     "execution_count": 21,
     "metadata": {},
     "output_type": "execute_result"
    }
   ],
   "source": [
    "from sklearn.feature_extraction.text import TfidfVectorizer\n",
    "vectorizer = TfidfVectorizer()\n",
    "trsfm=vectorizer.fit_transform(corpus)\n",
    "pd.DataFrame(trsfm.toarray(),columns=vectorizer.get_feature_names(),index=['Document 0','Document 1'])"
   ]
  },
  {
   "cell_type": "markdown",
   "metadata": {
    "colab_type": "text",
    "id": "8T8ZOVnLSXE4"
   },
   "source": [
    "Here, we finally apply the __Cosine Similarity__ measure to calculate how similar Document 0 is compared to any other document in the corpus. Therefore, the first value of 1 is showing that the Document 0 is 100% similar to Document 0 and 0.26055576 is the similarity measure between Document 0 and Document 1."
   ]
  },
  {
   "cell_type": "code",
   "execution_count": 22,
   "metadata": {
    "colab": {},
    "colab_type": "code",
    "id": "ZLbYTQfnSXE4"
   },
   "outputs": [
    {
     "data": {
      "text/plain": [
       "array([[1.        , 0.26055567]])"
      ]
     },
     "execution_count": 22,
     "metadata": {},
     "output_type": "execute_result"
    }
   ],
   "source": [
    "# cosine similarity with TfidfVectorizer\n",
    "cosine_similarity(trsfm[0:1], trsfm)"
   ]
  },
  {
   "cell_type": "code",
   "execution_count": 23,
   "metadata": {},
   "outputs": [
    {
     "data": {
      "text/plain": [
       "array([[1.        , 0.40824829]])"
      ]
     },
     "execution_count": 23,
     "metadata": {},
     "output_type": "execute_result"
    }
   ],
   "source": [
    "# cosine similarity with CountVectorizer\n",
    "cosine_similarity(X_train_counts[0:1],X_train_counts)"
   ]
  },
  {
   "cell_type": "markdown",
   "metadata": {
    "colab_type": "text",
    "id": "uSDf5EgJatlw"
   },
   "source": [
    "Replace the current values for `Document 0` and `Document 1` with your own sentence or paragraph and apply the same steps as we did in the above example."
   ]
  },
  {
   "cell_type": "markdown",
   "metadata": {
    "colab_type": "text",
    "id": "S9FESS0IbF9I"
   },
   "source": [
    " **<font color='teal'> Combine the documents into a corpus.</font>**"
   ]
  },
  {
   "cell_type": "code",
   "execution_count": 25,
   "metadata": {
    "colab": {},
    "colab_type": "code",
    "id": "7aVkjj-xczS-"
   },
   "outputs": [
    {
     "data": {
      "text/plain": [
       "['Malli is taking Data Science Boot camp, is from June 1st cohort session. She is very curious person, learns data science skills in interactive mode',\n",
       " 'Nihil is Data Science Boot camp student from August 1st cohort session. He learns and applies data science skills very diligently across various projects for his career']"
      ]
     },
     "execution_count": 25,
     "metadata": {},
     "output_type": "execute_result"
    }
   ],
   "source": [
    "Document0='Malli is taking Data Science Boot camp, is from June 1st cohort session. She is very curious person, learns data science skills in interactive mode'\n",
    "Document1='Nihil is Data Science Boot camp student from August 1st cohort session. He learns and applies data science skills very diligently across various projects for his career'\n",
    "corpus=[Document0, Document1]\n",
    "corpus"
   ]
  },
  {
   "cell_type": "markdown",
   "metadata": {
    "colab_type": "text",
    "id": "Bng2fLV_bR-V"
   },
   "source": [
    " **<font color='teal'> Apply the count vectorizer to the corpus to transform it into vectors.</font>**"
   ]
  },
  {
   "cell_type": "code",
   "execution_count": 26,
   "metadata": {
    "colab": {},
    "colab_type": "code",
    "id": "FtW2_TcJczuh"
   },
   "outputs": [],
   "source": [
    "from sklearn.feature_extraction.text import CountVectorizer\n",
    "count_vect=CountVectorizer()\n",
    "data_vectors=count_vect.fit_transform(corpus)"
   ]
  },
  {
   "cell_type": "markdown",
   "metadata": {
    "colab_type": "text",
    "id": "55i9xWTYbc-r"
   },
   "source": [
    " **<font color='teal'> Convert the vector counts to a dataframe with Pandas.</font>**"
   ]
  },
  {
   "cell_type": "code",
   "execution_count": 30,
   "metadata": {
    "colab": {},
    "colab_type": "code",
    "id": "OaXsheskc0Ql"
   },
   "outputs": [
    {
     "data": {
      "text/html": [
       "<div>\n",
       "<style scoped>\n",
       "    .dataframe tbody tr th:only-of-type {\n",
       "        vertical-align: middle;\n",
       "    }\n",
       "\n",
       "    .dataframe tbody tr th {\n",
       "        vertical-align: top;\n",
       "    }\n",
       "\n",
       "    .dataframe thead th {\n",
       "        text-align: right;\n",
       "    }\n",
       "</style>\n",
       "<table border=\"1\" class=\"dataframe\">\n",
       "  <thead>\n",
       "    <tr style=\"text-align: right;\">\n",
       "      <th></th>\n",
       "      <th>1st</th>\n",
       "      <th>across</th>\n",
       "      <th>and</th>\n",
       "      <th>applies</th>\n",
       "      <th>august</th>\n",
       "      <th>boot</th>\n",
       "      <th>camp</th>\n",
       "      <th>career</th>\n",
       "      <th>cohort</th>\n",
       "      <th>curious</th>\n",
       "      <th>...</th>\n",
       "      <th>person</th>\n",
       "      <th>projects</th>\n",
       "      <th>science</th>\n",
       "      <th>session</th>\n",
       "      <th>she</th>\n",
       "      <th>skills</th>\n",
       "      <th>student</th>\n",
       "      <th>taking</th>\n",
       "      <th>various</th>\n",
       "      <th>very</th>\n",
       "    </tr>\n",
       "  </thead>\n",
       "  <tbody>\n",
       "    <tr>\n",
       "      <th>Student1</th>\n",
       "      <td>1</td>\n",
       "      <td>0</td>\n",
       "      <td>0</td>\n",
       "      <td>0</td>\n",
       "      <td>0</td>\n",
       "      <td>1</td>\n",
       "      <td>1</td>\n",
       "      <td>0</td>\n",
       "      <td>1</td>\n",
       "      <td>1</td>\n",
       "      <td>...</td>\n",
       "      <td>1</td>\n",
       "      <td>0</td>\n",
       "      <td>2</td>\n",
       "      <td>1</td>\n",
       "      <td>1</td>\n",
       "      <td>1</td>\n",
       "      <td>0</td>\n",
       "      <td>1</td>\n",
       "      <td>0</td>\n",
       "      <td>1</td>\n",
       "    </tr>\n",
       "    <tr>\n",
       "      <th>Student2</th>\n",
       "      <td>1</td>\n",
       "      <td>1</td>\n",
       "      <td>1</td>\n",
       "      <td>1</td>\n",
       "      <td>1</td>\n",
       "      <td>1</td>\n",
       "      <td>1</td>\n",
       "      <td>1</td>\n",
       "      <td>1</td>\n",
       "      <td>0</td>\n",
       "      <td>...</td>\n",
       "      <td>0</td>\n",
       "      <td>1</td>\n",
       "      <td>2</td>\n",
       "      <td>1</td>\n",
       "      <td>0</td>\n",
       "      <td>1</td>\n",
       "      <td>1</td>\n",
       "      <td>0</td>\n",
       "      <td>1</td>\n",
       "      <td>1</td>\n",
       "    </tr>\n",
       "  </tbody>\n",
       "</table>\n",
       "<p>2 rows × 34 columns</p>\n",
       "</div>"
      ],
      "text/plain": [
       "          1st  across  and  applies  august  boot  camp  career  cohort  \\\n",
       "Student1    1       0    0        0       0     1     1       0       1   \n",
       "Student2    1       1    1        1       1     1     1       1       1   \n",
       "\n",
       "          curious  ...  person  projects  science  session  she  skills  \\\n",
       "Student1        1  ...       1         0        2        1    1       1   \n",
       "Student2        0  ...       0         1        2        1    0       1   \n",
       "\n",
       "          student  taking  various  very  \n",
       "Student1        0       1        0     1  \n",
       "Student2        1       0        1     1  \n",
       "\n",
       "[2 rows x 34 columns]"
      ]
     },
     "execution_count": 30,
     "metadata": {},
     "output_type": "execute_result"
    }
   ],
   "source": [
    "pd.DataFrame(data_vectors.toarray(), columns=count_vect.get_feature_names(), index=['Student1', 'Student2'])"
   ]
  },
  {
   "cell_type": "markdown",
   "metadata": {
    "colab_type": "text",
    "id": "dONg4uupcJAK"
   },
   "source": [
    " **<font color='teal'> Apply TF-IDF to convert the vectors to unique frequency measures.</font>**"
   ]
  },
  {
   "cell_type": "code",
   "execution_count": 35,
   "metadata": {
    "colab": {},
    "colab_type": "code",
    "id": "o2z2p_kMc1mF"
   },
   "outputs": [
    {
     "data": {
      "text/html": [
       "<div>\n",
       "<style scoped>\n",
       "    .dataframe tbody tr th:only-of-type {\n",
       "        vertical-align: middle;\n",
       "    }\n",
       "\n",
       "    .dataframe tbody tr th {\n",
       "        vertical-align: top;\n",
       "    }\n",
       "\n",
       "    .dataframe thead th {\n",
       "        text-align: right;\n",
       "    }\n",
       "</style>\n",
       "<table border=\"1\" class=\"dataframe\">\n",
       "  <thead>\n",
       "    <tr style=\"text-align: right;\">\n",
       "      <th></th>\n",
       "      <th>1st</th>\n",
       "      <th>across</th>\n",
       "      <th>and</th>\n",
       "      <th>applies</th>\n",
       "      <th>august</th>\n",
       "      <th>boot</th>\n",
       "      <th>camp</th>\n",
       "      <th>career</th>\n",
       "      <th>cohort</th>\n",
       "      <th>curious</th>\n",
       "      <th>...</th>\n",
       "      <th>person</th>\n",
       "      <th>projects</th>\n",
       "      <th>science</th>\n",
       "      <th>session</th>\n",
       "      <th>she</th>\n",
       "      <th>skills</th>\n",
       "      <th>student</th>\n",
       "      <th>taking</th>\n",
       "      <th>various</th>\n",
       "      <th>very</th>\n",
       "    </tr>\n",
       "  </thead>\n",
       "  <tbody>\n",
       "    <tr>\n",
       "      <th>Student1</th>\n",
       "      <td>0.151137</td>\n",
       "      <td>0.000000</td>\n",
       "      <td>0.000000</td>\n",
       "      <td>0.000000</td>\n",
       "      <td>0.000000</td>\n",
       "      <td>0.151137</td>\n",
       "      <td>0.151137</td>\n",
       "      <td>0.000000</td>\n",
       "      <td>0.151137</td>\n",
       "      <td>0.212418</td>\n",
       "      <td>...</td>\n",
       "      <td>0.212418</td>\n",
       "      <td>0.000000</td>\n",
       "      <td>0.302275</td>\n",
       "      <td>0.151137</td>\n",
       "      <td>0.212418</td>\n",
       "      <td>0.151137</td>\n",
       "      <td>0.000000</td>\n",
       "      <td>0.212418</td>\n",
       "      <td>0.000000</td>\n",
       "      <td>0.151137</td>\n",
       "    </tr>\n",
       "    <tr>\n",
       "      <th>Student2</th>\n",
       "      <td>0.151308</td>\n",
       "      <td>0.212658</td>\n",
       "      <td>0.212658</td>\n",
       "      <td>0.212658</td>\n",
       "      <td>0.212658</td>\n",
       "      <td>0.151308</td>\n",
       "      <td>0.151308</td>\n",
       "      <td>0.212658</td>\n",
       "      <td>0.151308</td>\n",
       "      <td>0.000000</td>\n",
       "      <td>...</td>\n",
       "      <td>0.000000</td>\n",
       "      <td>0.212658</td>\n",
       "      <td>0.302616</td>\n",
       "      <td>0.151308</td>\n",
       "      <td>0.000000</td>\n",
       "      <td>0.151308</td>\n",
       "      <td>0.212658</td>\n",
       "      <td>0.000000</td>\n",
       "      <td>0.212658</td>\n",
       "      <td>0.151308</td>\n",
       "    </tr>\n",
       "  </tbody>\n",
       "</table>\n",
       "<p>2 rows × 34 columns</p>\n",
       "</div>"
      ],
      "text/plain": [
       "               1st    across       and   applies    august      boot  \\\n",
       "Student1  0.151137  0.000000  0.000000  0.000000  0.000000  0.151137   \n",
       "Student2  0.151308  0.212658  0.212658  0.212658  0.212658  0.151308   \n",
       "\n",
       "              camp    career    cohort   curious  ...    person  projects  \\\n",
       "Student1  0.151137  0.000000  0.151137  0.212418  ...  0.212418  0.000000   \n",
       "Student2  0.151308  0.212658  0.151308  0.000000  ...  0.000000  0.212658   \n",
       "\n",
       "           science   session       she    skills   student    taking  \\\n",
       "Student1  0.302275  0.151137  0.212418  0.151137  0.000000  0.212418   \n",
       "Student2  0.302616  0.151308  0.000000  0.151308  0.212658  0.000000   \n",
       "\n",
       "           various      very  \n",
       "Student1  0.000000  0.151137  \n",
       "Student2  0.212658  0.151308  \n",
       "\n",
       "[2 rows x 34 columns]"
      ]
     },
     "execution_count": 35,
     "metadata": {},
     "output_type": "execute_result"
    }
   ],
   "source": [
    "from sklearn.feature_extraction.text import TfidfVectorizer\n",
    "tdif=TfidfVectorizer()\n",
    "tfdata=tdif.fit_transform(corpus)\n",
    "pd.DataFrame(tfdata.toarray(), columns=tdif.get_feature_names(), index=['Student1', 'Student2'])"
   ]
  },
  {
   "cell_type": "markdown",
   "metadata": {
    "colab_type": "text",
    "id": "wd1JHVSxcl1D"
   },
   "source": [
    " **<font color='teal'> Use the cosine similarity function to get measures of similarity for the sentences or paragraphs in your original document.</font>**"
   ]
  },
  {
   "cell_type": "code",
   "execution_count": 37,
   "metadata": {},
   "outputs": [
    {
     "data": {
      "text/plain": [
       "array([[1.        , 0.60717674],\n",
       "       [0.60717674, 1.        ]])"
      ]
     },
     "execution_count": 37,
     "metadata": {},
     "output_type": "execute_result"
    }
   ],
   "source": [
    "# cosine similarity between two documents using CountVectorizer\n",
    "cosine_similarity(data_vectors)"
   ]
  },
  {
   "cell_type": "code",
   "execution_count": 38,
   "metadata": {
    "colab": {},
    "colab_type": "code",
    "id": "sJdk5sX5bcPO"
   },
   "outputs": [
    {
     "data": {
      "text/plain": [
       "array([[1.       , 0.4573663],\n",
       "       [0.4573663, 1.       ]])"
      ]
     },
     "execution_count": 38,
     "metadata": {},
     "output_type": "execute_result"
    }
   ],
   "source": [
    "# cosine similarity between two documents using TfidfVectorizer\n",
    "from sklearn.metrics.pairwise import cosine_similarity\n",
    "cosine_similarity(tfdata)"
   ]
  }
 ],
 "metadata": {
  "anaconda-cloud": {},
  "colab": {
   "name": "Cosine Similarity.ipynb",
   "provenance": []
  },
  "kernelspec": {
   "display_name": "Python 3",
   "language": "python",
   "name": "python3"
  },
  "language_info": {
   "codemirror_mode": {
    "name": "ipython",
    "version": 3
   },
   "file_extension": ".py",
   "mimetype": "text/x-python",
   "name": "python",
   "nbconvert_exporter": "python",
   "pygments_lexer": "ipython3",
   "version": "3.7.4"
  }
 },
 "nbformat": 4,
 "nbformat_minor": 1
}
