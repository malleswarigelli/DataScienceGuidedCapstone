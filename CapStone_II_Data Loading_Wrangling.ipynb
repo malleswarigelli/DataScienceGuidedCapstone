{
 "cells": [
  {
   "cell_type": "markdown",
   "id": "a6334e26",
   "metadata": {},
   "source": [
    "# Four stages of Data Science Pipeline\n",
    "1. Sourcing and loading\n",
    "2. Cleaning, transforming, and visualizing\n",
    "3. Modeling\n",
    "4. Evaluating and concluding\n",
    "\n",
    "##  In this case study, I'll apply machine learning algorithms for predicting haploid rate "
   ]
  },
  {
   "cell_type": "markdown",
   "id": "5aca1e76",
   "metadata": {},
   "source": [
    "# Sourcing and loading"
   ]
  },
  {
   "cell_type": "markdown",
   "id": "3441d98d",
   "metadata": {},
   "source": [
    "# 1.1. Importing Libraries"
   ]
  },
  {
   "cell_type": "code",
   "execution_count": 58,
   "id": "5a438fb4",
   "metadata": {},
   "outputs": [],
   "source": [
    "# import libraries \n",
    "import pandas as pd\n",
    "import numpy as np\n",
    "%matplotlib inline\n",
    "import seaborn as sns\n",
    "import matplotlib.pyplot as plt"
   ]
  },
  {
   "cell_type": "markdown",
   "id": "a5ad01a0",
   "metadata": {},
   "source": [
    "# 1.2. Loading the data"
   ]
  },
  {
   "cell_type": "code",
   "execution_count": 71,
   "id": "b04fdfa5",
   "metadata": {},
   "outputs": [],
   "source": [
    "data=pd.read_csv('C:/Users/gellima/Desktop/Springboard_DScience/Data_Sci_Inhouse/set.csv')\n",
    "# The dataset we're interested in contains haploids production "
   ]
  },
  {
   "cell_type": "code",
   "execution_count": 72,
   "id": "0daff801",
   "metadata": {},
   "outputs": [
    {
     "data": {
      "text/html": [
       "<div>\n",
       "<style scoped>\n",
       "    .dataframe tbody tr th:only-of-type {\n",
       "        vertical-align: middle;\n",
       "    }\n",
       "\n",
       "    .dataframe tbody tr th {\n",
       "        vertical-align: top;\n",
       "    }\n",
       "\n",
       "    .dataframe thead th {\n",
       "        text-align: right;\n",
       "    }\n",
       "</style>\n",
       "<table border=\"1\" class=\"dataframe\">\n",
       "  <thead>\n",
       "    <tr style=\"text-align: right;\">\n",
       "      <th></th>\n",
       "      <th>Execution_site</th>\n",
       "      <th>request_id</th>\n",
       "      <th>year</th>\n",
       "      <th>quarter</th>\n",
       "      <th>GE_ID</th>\n",
       "      <th>BreedingZone</th>\n",
       "      <th>EvaluationZone</th>\n",
       "      <th>HetGrp</th>\n",
       "      <th>type</th>\n",
       "      <th>actual_embryos</th>\n",
       "      <th>actual_haploid_embryos</th>\n",
       "      <th>Hap_rate</th>\n",
       "      <th>actual_Elle_pots</th>\n",
       "      <th>actual_D0_plants</th>\n",
       "      <th>Trans_rate</th>\n",
       "      <th>actual_D0_poll</th>\n",
       "      <th>Poll_rate</th>\n",
       "    </tr>\n",
       "  </thead>\n",
       "  <tbody>\n",
       "    <tr>\n",
       "      <th>0</th>\n",
       "      <td>AZ</td>\n",
       "      <td>178950</td>\n",
       "      <td>2015</td>\n",
       "      <td>1</td>\n",
       "      <td>67133087</td>\n",
       "      <td>TE</td>\n",
       "      <td>NAWN</td>\n",
       "      <td>SSS</td>\n",
       "      <td>S</td>\n",
       "      <td>9425</td>\n",
       "      <td>1308</td>\n",
       "      <td>14</td>\n",
       "      <td>599.0</td>\n",
       "      <td>537.0</td>\n",
       "      <td>90.0</td>\n",
       "      <td>256.0</td>\n",
       "      <td>48.0</td>\n",
       "    </tr>\n",
       "    <tr>\n",
       "      <th>1</th>\n",
       "      <td>AZ</td>\n",
       "      <td>178955</td>\n",
       "      <td>2015</td>\n",
       "      <td>1</td>\n",
       "      <td>67133419</td>\n",
       "      <td>TE</td>\n",
       "      <td>NAWN</td>\n",
       "      <td>SSS</td>\n",
       "      <td>S</td>\n",
       "      <td>8029</td>\n",
       "      <td>1206</td>\n",
       "      <td>15</td>\n",
       "      <td>699.0</td>\n",
       "      <td>606.0</td>\n",
       "      <td>87.0</td>\n",
       "      <td>299.0</td>\n",
       "      <td>49.0</td>\n",
       "    </tr>\n",
       "    <tr>\n",
       "      <th>2</th>\n",
       "      <td>AZ</td>\n",
       "      <td>178969</td>\n",
       "      <td>2015</td>\n",
       "      <td>1</td>\n",
       "      <td>67226512</td>\n",
       "      <td>TE</td>\n",
       "      <td>NAWN</td>\n",
       "      <td>NSS</td>\n",
       "      <td>O</td>\n",
       "      <td>3373</td>\n",
       "      <td>976</td>\n",
       "      <td>29</td>\n",
       "      <td>466.0</td>\n",
       "      <td>270.0</td>\n",
       "      <td>58.0</td>\n",
       "      <td>196.0</td>\n",
       "      <td>73.0</td>\n",
       "    </tr>\n",
       "    <tr>\n",
       "      <th>3</th>\n",
       "      <td>AZ</td>\n",
       "      <td>178971</td>\n",
       "      <td>2015</td>\n",
       "      <td>1</td>\n",
       "      <td>67226501</td>\n",
       "      <td>TE</td>\n",
       "      <td>NAWN</td>\n",
       "      <td>NSS</td>\n",
       "      <td>O</td>\n",
       "      <td>4227</td>\n",
       "      <td>1189</td>\n",
       "      <td>28</td>\n",
       "      <td>518.0</td>\n",
       "      <td>310.0</td>\n",
       "      <td>60.0</td>\n",
       "      <td>184.0</td>\n",
       "      <td>59.0</td>\n",
       "    </tr>\n",
       "    <tr>\n",
       "      <th>4</th>\n",
       "      <td>AZ</td>\n",
       "      <td>178973</td>\n",
       "      <td>2015</td>\n",
       "      <td>1</td>\n",
       "      <td>67226717</td>\n",
       "      <td>TE</td>\n",
       "      <td>NAWN</td>\n",
       "      <td>NSS</td>\n",
       "      <td>O</td>\n",
       "      <td>5360</td>\n",
       "      <td>1277</td>\n",
       "      <td>24</td>\n",
       "      <td>623.0</td>\n",
       "      <td>516.0</td>\n",
       "      <td>83.0</td>\n",
       "      <td>286.0</td>\n",
       "      <td>55.0</td>\n",
       "    </tr>\n",
       "  </tbody>\n",
       "</table>\n",
       "</div>"
      ],
      "text/plain": [
       "  Execution_site  request_id  year  quarter     GE_ID BreedingZone  \\\n",
       "0             AZ      178950  2015        1  67133087           TE   \n",
       "1             AZ      178955  2015        1  67133419           TE   \n",
       "2             AZ      178969  2015        1  67226512           TE   \n",
       "3             AZ      178971  2015        1  67226501           TE   \n",
       "4             AZ      178973  2015        1  67226717           TE   \n",
       "\n",
       "  EvaluationZone HetGrp type  actual_embryos  actual_haploid_embryos  \\\n",
       "0           NAWN    SSS    S            9425                    1308   \n",
       "1           NAWN    SSS    S            8029                    1206   \n",
       "2           NAWN    NSS    O            3373                     976   \n",
       "3           NAWN    NSS    O            4227                    1189   \n",
       "4           NAWN    NSS    O            5360                    1277   \n",
       "\n",
       "   Hap_rate  actual_Elle_pots  actual_D0_plants  Trans_rate  actual_D0_poll  \\\n",
       "0        14             599.0             537.0        90.0           256.0   \n",
       "1        15             699.0             606.0        87.0           299.0   \n",
       "2        29             466.0             270.0        58.0           196.0   \n",
       "3        28             518.0             310.0        60.0           184.0   \n",
       "4        24             623.0             516.0        83.0           286.0   \n",
       "\n",
       "   Poll_rate  \n",
       "0       48.0  \n",
       "1       49.0  \n",
       "2       73.0  \n",
       "3       59.0  \n",
       "4       55.0  "
      ]
     },
     "execution_count": 72,
     "metadata": {},
     "output_type": "execute_result"
    }
   ],
   "source": [
    "# gets first few rows of dataframe\n",
    "data.head()"
   ]
  },
  {
   "cell_type": "code",
   "execution_count": 73,
   "id": "52461355",
   "metadata": {},
   "outputs": [
    {
     "data": {
      "text/plain": [
       "(14811, 17)"
      ]
     },
     "execution_count": 73,
     "metadata": {},
     "output_type": "execute_result"
    }
   ],
   "source": [
    "data.shape"
   ]
  },
  {
   "cell_type": "markdown",
   "id": "f465f9a0",
   "metadata": {},
   "source": [
    "## 1.2.1 Data Definition"
   ]
  },
  {
   "cell_type": "code",
   "execution_count": 74,
   "id": "dc97e30c",
   "metadata": {
    "scrolled": true
   },
   "outputs": [
    {
     "data": {
      "text/plain": [
       "Index(['Execution_site', 'request_id', 'year', 'quarter', 'GE_ID',\n",
       "       'BreedingZone', 'EvaluationZone', 'HetGrp', 'type', 'actual_embryos',\n",
       "       'actual_haploid_embryos', 'Hap_rate', 'actual_Elle_pots',\n",
       "       'actual_D0_plants', 'Trans_rate', 'actual_D0_poll', 'Poll_rate'],\n",
       "      dtype='object')"
      ]
     },
     "execution_count": 74,
     "metadata": {},
     "output_type": "execute_result"
    }
   ],
   "source": [
    "# column names of the dataset\n",
    "data.columns"
   ]
  },
  {
   "cell_type": "code",
   "execution_count": 75,
   "id": "92a8694b",
   "metadata": {},
   "outputs": [
    {
     "name": "stdout",
     "output_type": "stream",
     "text": [
      "<class 'pandas.core.frame.DataFrame'>\n",
      "RangeIndex: 14811 entries, 0 to 14810\n",
      "Data columns (total 17 columns):\n",
      " #   Column                  Non-Null Count  Dtype  \n",
      "---  ------                  --------------  -----  \n",
      " 0   Execution_site          14811 non-null  object \n",
      " 1   request_id              14811 non-null  int64  \n",
      " 2   year                    14811 non-null  int64  \n",
      " 3   quarter                 14811 non-null  int64  \n",
      " 4   GE_ID                   14811 non-null  int64  \n",
      " 5   BreedingZone            14811 non-null  object \n",
      " 6   EvaluationZone          14811 non-null  object \n",
      " 7   HetGrp                  14811 non-null  object \n",
      " 8   type                    14811 non-null  object \n",
      " 9   actual_embryos          14811 non-null  int64  \n",
      " 10  actual_haploid_embryos  14811 non-null  int64  \n",
      " 11  Hap_rate                14811 non-null  int64  \n",
      " 12  actual_Elle_pots        14807 non-null  float64\n",
      " 13  actual_D0_plants        14791 non-null  float64\n",
      " 14  Trans_rate              14791 non-null  float64\n",
      " 15  actual_D0_poll          14787 non-null  float64\n",
      " 16  Poll_rate               14787 non-null  float64\n",
      "dtypes: float64(5), int64(7), object(5)\n",
      "memory usage: 1.9+ MB\n"
     ]
    }
   ],
   "source": [
    "# get datatypes, summary of dataframe\n",
    "data.info()"
   ]
  },
  {
   "cell_type": "code",
   "execution_count": 76,
   "id": "0ca1aa9e",
   "metadata": {},
   "outputs": [
    {
     "name": "stdout",
     "output_type": "stream",
     "text": [
      "<class 'pandas.core.frame.DataFrame'>\n",
      "RangeIndex: 14811 entries, 0 to 14810\n",
      "Data columns (total 17 columns):\n",
      " #   Column                  Non-Null Count  Dtype  \n",
      "---  ------                  --------------  -----  \n",
      " 0   Execution_site          14811 non-null  object \n",
      " 1   request_id              14811 non-null  int64  \n",
      " 2   year                    14811 non-null  object \n",
      " 3   quarter                 14811 non-null  object \n",
      " 4   GE_ID                   14811 non-null  int64  \n",
      " 5   BreedingZone            14811 non-null  object \n",
      " 6   EvaluationZone          14811 non-null  object \n",
      " 7   HetGrp                  14811 non-null  object \n",
      " 8   type                    14811 non-null  object \n",
      " 9   actual_embryos          14811 non-null  int64  \n",
      " 10  actual_haploid_embryos  14811 non-null  int64  \n",
      " 11  Hap_rate                14811 non-null  int64  \n",
      " 12  actual_Elle_pots        14807 non-null  float64\n",
      " 13  actual_D0_plants        14791 non-null  float64\n",
      " 14  Trans_rate              14791 non-null  float64\n",
      " 15  actual_D0_poll          14787 non-null  float64\n",
      " 16  Poll_rate               14787 non-null  float64\n",
      "dtypes: float64(5), int64(5), object(7)\n",
      "memory usage: 1.9+ MB\n"
     ]
    }
   ],
   "source": [
    "# change year and quarter column type to object\n",
    "data['year']=data['year'].astype(object)\n",
    "data['quarter']=data['quarter'].astype(object)\n",
    "data.info()"
   ]
  },
  {
   "cell_type": "code",
   "execution_count": 77,
   "id": "17f2e326",
   "metadata": {},
   "outputs": [
    {
     "data": {
      "text/plain": [
       "(14811, 17)"
      ]
     },
     "execution_count": 77,
     "metadata": {},
     "output_type": "execute_result"
    }
   ],
   "source": [
    "## find number of rows and columns of the dataframe\n",
    "data.shape"
   ]
  },
  {
   "cell_type": "code",
   "execution_count": 78,
   "id": "bfd74166",
   "metadata": {},
   "outputs": [
    {
     "data": {
      "text/plain": [
       "Execution_site            14811\n",
       "request_id                14811\n",
       "year                      14811\n",
       "quarter                   14811\n",
       "GE_ID                     14811\n",
       "BreedingZone              14811\n",
       "EvaluationZone            14811\n",
       "HetGrp                    14811\n",
       "type                      14811\n",
       "actual_embryos            14811\n",
       "actual_haploid_embryos    14811\n",
       "Hap_rate                  14811\n",
       "actual_Elle_pots          14807\n",
       "actual_D0_plants          14791\n",
       "Trans_rate                14791\n",
       "actual_D0_poll            14787\n",
       "Poll_rate                 14787\n",
       "dtype: int64"
      ]
     },
     "execution_count": 78,
     "metadata": {},
     "output_type": "execute_result"
    }
   ],
   "source": [
    "# count values of in each column\n",
    "data.count()"
   ]
  },
  {
   "cell_type": "code",
   "execution_count": 79,
   "id": "68e4ef54",
   "metadata": {},
   "outputs": [
    {
     "data": {
      "text/html": [
       "<div>\n",
       "<style scoped>\n",
       "    .dataframe tbody tr th:only-of-type {\n",
       "        vertical-align: middle;\n",
       "    }\n",
       "\n",
       "    .dataframe tbody tr th {\n",
       "        vertical-align: top;\n",
       "    }\n",
       "\n",
       "    .dataframe thead th {\n",
       "        text-align: right;\n",
       "    }\n",
       "</style>\n",
       "<table border=\"1\" class=\"dataframe\">\n",
       "  <thead>\n",
       "    <tr style=\"text-align: right;\">\n",
       "      <th></th>\n",
       "      <th>index</th>\n",
       "      <th>0</th>\n",
       "    </tr>\n",
       "  </thead>\n",
       "  <tbody>\n",
       "    <tr>\n",
       "      <th>0</th>\n",
       "      <td>Poll_rate</td>\n",
       "      <td>24</td>\n",
       "    </tr>\n",
       "    <tr>\n",
       "      <th>1</th>\n",
       "      <td>actual_D0_poll</td>\n",
       "      <td>24</td>\n",
       "    </tr>\n",
       "    <tr>\n",
       "      <th>2</th>\n",
       "      <td>Trans_rate</td>\n",
       "      <td>20</td>\n",
       "    </tr>\n",
       "    <tr>\n",
       "      <th>3</th>\n",
       "      <td>actual_D0_plants</td>\n",
       "      <td>20</td>\n",
       "    </tr>\n",
       "    <tr>\n",
       "      <th>4</th>\n",
       "      <td>actual_Elle_pots</td>\n",
       "      <td>4</td>\n",
       "    </tr>\n",
       "    <tr>\n",
       "      <th>5</th>\n",
       "      <td>BreedingZone</td>\n",
       "      <td>0</td>\n",
       "    </tr>\n",
       "    <tr>\n",
       "      <th>6</th>\n",
       "      <td>request_id</td>\n",
       "      <td>0</td>\n",
       "    </tr>\n",
       "    <tr>\n",
       "      <th>7</th>\n",
       "      <td>year</td>\n",
       "      <td>0</td>\n",
       "    </tr>\n",
       "    <tr>\n",
       "      <th>8</th>\n",
       "      <td>quarter</td>\n",
       "      <td>0</td>\n",
       "    </tr>\n",
       "    <tr>\n",
       "      <th>9</th>\n",
       "      <td>GE_ID</td>\n",
       "      <td>0</td>\n",
       "    </tr>\n",
       "    <tr>\n",
       "      <th>10</th>\n",
       "      <td>type</td>\n",
       "      <td>0</td>\n",
       "    </tr>\n",
       "    <tr>\n",
       "      <th>11</th>\n",
       "      <td>EvaluationZone</td>\n",
       "      <td>0</td>\n",
       "    </tr>\n",
       "    <tr>\n",
       "      <th>12</th>\n",
       "      <td>HetGrp</td>\n",
       "      <td>0</td>\n",
       "    </tr>\n",
       "    <tr>\n",
       "      <th>13</th>\n",
       "      <td>actual_embryos</td>\n",
       "      <td>0</td>\n",
       "    </tr>\n",
       "    <tr>\n",
       "      <th>14</th>\n",
       "      <td>actual_haploid_embryos</td>\n",
       "      <td>0</td>\n",
       "    </tr>\n",
       "    <tr>\n",
       "      <th>15</th>\n",
       "      <td>Hap_rate</td>\n",
       "      <td>0</td>\n",
       "    </tr>\n",
       "    <tr>\n",
       "      <th>16</th>\n",
       "      <td>Execution_site</td>\n",
       "      <td>0</td>\n",
       "    </tr>\n",
       "  </tbody>\n",
       "</table>\n",
       "</div>"
      ],
      "text/plain": [
       "                     index   0\n",
       "0                Poll_rate  24\n",
       "1           actual_D0_poll  24\n",
       "2               Trans_rate  20\n",
       "3         actual_D0_plants  20\n",
       "4         actual_Elle_pots   4\n",
       "5             BreedingZone   0\n",
       "6               request_id   0\n",
       "7                     year   0\n",
       "8                  quarter   0\n",
       "9                    GE_ID   0\n",
       "10                    type   0\n",
       "11          EvaluationZone   0\n",
       "12                  HetGrp   0\n",
       "13          actual_embryos   0\n",
       "14  actual_haploid_embryos   0\n",
       "15                Hap_rate   0\n",
       "16          Execution_site   0"
      ]
     },
     "execution_count": 79,
     "metadata": {},
     "output_type": "execute_result"
    }
   ],
   "source": [
    "#Counts of null values \n",
    "na_df=pd.DataFrame(data.isnull().sum().sort_values(ascending=False)).reset_index()\n",
    "na_df"
   ]
  },
  {
   "cell_type": "code",
   "execution_count": 80,
   "id": "a5fe9483",
   "metadata": {},
   "outputs": [
    {
     "data": {
      "text/html": [
       "<div>\n",
       "<style scoped>\n",
       "    .dataframe tbody tr th:only-of-type {\n",
       "        vertical-align: middle;\n",
       "    }\n",
       "\n",
       "    .dataframe tbody tr th {\n",
       "        vertical-align: top;\n",
       "    }\n",
       "\n",
       "    .dataframe thead th {\n",
       "        text-align: right;\n",
       "    }\n",
       "</style>\n",
       "<table border=\"1\" class=\"dataframe\">\n",
       "  <thead>\n",
       "    <tr style=\"text-align: right;\">\n",
       "      <th></th>\n",
       "      <th>VarName</th>\n",
       "      <th>NullCount</th>\n",
       "    </tr>\n",
       "  </thead>\n",
       "  <tbody>\n",
       "    <tr>\n",
       "      <th>0</th>\n",
       "      <td>Poll_rate</td>\n",
       "      <td>24</td>\n",
       "    </tr>\n",
       "    <tr>\n",
       "      <th>1</th>\n",
       "      <td>actual_D0_poll</td>\n",
       "      <td>24</td>\n",
       "    </tr>\n",
       "    <tr>\n",
       "      <th>2</th>\n",
       "      <td>Trans_rate</td>\n",
       "      <td>20</td>\n",
       "    </tr>\n",
       "    <tr>\n",
       "      <th>3</th>\n",
       "      <td>actual_D0_plants</td>\n",
       "      <td>20</td>\n",
       "    </tr>\n",
       "    <tr>\n",
       "      <th>4</th>\n",
       "      <td>actual_Elle_pots</td>\n",
       "      <td>4</td>\n",
       "    </tr>\n",
       "  </tbody>\n",
       "</table>\n",
       "</div>"
      ],
      "text/plain": [
       "            VarName  NullCount\n",
       "0         Poll_rate         24\n",
       "1    actual_D0_poll         24\n",
       "2        Trans_rate         20\n",
       "3  actual_D0_plants         20\n",
       "4  actual_Elle_pots          4"
      ]
     },
     "execution_count": 80,
     "metadata": {},
     "output_type": "execute_result"
    }
   ],
   "source": [
    "# filter columns with sum of missing >0\n",
    "na_df.columns = ['VarName', 'NullCount']\n",
    "na_df[(na_df['NullCount']>0)]"
   ]
  },
  {
   "cell_type": "code",
   "execution_count": 81,
   "id": "40568d7e",
   "metadata": {},
   "outputs": [
    {
     "data": {
      "text/html": [
       "<div>\n",
       "<style scoped>\n",
       "    .dataframe tbody tr th:only-of-type {\n",
       "        vertical-align: middle;\n",
       "    }\n",
       "\n",
       "    .dataframe tbody tr th {\n",
       "        vertical-align: top;\n",
       "    }\n",
       "\n",
       "    .dataframe thead th {\n",
       "        text-align: right;\n",
       "    }\n",
       "</style>\n",
       "<table border=\"1\" class=\"dataframe\">\n",
       "  <thead>\n",
       "    <tr style=\"text-align: right;\">\n",
       "      <th></th>\n",
       "      <th>Execution_site</th>\n",
       "      <th>request_id</th>\n",
       "      <th>year</th>\n",
       "      <th>quarter</th>\n",
       "      <th>GE_ID</th>\n",
       "      <th>BreedingZone</th>\n",
       "      <th>EvaluationZone</th>\n",
       "      <th>HetGrp</th>\n",
       "      <th>type</th>\n",
       "      <th>actual_embryos</th>\n",
       "      <th>actual_haploid_embryos</th>\n",
       "      <th>Hap_rate</th>\n",
       "      <th>actual_Elle_pots</th>\n",
       "      <th>actual_D0_plants</th>\n",
       "      <th>Trans_rate</th>\n",
       "      <th>actual_D0_poll</th>\n",
       "      <th>Poll_rate</th>\n",
       "    </tr>\n",
       "  </thead>\n",
       "  <tbody>\n",
       "  </tbody>\n",
       "</table>\n",
       "</div>"
      ],
      "text/plain": [
       "Empty DataFrame\n",
       "Columns: [Execution_site, request_id, year, quarter, GE_ID, BreedingZone, EvaluationZone, HetGrp, type, actual_embryos, actual_haploid_embryos, Hap_rate, actual_Elle_pots, actual_D0_plants, Trans_rate, actual_D0_poll, Poll_rate]\n",
       "Index: []"
      ]
     },
     "execution_count": 81,
     "metadata": {},
     "output_type": "execute_result"
    }
   ],
   "source": [
    "# check duplicated rows\n",
    "data1 = data[data.duplicated(keep=False)]\n",
    "data1\n",
    "# notice no duplicate rows"
   ]
  },
  {
   "cell_type": "code",
   "execution_count": 82,
   "id": "0ff7b6f3",
   "metadata": {},
   "outputs": [
    {
     "data": {
      "text/html": [
       "<div>\n",
       "<style scoped>\n",
       "    .dataframe tbody tr th:only-of-type {\n",
       "        vertical-align: middle;\n",
       "    }\n",
       "\n",
       "    .dataframe tbody tr th {\n",
       "        vertical-align: top;\n",
       "    }\n",
       "\n",
       "    .dataframe thead th {\n",
       "        text-align: right;\n",
       "    }\n",
       "</style>\n",
       "<table border=\"1\" class=\"dataframe\">\n",
       "  <thead>\n",
       "    <tr style=\"text-align: right;\">\n",
       "      <th></th>\n",
       "      <th>Execution_site</th>\n",
       "      <th>request_id</th>\n",
       "      <th>year</th>\n",
       "      <th>quarter</th>\n",
       "      <th>GE_ID</th>\n",
       "      <th>BreedingZone</th>\n",
       "      <th>EvaluationZone</th>\n",
       "      <th>HetGrp</th>\n",
       "      <th>type</th>\n",
       "      <th>actual_embryos</th>\n",
       "      <th>actual_haploid_embryos</th>\n",
       "      <th>Hap_rate</th>\n",
       "      <th>actual_Elle_pots</th>\n",
       "      <th>actual_D0_plants</th>\n",
       "      <th>Trans_rate</th>\n",
       "      <th>actual_D0_poll</th>\n",
       "      <th>Poll_rate</th>\n",
       "    </tr>\n",
       "  </thead>\n",
       "  <tbody>\n",
       "    <tr>\n",
       "      <th>0</th>\n",
       "      <td>AZ</td>\n",
       "      <td>178950</td>\n",
       "      <td>2015</td>\n",
       "      <td>1</td>\n",
       "      <td>67133087</td>\n",
       "      <td>TE</td>\n",
       "      <td>NAWN</td>\n",
       "      <td>SSS</td>\n",
       "      <td>S</td>\n",
       "      <td>9425</td>\n",
       "      <td>1308</td>\n",
       "      <td>14</td>\n",
       "      <td>599.0</td>\n",
       "      <td>537.0</td>\n",
       "      <td>90.0</td>\n",
       "      <td>256.0</td>\n",
       "      <td>48.0</td>\n",
       "    </tr>\n",
       "    <tr>\n",
       "      <th>1</th>\n",
       "      <td>AZ</td>\n",
       "      <td>178955</td>\n",
       "      <td>2015</td>\n",
       "      <td>1</td>\n",
       "      <td>67133419</td>\n",
       "      <td>TE</td>\n",
       "      <td>NAWN</td>\n",
       "      <td>SSS</td>\n",
       "      <td>S</td>\n",
       "      <td>8029</td>\n",
       "      <td>1206</td>\n",
       "      <td>15</td>\n",
       "      <td>699.0</td>\n",
       "      <td>606.0</td>\n",
       "      <td>87.0</td>\n",
       "      <td>299.0</td>\n",
       "      <td>49.0</td>\n",
       "    </tr>\n",
       "    <tr>\n",
       "      <th>2</th>\n",
       "      <td>AZ</td>\n",
       "      <td>178969</td>\n",
       "      <td>2015</td>\n",
       "      <td>1</td>\n",
       "      <td>67226512</td>\n",
       "      <td>TE</td>\n",
       "      <td>NAWN</td>\n",
       "      <td>NSS</td>\n",
       "      <td>O</td>\n",
       "      <td>3373</td>\n",
       "      <td>976</td>\n",
       "      <td>29</td>\n",
       "      <td>466.0</td>\n",
       "      <td>270.0</td>\n",
       "      <td>58.0</td>\n",
       "      <td>196.0</td>\n",
       "      <td>73.0</td>\n",
       "    </tr>\n",
       "    <tr>\n",
       "      <th>3</th>\n",
       "      <td>AZ</td>\n",
       "      <td>178971</td>\n",
       "      <td>2015</td>\n",
       "      <td>1</td>\n",
       "      <td>67226501</td>\n",
       "      <td>TE</td>\n",
       "      <td>NAWN</td>\n",
       "      <td>NSS</td>\n",
       "      <td>O</td>\n",
       "      <td>4227</td>\n",
       "      <td>1189</td>\n",
       "      <td>28</td>\n",
       "      <td>518.0</td>\n",
       "      <td>310.0</td>\n",
       "      <td>60.0</td>\n",
       "      <td>184.0</td>\n",
       "      <td>59.0</td>\n",
       "    </tr>\n",
       "    <tr>\n",
       "      <th>4</th>\n",
       "      <td>AZ</td>\n",
       "      <td>178973</td>\n",
       "      <td>2015</td>\n",
       "      <td>1</td>\n",
       "      <td>67226717</td>\n",
       "      <td>TE</td>\n",
       "      <td>NAWN</td>\n",
       "      <td>NSS</td>\n",
       "      <td>O</td>\n",
       "      <td>5360</td>\n",
       "      <td>1277</td>\n",
       "      <td>24</td>\n",
       "      <td>623.0</td>\n",
       "      <td>516.0</td>\n",
       "      <td>83.0</td>\n",
       "      <td>286.0</td>\n",
       "      <td>55.0</td>\n",
       "    </tr>\n",
       "  </tbody>\n",
       "</table>\n",
       "</div>"
      ],
      "text/plain": [
       "  Execution_site  request_id  year quarter     GE_ID BreedingZone  \\\n",
       "0             AZ      178950  2015       1  67133087           TE   \n",
       "1             AZ      178955  2015       1  67133419           TE   \n",
       "2             AZ      178969  2015       1  67226512           TE   \n",
       "3             AZ      178971  2015       1  67226501           TE   \n",
       "4             AZ      178973  2015       1  67226717           TE   \n",
       "\n",
       "  EvaluationZone HetGrp type  actual_embryos  actual_haploid_embryos  \\\n",
       "0           NAWN    SSS    S            9425                    1308   \n",
       "1           NAWN    SSS    S            8029                    1206   \n",
       "2           NAWN    NSS    O            3373                     976   \n",
       "3           NAWN    NSS    O            4227                    1189   \n",
       "4           NAWN    NSS    O            5360                    1277   \n",
       "\n",
       "   Hap_rate  actual_Elle_pots  actual_D0_plants  Trans_rate  actual_D0_poll  \\\n",
       "0        14             599.0             537.0        90.0           256.0   \n",
       "1        15             699.0             606.0        87.0           299.0   \n",
       "2        29             466.0             270.0        58.0           196.0   \n",
       "3        28             518.0             310.0        60.0           184.0   \n",
       "4        24             623.0             516.0        83.0           286.0   \n",
       "\n",
       "   Poll_rate  \n",
       "0       48.0  \n",
       "1       49.0  \n",
       "2       73.0  \n",
       "3       59.0  \n",
       "4       55.0  "
      ]
     },
     "execution_count": 82,
     "metadata": {},
     "output_type": "execute_result"
    }
   ],
   "source": [
    "## access 1st 5 rows of dataframe\n",
    "data.iloc[0:5]"
   ]
  },
  {
   "cell_type": "code",
   "execution_count": null,
   "id": "6d7e5669",
   "metadata": {},
   "outputs": [],
   "source": []
  },
  {
   "cell_type": "markdown",
   "id": "2ff2d0bb",
   "metadata": {},
   "source": [
    "# 2 Data wrangling (Cleaning, transforming, and visualizing)\n",
    "\n",
    "Data wrangling addresses following questions\n",
    "\n",
    "Do you think you have the data you need to tackle the desired question?\n",
    "Have you identified the required target value? Hap_rate\n",
    "Do you have potentially useful features?\n",
    "Do you have any fundamental issues with the data? "
   ]
  },
  {
   "cell_type": "markdown",
   "id": "6c3eaaac",
   "metadata": {},
   "source": [
    "# 2.1. Exploring data"
   ]
  },
  {
   "cell_type": "code",
   "execution_count": 83,
   "id": "a44311b5",
   "metadata": {},
   "outputs": [
    {
     "data": {
      "text/html": [
       "<div>\n",
       "<style scoped>\n",
       "    .dataframe tbody tr th:only-of-type {\n",
       "        vertical-align: middle;\n",
       "    }\n",
       "\n",
       "    .dataframe tbody tr th {\n",
       "        vertical-align: top;\n",
       "    }\n",
       "\n",
       "    .dataframe thead th {\n",
       "        text-align: right;\n",
       "    }\n",
       "</style>\n",
       "<table border=\"1\" class=\"dataframe\">\n",
       "  <thead>\n",
       "    <tr style=\"text-align: right;\">\n",
       "      <th></th>\n",
       "      <th>Site</th>\n",
       "      <th>Request_id</th>\n",
       "      <th>Year</th>\n",
       "      <th>Quarter</th>\n",
       "      <th>GE_ID</th>\n",
       "      <th>BreedingZone</th>\n",
       "      <th>EvaluationZone</th>\n",
       "      <th>HetGrp</th>\n",
       "      <th>Type</th>\n",
       "      <th>Actual_embryos</th>\n",
       "      <th>Actual_haploid_embryos</th>\n",
       "      <th>Hap_rate</th>\n",
       "      <th>Actual_Elle_pots</th>\n",
       "      <th>Actual_D0_plants</th>\n",
       "      <th>Trans_rate</th>\n",
       "      <th>Actual_D0_poll</th>\n",
       "      <th>Poll_rate</th>\n",
       "    </tr>\n",
       "  </thead>\n",
       "  <tbody>\n",
       "    <tr>\n",
       "      <th>0</th>\n",
       "      <td>AZ</td>\n",
       "      <td>178950</td>\n",
       "      <td>2015</td>\n",
       "      <td>1</td>\n",
       "      <td>67133087</td>\n",
       "      <td>TE</td>\n",
       "      <td>NAWN</td>\n",
       "      <td>SSS</td>\n",
       "      <td>S</td>\n",
       "      <td>9425</td>\n",
       "      <td>1308</td>\n",
       "      <td>14</td>\n",
       "      <td>599.0</td>\n",
       "      <td>537.0</td>\n",
       "      <td>90.0</td>\n",
       "      <td>256.0</td>\n",
       "      <td>48.0</td>\n",
       "    </tr>\n",
       "    <tr>\n",
       "      <th>1</th>\n",
       "      <td>AZ</td>\n",
       "      <td>178955</td>\n",
       "      <td>2015</td>\n",
       "      <td>1</td>\n",
       "      <td>67133419</td>\n",
       "      <td>TE</td>\n",
       "      <td>NAWN</td>\n",
       "      <td>SSS</td>\n",
       "      <td>S</td>\n",
       "      <td>8029</td>\n",
       "      <td>1206</td>\n",
       "      <td>15</td>\n",
       "      <td>699.0</td>\n",
       "      <td>606.0</td>\n",
       "      <td>87.0</td>\n",
       "      <td>299.0</td>\n",
       "      <td>49.0</td>\n",
       "    </tr>\n",
       "    <tr>\n",
       "      <th>2</th>\n",
       "      <td>AZ</td>\n",
       "      <td>178969</td>\n",
       "      <td>2015</td>\n",
       "      <td>1</td>\n",
       "      <td>67226512</td>\n",
       "      <td>TE</td>\n",
       "      <td>NAWN</td>\n",
       "      <td>NSS</td>\n",
       "      <td>O</td>\n",
       "      <td>3373</td>\n",
       "      <td>976</td>\n",
       "      <td>29</td>\n",
       "      <td>466.0</td>\n",
       "      <td>270.0</td>\n",
       "      <td>58.0</td>\n",
       "      <td>196.0</td>\n",
       "      <td>73.0</td>\n",
       "    </tr>\n",
       "    <tr>\n",
       "      <th>3</th>\n",
       "      <td>AZ</td>\n",
       "      <td>178971</td>\n",
       "      <td>2015</td>\n",
       "      <td>1</td>\n",
       "      <td>67226501</td>\n",
       "      <td>TE</td>\n",
       "      <td>NAWN</td>\n",
       "      <td>NSS</td>\n",
       "      <td>O</td>\n",
       "      <td>4227</td>\n",
       "      <td>1189</td>\n",
       "      <td>28</td>\n",
       "      <td>518.0</td>\n",
       "      <td>310.0</td>\n",
       "      <td>60.0</td>\n",
       "      <td>184.0</td>\n",
       "      <td>59.0</td>\n",
       "    </tr>\n",
       "    <tr>\n",
       "      <th>4</th>\n",
       "      <td>AZ</td>\n",
       "      <td>178973</td>\n",
       "      <td>2015</td>\n",
       "      <td>1</td>\n",
       "      <td>67226717</td>\n",
       "      <td>TE</td>\n",
       "      <td>NAWN</td>\n",
       "      <td>NSS</td>\n",
       "      <td>O</td>\n",
       "      <td>5360</td>\n",
       "      <td>1277</td>\n",
       "      <td>24</td>\n",
       "      <td>623.0</td>\n",
       "      <td>516.0</td>\n",
       "      <td>83.0</td>\n",
       "      <td>286.0</td>\n",
       "      <td>55.0</td>\n",
       "    </tr>\n",
       "  </tbody>\n",
       "</table>\n",
       "</div>"
      ],
      "text/plain": [
       "  Site  Request_id  Year Quarter     GE_ID BreedingZone EvaluationZone HetGrp  \\\n",
       "0   AZ      178950  2015       1  67133087           TE           NAWN    SSS   \n",
       "1   AZ      178955  2015       1  67133419           TE           NAWN    SSS   \n",
       "2   AZ      178969  2015       1  67226512           TE           NAWN    NSS   \n",
       "3   AZ      178971  2015       1  67226501           TE           NAWN    NSS   \n",
       "4   AZ      178973  2015       1  67226717           TE           NAWN    NSS   \n",
       "\n",
       "  Type  Actual_embryos  Actual_haploid_embryos  Hap_rate  Actual_Elle_pots  \\\n",
       "0    S            9425                    1308        14             599.0   \n",
       "1    S            8029                    1206        15             699.0   \n",
       "2    O            3373                     976        29             466.0   \n",
       "3    O            4227                    1189        28             518.0   \n",
       "4    O            5360                    1277        24             623.0   \n",
       "\n",
       "   Actual_D0_plants  Trans_rate  Actual_D0_poll  Poll_rate  \n",
       "0             537.0        90.0           256.0       48.0  \n",
       "1             606.0        87.0           299.0       49.0  \n",
       "2             270.0        58.0           196.0       73.0  \n",
       "3             310.0        60.0           184.0       59.0  \n",
       "4             516.0        83.0           286.0       55.0  "
      ]
     },
     "execution_count": 83,
     "metadata": {},
     "output_type": "execute_result"
    }
   ],
   "source": [
    "# rename column name\n",
    "data.rename(columns={'Execution_site':'Site','request_id':'Request_id','year':'Year','quarter':'Quarter','type':'Type','actual_embryos':'Actual_embryos','actual_haploid_embryos':'Actual_haploid_embryos','actual_Elle_pots':'Actual_Elle_pots','actual_D0_plants':'Actual_D0_plants','actual_D0_poll':'Actual_D0_poll'},inplace=True)\n",
    "data.head()"
   ]
  },
  {
   "cell_type": "code",
   "execution_count": 84,
   "id": "ea5088da",
   "metadata": {},
   "outputs": [
    {
     "data": {
      "text/plain": [
       "Index(['Site', 'Request_id', 'Year', 'Quarter', 'GE_ID', 'BreedingZone',\n",
       "       'EvaluationZone', 'HetGrp', 'Type', 'Actual_embryos',\n",
       "       'Actual_haploid_embryos', 'Hap_rate', 'Actual_Elle_pots',\n",
       "       'Actual_D0_plants', 'Trans_rate', 'Actual_D0_poll', 'Poll_rate'],\n",
       "      dtype='object')"
      ]
     },
     "execution_count": 84,
     "metadata": {},
     "output_type": "execute_result"
    }
   ],
   "source": [
    "data.columns"
   ]
  },
  {
   "cell_type": "markdown",
   "id": "ea154f27",
   "metadata": {},
   "source": [
    "# 2.2. Cleaning data"
   ]
  },
  {
   "cell_type": "markdown",
   "id": "a6fd755c",
   "metadata": {},
   "source": [
    "## 2.2.1 Data Cleansing: Handling missing values"
   ]
  },
  {
   "cell_type": "code",
   "execution_count": 85,
   "id": "1ee897d3",
   "metadata": {},
   "outputs": [
    {
     "data": {
      "text/plain": [
       "Poll_rate                 24\n",
       "Actual_D0_poll            24\n",
       "Trans_rate                20\n",
       "Actual_D0_plants          20\n",
       "Actual_Elle_pots           4\n",
       "BreedingZone               0\n",
       "Request_id                 0\n",
       "Year                       0\n",
       "Quarter                    0\n",
       "GE_ID                      0\n",
       "Type                       0\n",
       "EvaluationZone             0\n",
       "HetGrp                     0\n",
       "Actual_embryos             0\n",
       "Actual_haploid_embryos     0\n",
       "Hap_rate                   0\n",
       "Site                       0\n",
       "dtype: int64"
      ]
     },
     "execution_count": 85,
     "metadata": {},
     "output_type": "execute_result"
    }
   ],
   "source": [
    "data.isnull().sum().sort_values(ascending=False)"
   ]
  },
  {
   "cell_type": "markdown",
   "id": "6831863b",
   "metadata": {},
   "source": [
    "## 2.2.2 Imputer missing data with median of the column"
   ]
  },
  {
   "cell_type": "code",
   "execution_count": 86,
   "id": "a5d29b89",
   "metadata": {},
   "outputs": [
    {
     "data": {
      "text/plain": [
       "Site                      0\n",
       "Request_id                0\n",
       "Year                      0\n",
       "Quarter                   0\n",
       "GE_ID                     0\n",
       "BreedingZone              0\n",
       "EvaluationZone            0\n",
       "HetGrp                    0\n",
       "Type                      0\n",
       "Actual_embryos            0\n",
       "Actual_haploid_embryos    0\n",
       "Hap_rate                  0\n",
       "Actual_Elle_pots          0\n",
       "Actual_D0_plants          0\n",
       "Trans_rate                0\n",
       "Actual_D0_poll            0\n",
       "Poll_rate                 0\n",
       "dtype: int64"
      ]
     },
     "execution_count": 86,
     "metadata": {},
     "output_type": "execute_result"
    }
   ],
   "source": [
    "# import libraries\n",
    "import pandas as pd\n",
    "from sklearn.impute import SimpleImputer\n",
    "\n",
    "# define and fit imputer\n",
    "imputer = SimpleImputer(strategy='median')\n",
    "\n",
    "# fit imputer on the dataset for column 'Age'\n",
    "imputer = imputer.fit(data[['Actual_Elle_pots','Actual_D0_plants','Trans_rate','Actual_D0_poll','Poll_rate']])\n",
    "\n",
    "# impute all missing value in column 'Car', 'BuildingArea', and 'YearBuilt'\n",
    "data[['Actual_Elle_pots','Actual_D0_plants','Trans_rate','Actual_D0_poll','Poll_rate']] = imputer.transform(data[['Actual_Elle_pots','Actual_D0_plants','Trans_rate','Actual_D0_poll','Poll_rate']])\n",
    "data.isnull().sum()"
   ]
  },
  {
   "cell_type": "markdown",
   "id": "70faa32a",
   "metadata": {},
   "source": [
    "## 2.2.2 Replace missing data with mean of the column"
   ]
  },
  {
   "cell_type": "code",
   "execution_count": 87,
   "id": "c979f0db",
   "metadata": {},
   "outputs": [
    {
     "data": {
      "text/plain": [
       "Site                      0\n",
       "Request_id                0\n",
       "Year                      0\n",
       "Quarter                   0\n",
       "GE_ID                     0\n",
       "BreedingZone              0\n",
       "EvaluationZone            0\n",
       "HetGrp                    0\n",
       "Type                      0\n",
       "Actual_embryos            0\n",
       "Actual_haploid_embryos    0\n",
       "Hap_rate                  0\n",
       "Actual_Elle_pots          0\n",
       "Actual_D0_plants          0\n",
       "Trans_rate                0\n",
       "Actual_D0_poll            0\n",
       "Poll_rate                 0\n",
       "dtype: int64"
      ]
     },
     "execution_count": 87,
     "metadata": {},
     "output_type": "execute_result"
    }
   ],
   "source": [
    "# columns having nan values\n",
    "data['Actual_Elle_pots'].fillna(int(data['Actual_Elle_pots'].mean()), inplace=True)\n",
    "data['Actual_D0_plants'].fillna(int(data['Actual_D0_plants'].mean()), inplace=True)\n",
    "data['Trans_rate'].fillna(int(data['Trans_rate'].mean()), inplace=True)\n",
    "data['Actual_D0_poll'].fillna(int(data['Actual_D0_poll'].mean()), inplace=True)\n",
    "data['Poll_rate'].fillna(int(data['Poll_rate'].mean()), inplace=True)\n",
    "data.isnull().sum()\n",
    "\n",
    "## notice that no missing values are there"
   ]
  },
  {
   "cell_type": "code",
   "execution_count": 88,
   "id": "006251e1",
   "metadata": {},
   "outputs": [
    {
     "data": {
      "text/plain": [
       "Site                      14811\n",
       "Request_id                14811\n",
       "Year                      14811\n",
       "Quarter                   14811\n",
       "GE_ID                     14811\n",
       "BreedingZone              14811\n",
       "EvaluationZone            14811\n",
       "HetGrp                    14811\n",
       "Type                      14811\n",
       "Actual_embryos            14811\n",
       "Actual_haploid_embryos    14811\n",
       "Hap_rate                  14811\n",
       "Actual_Elle_pots          14811\n",
       "Actual_D0_plants          14811\n",
       "Trans_rate                14811\n",
       "Actual_D0_poll            14811\n",
       "Poll_rate                 14811\n",
       "dtype: int64"
      ]
     },
     "execution_count": 88,
     "metadata": {},
     "output_type": "execute_result"
    }
   ],
   "source": [
    "## count col values, notice all columns have equal # of observations\n",
    "data.count()"
   ]
  },
  {
   "cell_type": "code",
   "execution_count": 90,
   "id": "d52978e8",
   "metadata": {},
   "outputs": [
    {
     "data": {
      "text/plain": [
       "Site                          2\n",
       "Request_id                14811\n",
       "Year                          5\n",
       "Quarter                       4\n",
       "GE_ID                     11853\n",
       "BreedingZone                  4\n",
       "EvaluationZone               13\n",
       "HetGrp                        2\n",
       "Type                          4\n",
       "Actual_embryos             5377\n",
       "Actual_haploid_embryos     2232\n",
       "Hap_rate                     40\n",
       "Actual_Elle_pots           1559\n",
       "Actual_D0_plants           1390\n",
       "Trans_rate                   94\n",
       "Actual_D0_poll              830\n",
       "Poll_rate                   100\n",
       "dtype: int64"
      ]
     },
     "execution_count": 90,
     "metadata": {},
     "output_type": "execute_result"
    }
   ],
   "source": [
    "# count of unique values by column.\n",
    "data.nunique()"
   ]
  },
  {
   "cell_type": "code",
   "execution_count": 91,
   "id": "b599040f",
   "metadata": {},
   "outputs": [
    {
     "name": "stdout",
     "output_type": "stream",
     "text": [
      "Site                      0.000135\n",
      "Request_id                1.000000\n",
      "Year                      0.000338\n",
      "Quarter                   0.000270\n",
      "GE_ID                     0.800284\n",
      "BreedingZone              0.000270\n",
      "EvaluationZone            0.000878\n",
      "HetGrp                    0.000135\n",
      "Type                      0.000270\n",
      "Actual_embryos            0.363041\n",
      "Actual_haploid_embryos    0.150699\n",
      "Hap_rate                  0.002701\n",
      "Actual_Elle_pots          0.105260\n",
      "Actual_D0_plants          0.093849\n",
      "Trans_rate                0.006347\n",
      "Actual_D0_poll            0.056039\n",
      "Poll_rate                 0.006752\n",
      "dtype: float64\n"
     ]
    }
   ],
   "source": [
    "# percent of unique values by column\n",
    "print(data.nunique()/data.shape[0])"
   ]
  },
  {
   "cell_type": "code",
   "execution_count": 92,
   "id": "672050da",
   "metadata": {},
   "outputs": [
    {
     "data": {
      "text/html": [
       "<div>\n",
       "<style scoped>\n",
       "    .dataframe tbody tr th:only-of-type {\n",
       "        vertical-align: middle;\n",
       "    }\n",
       "\n",
       "    .dataframe tbody tr th {\n",
       "        vertical-align: top;\n",
       "    }\n",
       "\n",
       "    .dataframe thead th {\n",
       "        text-align: right;\n",
       "    }\n",
       "</style>\n",
       "<table border=\"1\" class=\"dataframe\">\n",
       "  <thead>\n",
       "    <tr style=\"text-align: right;\">\n",
       "      <th></th>\n",
       "      <th>count</th>\n",
       "      <th>mean</th>\n",
       "      <th>std</th>\n",
       "      <th>min</th>\n",
       "      <th>25%</th>\n",
       "      <th>50%</th>\n",
       "      <th>75%</th>\n",
       "      <th>max</th>\n",
       "    </tr>\n",
       "  </thead>\n",
       "  <tbody>\n",
       "    <tr>\n",
       "      <th>Request_id</th>\n",
       "      <td>14811.0</td>\n",
       "      <td>1.663100e+05</td>\n",
       "      <td>8.154024e+04</td>\n",
       "      <td>7.0</td>\n",
       "      <td>183283.5</td>\n",
       "      <td>198042.0</td>\n",
       "      <td>217665.5</td>\n",
       "      <td>235448.0</td>\n",
       "    </tr>\n",
       "    <tr>\n",
       "      <th>GE_ID</th>\n",
       "      <td>14811.0</td>\n",
       "      <td>8.646820e+07</td>\n",
       "      <td>1.280163e+07</td>\n",
       "      <td>22627369.0</td>\n",
       "      <td>76594267.0</td>\n",
       "      <td>87797928.0</td>\n",
       "      <td>95853728.5</td>\n",
       "      <td>115611128.0</td>\n",
       "    </tr>\n",
       "    <tr>\n",
       "      <th>Actual_embryos</th>\n",
       "      <td>14811.0</td>\n",
       "      <td>4.140603e+03</td>\n",
       "      <td>1.850942e+03</td>\n",
       "      <td>7.0</td>\n",
       "      <td>2900.0</td>\n",
       "      <td>3998.0</td>\n",
       "      <td>5082.5</td>\n",
       "      <td>20902.0</td>\n",
       "    </tr>\n",
       "    <tr>\n",
       "      <th>Actual_haploid_embryos</th>\n",
       "      <td>14811.0</td>\n",
       "      <td>1.004846e+03</td>\n",
       "      <td>4.637097e+02</td>\n",
       "      <td>2.0</td>\n",
       "      <td>688.0</td>\n",
       "      <td>948.0</td>\n",
       "      <td>1231.0</td>\n",
       "      <td>5495.0</td>\n",
       "    </tr>\n",
       "    <tr>\n",
       "      <th>Hap_rate</th>\n",
       "      <td>14811.0</td>\n",
       "      <td>2.472831e+01</td>\n",
       "      <td>5.157249e+00</td>\n",
       "      <td>4.0</td>\n",
       "      <td>21.0</td>\n",
       "      <td>25.0</td>\n",
       "      <td>28.0</td>\n",
       "      <td>46.0</td>\n",
       "    </tr>\n",
       "    <tr>\n",
       "      <th>Actual_Elle_pots</th>\n",
       "      <td>14811.0</td>\n",
       "      <td>5.580673e+02</td>\n",
       "      <td>3.221798e+02</td>\n",
       "      <td>1.0</td>\n",
       "      <td>340.0</td>\n",
       "      <td>514.0</td>\n",
       "      <td>711.0</td>\n",
       "      <td>3797.0</td>\n",
       "    </tr>\n",
       "    <tr>\n",
       "      <th>Actual_D0_plants</th>\n",
       "      <td>14811.0</td>\n",
       "      <td>4.494825e+02</td>\n",
       "      <td>2.818682e+02</td>\n",
       "      <td>1.0</td>\n",
       "      <td>259.0</td>\n",
       "      <td>400.0</td>\n",
       "      <td>576.0</td>\n",
       "      <td>3768.0</td>\n",
       "    </tr>\n",
       "    <tr>\n",
       "      <th>Trans_rate</th>\n",
       "      <td>14811.0</td>\n",
       "      <td>7.978995e+01</td>\n",
       "      <td>1.485669e+01</td>\n",
       "      <td>1.0</td>\n",
       "      <td>71.0</td>\n",
       "      <td>82.0</td>\n",
       "      <td>92.0</td>\n",
       "      <td>100.0</td>\n",
       "    </tr>\n",
       "    <tr>\n",
       "      <th>Actual_D0_poll</th>\n",
       "      <td>14811.0</td>\n",
       "      <td>2.351344e+02</td>\n",
       "      <td>1.532730e+02</td>\n",
       "      <td>1.0</td>\n",
       "      <td>128.0</td>\n",
       "      <td>204.0</td>\n",
       "      <td>305.5</td>\n",
       "      <td>2201.0</td>\n",
       "    </tr>\n",
       "    <tr>\n",
       "      <th>Poll_rate</th>\n",
       "      <td>14811.0</td>\n",
       "      <td>5.411282e+01</td>\n",
       "      <td>1.629610e+01</td>\n",
       "      <td>0.0</td>\n",
       "      <td>43.0</td>\n",
       "      <td>55.0</td>\n",
       "      <td>66.0</td>\n",
       "      <td>100.0</td>\n",
       "    </tr>\n",
       "  </tbody>\n",
       "</table>\n",
       "</div>"
      ],
      "text/plain": [
       "                          count          mean           std         min  \\\n",
       "Request_id              14811.0  1.663100e+05  8.154024e+04         7.0   \n",
       "GE_ID                   14811.0  8.646820e+07  1.280163e+07  22627369.0   \n",
       "Actual_embryos          14811.0  4.140603e+03  1.850942e+03         7.0   \n",
       "Actual_haploid_embryos  14811.0  1.004846e+03  4.637097e+02         2.0   \n",
       "Hap_rate                14811.0  2.472831e+01  5.157249e+00         4.0   \n",
       "Actual_Elle_pots        14811.0  5.580673e+02  3.221798e+02         1.0   \n",
       "Actual_D0_plants        14811.0  4.494825e+02  2.818682e+02         1.0   \n",
       "Trans_rate              14811.0  7.978995e+01  1.485669e+01         1.0   \n",
       "Actual_D0_poll          14811.0  2.351344e+02  1.532730e+02         1.0   \n",
       "Poll_rate               14811.0  5.411282e+01  1.629610e+01         0.0   \n",
       "\n",
       "                               25%         50%         75%          max  \n",
       "Request_id                183283.5    198042.0    217665.5     235448.0  \n",
       "GE_ID                   76594267.0  87797928.0  95853728.5  115611128.0  \n",
       "Actual_embryos              2900.0      3998.0      5082.5      20902.0  \n",
       "Actual_haploid_embryos       688.0       948.0      1231.0       5495.0  \n",
       "Hap_rate                      21.0        25.0        28.0         46.0  \n",
       "Actual_Elle_pots             340.0       514.0       711.0       3797.0  \n",
       "Actual_D0_plants             259.0       400.0       576.0       3768.0  \n",
       "Trans_rate                    71.0        82.0        92.0        100.0  \n",
       "Actual_D0_poll               128.0       204.0       305.5       2201.0  \n",
       "Poll_rate                     43.0        55.0        66.0        100.0  "
      ]
     },
     "execution_count": 92,
     "metadata": {},
     "output_type": "execute_result"
    }
   ],
   "source": [
    "# range of values per column\n",
    "data.describe().T"
   ]
  },
  {
   "cell_type": "code",
   "execution_count": 94,
   "id": "d436c850",
   "metadata": {},
   "outputs": [
    {
     "data": {
      "image/png": "[encoded data removed]",
      "text/plain": [
       "<Figure size 432x288 with 2 Axes>"
      ]
     },
     "metadata": {
      "needs_background": "light"
     },
     "output_type": "display_data"
    }
   ],
   "source": [
    "corr_heat_map=sns.heatmap(data.corr(),cmap='YlGnBu', annot=True )\n",
    "plt.show()\n",
    "\n",
    "\n",
    "#### correlation heat map is generated only for numeric variable/columns"
   ]
  },
  {
   "cell_type": "code",
   "execution_count": 97,
   "id": "49fd319a",
   "metadata": {},
   "outputs": [
    {
     "data": {
      "image/png": "[encoded data removed]",
      "text/plain": [
       "<Figure size 432x288 with 1 Axes>"
      ]
     },
     "metadata": {
      "needs_background": "light"
     },
     "output_type": "display_data"
    },
    {
     "data": {
      "image/png": "[encoded data removed]",
      "text/plain": [
       "<Figure size 432x288 with 1 Axes>"
      ]
     },
     "metadata": {
      "needs_background": "light"
     },
     "output_type": "display_data"
    },
    {
     "data": {
      "image/png": "[encoded data removed]",
      "text/plain": [
       "<Figure size 432x288 with 1 Axes>"
      ]
     },
     "metadata": {
      "needs_background": "light"
     },
     "output_type": "display_data"
    },
    {
     "data": {
      "image/png": "[encoded data removed]",
      "text/plain": [
       "<Figure size 432x288 with 1 Axes>"
      ]
     },
     "metadata": {
      "needs_background": "light"
     },
     "output_type": "display_data"
    },
    {
     "data": {
      "image/png": "[encoded data removed]",
      "text/plain": [
       "<Figure size 432x288 with 1 Axes>"
      ]
     },
     "metadata": {
      "needs_background": "light"
     },
     "output_type": "display_data"
    },
    {
     "data": {
      "image/png": "[encoded data removed]",
      "text/plain": [
       "<Figure size 432x288 with 1 Axes>"
      ]
     },
     "metadata": {
      "needs_background": "light"
     },
     "output_type": "display_data"
    },
    {
     "data": {
      "image/png": "[encoded data removed]",
      "text/plain": [
       "<Figure size 432x288 with 1 Axes>"
      ]
     },
     "metadata": {
      "needs_background": "light"
     },
     "output_type": "display_data"
    },
    {
     "data": {
      "image/png": "[encoded data removed]",
      "text/plain": [
       "<Figure size 432x288 with 1 Axes>"
      ]
     },
     "metadata": {
      "needs_background": "light"
     },
     "output_type": "display_data"
    },
    {
     "data": {
      "image/png": "[encoded data removed]",
      "text/plain": [
       "<Figure size 432x288 with 1 Axes>"
      ]
     },
     "metadata": {
      "needs_background": "light"
     },
     "output_type": "display_data"
    },
    {
     "data": {
      "image/png": "[encoded data removed]",
      "text/plain": [
       "<Figure size 432x288 with 1 Axes>"
      ]
     },
     "metadata": {
      "needs_background": "light"
     },
     "output_type": "display_data"
    }
   ],
   "source": [
    "# plot box plot for numeric columns\n",
    "\n",
    "#Use 'select_dtypes` method to select columns of dtype 'object'\n",
    "num_fea=data.select_dtypes(exclude='object').copy()\n",
    "num_fea.head()\n",
    "\n",
    "for i in num_fea:\n",
    "    plt.figure()\n",
    "    data[i].plot.box()\n",
    "    plt.show\n",
    "plt.show()"
   ]
  },
  {
   "cell_type": "markdown",
   "id": "4c03d931",
   "metadata": {},
   "source": [
    "# 2.3 Handling Outliers"
   ]
  },
  {
   "cell_type": "markdown",
   "id": "9dbabab2",
   "metadata": {},
   "source": [
    "## original dataset contains 14811 rows and 17 columns"
   ]
  },
  {
   "cell_type": "code",
   "execution_count": 50,
   "id": "afef9a88",
   "metadata": {},
   "outputs": [
    {
     "data": {
      "text/plain": [
       "(14782, 17)"
      ]
     },
     "execution_count": 50,
     "metadata": {},
     "output_type": "execute_result"
    }
   ],
   "source": [
    "#Dropping the outlier rows with standard deviation\n",
    "factor = 3\n",
    "upper_lim = data['Hap_rate'].mean () + data['Hap_rate'].std () * factor\n",
    "lower_lim = data['Hap_rate'].mean () - data['Hap_rate'].std () * factor\n",
    "\n",
    "data = data[(data['Hap_rate'] < upper_lim) & (data['Hap_rate'] > lower_lim)]\n",
    "data.shape"
   ]
  },
  {
   "cell_type": "code",
   "execution_count": 51,
   "id": "55505717",
   "metadata": {},
   "outputs": [
    {
     "data": {
      "text/plain": [
       "(12596, 17)"
      ]
     },
     "execution_count": 51,
     "metadata": {},
     "output_type": "execute_result"
    }
   ],
   "source": [
    "#Dropping the outlier rows with Percentiles\n",
    "upper_lim = data['Hap_rate'].quantile(.95)\n",
    "lower_lim = data['Hap_rate'].quantile(.05)\n",
    "\n",
    "data = data[(data['Hap_rate'] < upper_lim) & (data['Hap_rate'] > lower_lim)]\n",
    "data.shape"
   ]
  },
  {
   "cell_type": "code",
   "execution_count": 52,
   "id": "334aa6a5",
   "metadata": {},
   "outputs": [
    {
     "ename": "SyntaxError",
     "evalue": "invalid syntax (<ipython-input-52-78e6b681464b>, line 4)",
     "output_type": "error",
     "traceback": [
      "\u001b[1;36m  File \u001b[1;32m\"<ipython-input-52-78e6b681464b>\"\u001b[1;36m, line \u001b[1;32m4\u001b[0m\n\u001b[1;33m    data.loc[(data['Hap_rate'] > upper_lim),data['Hap_rate'] = upper_lim\u001b[0m\n\u001b[1;37m                                                             ^\u001b[0m\n\u001b[1;31mSyntaxError\u001b[0m\u001b[1;31m:\u001b[0m invalid syntax\n"
     ]
    }
   ],
   "source": [
    "#Capping the outlier rows with Percentiles\n",
    "upper_lim = data['Hap_rate'].quantile(.95)\n",
    "lower_lim = data['Hap_rate'].quantile(.05)\n",
    "data.loc[(data['Hap_rate'] > upper_lim),data['Hap_rate'] = upper_lim\n",
    "data.loc[(data['Hap_rate'] < lower_lim),data['Hap_rate'] = lower_lim"
   ]
  },
  {
   "cell_type": "code",
   "execution_count": 53,
   "id": "342695f4",
   "metadata": {},
   "outputs": [
    {
     "name": "stdout",
     "output_type": "stream",
     "text": [
      "outliers in the dataset is: []\n"
     ]
    }
   ],
   "source": [
    "# use IQR to create limit\n",
    "q1 = data['Hap_rate'].quantile(0.25)\n",
    "q3 = data['Hap_rate'].quantile(0.75)\n",
    "iqr = q3-q1\n",
    "\n",
    "# define lower and upper bound\n",
    "low_lim = q1 - 1.5*iqr\n",
    "up_lim = q3 + 1.5*iqr\n",
    "\n",
    "# trim the outliers on feature 'Landsize' to lower and upper bound\n",
    "#X.loc[(X['Landsize']>upper_bound),'Landsize'] = upper_bound\n",
    "#X.loc[(X['Landsize']<lower_bound),'Landsize'] = lower_bound\n",
    "\n",
    "#data.loc[(data['Hap_rate']>upper_bound),'Hap_rate']=upper_bound\n",
    "#data.loc[(data['Hap_rate']<lower_bound),'Hap_rate']=lower_bound\n",
    "\n",
    "col=data['Hap_rate']\n",
    "outlier =[]\n",
    "for x in col:\n",
    "    if ((x> up_lim) or (x<low_lim)):\n",
    "         outlier.append(x)\n",
    "print('outliers in the dataset is:', outlier)"
   ]
  },
  {
   "cell_type": "code",
   "execution_count": 54,
   "id": "8834a763",
   "metadata": {},
   "outputs": [],
   "source": [
    "## customize outlier detection across features"
   ]
  },
  {
   "cell_type": "code",
   "execution_count": 55,
   "id": "e66f9533",
   "metadata": {},
   "outputs": [],
   "source": [
    "col=['Hap_rate','Request_id','GE_ID','Actual_embryos','Actual_haploid_embryos','Actual_Elle_pots','Actual_D0_plants','Trans_rate','Actual_D0_poll','Poll_rate']\n",
    "for i in col:\n",
    "   # use IQR to create limit\n",
    "    q1 = data[i].quantile(0.25)\n",
    "    q3 = data[i].quantile(0.75)\n",
    "    iqr = q3-q1\n",
    "    #print(iqr)\n",
    "    \n",
    "    # define lower and upper bound\n",
    "    low_lim = q1 - 1.5*iqr\n",
    "    up_lim = q3 + 1.5*iqr\n",
    "    #print(low_lim)\n",
    "    #print(up_lim)\n",
    "    outlier=[]\n",
    "    for val in data[i]:\n",
    "        #print(val)\n",
    "        if ((val> up_lim) or (val<low_lim)):\n",
    "         outlier.append(val)\n",
    "    #print(' outlier in the dataset is', outlier)\n",
    "        \n",
    "        \n",
    "    "
   ]
  },
  {
   "cell_type": "code",
   "execution_count": 74,
   "id": "384faaca",
   "metadata": {},
   "outputs": [],
   "source": [
    "data.to_csv('C:/Users/gellima/Desktop/Springboard_DScience/Data_Sci_Inhouse/data_wrangled1.csv', index=None)"
   ]
  },
  {
   "cell_type": "code",
   "execution_count": 75,
   "id": "857ec900",
   "metadata": {},
   "outputs": [
    {
     "data": {
      "text/plain": [
       "(14811, 17)"
      ]
     },
     "execution_count": 75,
     "metadata": {},
     "output_type": "execute_result"
    }
   ],
   "source": [
    "new_data=pd.read_csv('data_wrangled1.csv')\n",
    "new_data.shape"
   ]
  },
  {
   "cell_type": "code",
   "execution_count": 77,
   "id": "b2e5bd15",
   "metadata": {},
   "outputs": [
    {
     "data": {
      "text/html": [
       "<div>\n",
       "<style scoped>\n",
       "    .dataframe tbody tr th:only-of-type {\n",
       "        vertical-align: middle;\n",
       "    }\n",
       "\n",
       "    .dataframe tbody tr th {\n",
       "        vertical-align: top;\n",
       "    }\n",
       "\n",
       "    .dataframe thead th {\n",
       "        text-align: right;\n",
       "    }\n",
       "</style>\n",
       "<table border=\"1\" class=\"dataframe\">\n",
       "  <thead>\n",
       "    <tr style=\"text-align: right;\">\n",
       "      <th></th>\n",
       "      <th>Site</th>\n",
       "      <th>Request_id</th>\n",
       "      <th>Year</th>\n",
       "      <th>Quarter</th>\n",
       "      <th>GE_ID</th>\n",
       "      <th>BreedingZone</th>\n",
       "      <th>EvaluationZone</th>\n",
       "      <th>HetGrp</th>\n",
       "      <th>Type</th>\n",
       "      <th>Actual_embryos</th>\n",
       "      <th>Actual_haploid_embryos</th>\n",
       "      <th>Hap_rate</th>\n",
       "      <th>Actual_Elle_pots</th>\n",
       "      <th>Actual_D0_plants</th>\n",
       "      <th>Trans_rate</th>\n",
       "      <th>Actual_D0_poll</th>\n",
       "      <th>Poll_rate</th>\n",
       "    </tr>\n",
       "  </thead>\n",
       "  <tbody>\n",
       "    <tr>\n",
       "      <th>0</th>\n",
       "      <td>AZ</td>\n",
       "      <td>178950</td>\n",
       "      <td>2015</td>\n",
       "      <td>1</td>\n",
       "      <td>67133087</td>\n",
       "      <td>TE</td>\n",
       "      <td>NAWN</td>\n",
       "      <td>SSS</td>\n",
       "      <td>S</td>\n",
       "      <td>9425</td>\n",
       "      <td>1308</td>\n",
       "      <td>14</td>\n",
       "      <td>599.0</td>\n",
       "      <td>537.0</td>\n",
       "      <td>90.0</td>\n",
       "      <td>256.0</td>\n",
       "      <td>48.0</td>\n",
       "    </tr>\n",
       "    <tr>\n",
       "      <th>1</th>\n",
       "      <td>AZ</td>\n",
       "      <td>178955</td>\n",
       "      <td>2015</td>\n",
       "      <td>1</td>\n",
       "      <td>67133419</td>\n",
       "      <td>TE</td>\n",
       "      <td>NAWN</td>\n",
       "      <td>SSS</td>\n",
       "      <td>S</td>\n",
       "      <td>8029</td>\n",
       "      <td>1206</td>\n",
       "      <td>15</td>\n",
       "      <td>699.0</td>\n",
       "      <td>606.0</td>\n",
       "      <td>87.0</td>\n",
       "      <td>299.0</td>\n",
       "      <td>49.0</td>\n",
       "    </tr>\n",
       "    <tr>\n",
       "      <th>2</th>\n",
       "      <td>AZ</td>\n",
       "      <td>178969</td>\n",
       "      <td>2015</td>\n",
       "      <td>1</td>\n",
       "      <td>67226512</td>\n",
       "      <td>TE</td>\n",
       "      <td>NAWN</td>\n",
       "      <td>NSS</td>\n",
       "      <td>O</td>\n",
       "      <td>3373</td>\n",
       "      <td>976</td>\n",
       "      <td>29</td>\n",
       "      <td>466.0</td>\n",
       "      <td>270.0</td>\n",
       "      <td>58.0</td>\n",
       "      <td>196.0</td>\n",
       "      <td>73.0</td>\n",
       "    </tr>\n",
       "    <tr>\n",
       "      <th>3</th>\n",
       "      <td>AZ</td>\n",
       "      <td>178971</td>\n",
       "      <td>2015</td>\n",
       "      <td>1</td>\n",
       "      <td>67226501</td>\n",
       "      <td>TE</td>\n",
       "      <td>NAWN</td>\n",
       "      <td>NSS</td>\n",
       "      <td>O</td>\n",
       "      <td>4227</td>\n",
       "      <td>1189</td>\n",
       "      <td>28</td>\n",
       "      <td>518.0</td>\n",
       "      <td>310.0</td>\n",
       "      <td>60.0</td>\n",
       "      <td>184.0</td>\n",
       "      <td>59.0</td>\n",
       "    </tr>\n",
       "    <tr>\n",
       "      <th>4</th>\n",
       "      <td>AZ</td>\n",
       "      <td>178973</td>\n",
       "      <td>2015</td>\n",
       "      <td>1</td>\n",
       "      <td>67226717</td>\n",
       "      <td>TE</td>\n",
       "      <td>NAWN</td>\n",
       "      <td>NSS</td>\n",
       "      <td>O</td>\n",
       "      <td>5360</td>\n",
       "      <td>1277</td>\n",
       "      <td>24</td>\n",
       "      <td>623.0</td>\n",
       "      <td>516.0</td>\n",
       "      <td>83.0</td>\n",
       "      <td>286.0</td>\n",
       "      <td>55.0</td>\n",
       "    </tr>\n",
       "  </tbody>\n",
       "</table>\n",
       "</div>"
      ],
      "text/plain": [
       "  Site  Request_id  Year  Quarter     GE_ID BreedingZone EvaluationZone  \\\n",
       "0   AZ      178950  2015        1  67133087           TE           NAWN   \n",
       "1   AZ      178955  2015        1  67133419           TE           NAWN   \n",
       "2   AZ      178969  2015        1  67226512           TE           NAWN   \n",
       "3   AZ      178971  2015        1  67226501           TE           NAWN   \n",
       "4   AZ      178973  2015        1  67226717           TE           NAWN   \n",
       "\n",
       "  HetGrp Type  Actual_embryos  Actual_haploid_embryos  Hap_rate  \\\n",
       "0    SSS    S            9425                    1308        14   \n",
       "1    SSS    S            8029                    1206        15   \n",
       "2    NSS    O            3373                     976        29   \n",
       "3    NSS    O            4227                    1189        28   \n",
       "4    NSS    O            5360                    1277        24   \n",
       "\n",
       "   Actual_Elle_pots  Actual_D0_plants  Trans_rate  Actual_D0_poll  Poll_rate  \n",
       "0             599.0             537.0        90.0           256.0       48.0  \n",
       "1             699.0             606.0        87.0           299.0       49.0  \n",
       "2             466.0             270.0        58.0           196.0       73.0  \n",
       "3             518.0             310.0        60.0           184.0       59.0  \n",
       "4             623.0             516.0        83.0           286.0       55.0  "
      ]
     },
     "execution_count": 77,
     "metadata": {},
     "output_type": "execute_result"
    }
   ],
   "source": [
    "new_data.head()"
   ]
  },
  {
   "cell_type": "raw",
   "id": "12a89752",
   "metadata": {},
   "source": [
    "## Summary of DataLoading and Wrangling\n",
    "\n",
    "Initial dataset: data.csv contains 14811 rows and 17 columns with object, int and float data types. \n",
    "    - Year and Quarter features were changed to object type since their values are discrete.\n",
    "    - Columns with missing values are imputed using SimpleImputer from sklearn (and also checked with column mean values)\n",
    "    - \n",
    " Saved the cleaned dataset as data_wrangled.csv   \n"
   ]
  }
 ],
 "metadata": {
  "kernelspec": {
   "display_name": "Python 3",
   "language": "python",
   "name": "python3"
  },
  "language_info": {
   "codemirror_mode": {
    "name": "ipython",
    "version": 3
   },
   "file_extension": ".py",
   "mimetype": "text/x-python",
   "name": "python",
   "nbconvert_exporter": "python",
   "pygments_lexer": "ipython3",
   "version": "3.7.4"
  }
 },
 "nbformat": 4,
 "nbformat_minor": 5
}
