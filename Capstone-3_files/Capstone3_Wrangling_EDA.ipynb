{
 "cells": [
  {
   "cell_type": "markdown",
   "id": "ffe1e8a7",
   "metadata": {},
   "source": [
    "# 3. Wrangling, EDA "
   ]
  },
  {
   "cell_type": "code",
   "execution_count": 2,
   "id": "a8fc1bf7",
   "metadata": {},
   "outputs": [],
   "source": [
    "import pandas as pd\n",
    "import numpy as np\n",
    "import matplotlib.pyplot as plt\n",
    "import seaborn as sns"
   ]
  },
  {
   "cell_type": "markdown",
   "id": "46d502bf",
   "metadata": {},
   "source": [
    "# 3.1 Load genotyping data file"
   ]
  },
  {
   "cell_type": "code",
   "execution_count": 3,
   "id": "fc2374bd",
   "metadata": {
    "scrolled": true
   },
   "outputs": [
    {
     "data": {
      "text/html": [
       "<div>\n",
       "<style scoped>\n",
       "    .dataframe tbody tr th:only-of-type {\n",
       "        vertical-align: middle;\n",
       "    }\n",
       "\n",
       "    .dataframe tbody tr th {\n",
       "        vertical-align: top;\n",
       "    }\n",
       "\n",
       "    .dataframe thead th {\n",
       "        text-align: right;\n",
       "    }\n",
       "</style>\n",
       "<table border=\"1\" class=\"dataframe\">\n",
       "  <thead>\n",
       "    <tr style=\"text-align: right;\">\n",
       "      <th></th>\n",
       "      <th>ID</th>\n",
       "      <th>PI86046</th>\n",
       "      <th>PI90208</th>\n",
       "      <th>PI219698</th>\n",
       "      <th>PI253651A</th>\n",
       "      <th>PI347550A</th>\n",
       "      <th>PI398807</th>\n",
       "      <th>PI408055A</th>\n",
       "      <th>PI408069</th>\n",
       "      <th>PI408169A</th>\n",
       "      <th>...</th>\n",
       "      <th>PI634759</th>\n",
       "      <th>PI423967</th>\n",
       "      <th>PI587906</th>\n",
       "      <th>PI587946</th>\n",
       "      <th>PI603516</th>\n",
       "      <th>Ref_allele</th>\n",
       "      <th>Alt_allele</th>\n",
       "      <th>Het</th>\n",
       "      <th>Missing</th>\n",
       "      <th>perc_miss</th>\n",
       "    </tr>\n",
       "  </thead>\n",
       "  <tbody>\n",
       "    <tr>\n",
       "      <th>0</th>\n",
       "      <td>ss715578788</td>\n",
       "      <td>2</td>\n",
       "      <td>0</td>\n",
       "      <td>-2</td>\n",
       "      <td>0</td>\n",
       "      <td>0</td>\n",
       "      <td>0</td>\n",
       "      <td>0</td>\n",
       "      <td>0</td>\n",
       "      <td>2</td>\n",
       "      <td>...</td>\n",
       "      <td>0</td>\n",
       "      <td>0</td>\n",
       "      <td>0</td>\n",
       "      <td>0</td>\n",
       "      <td>1</td>\n",
       "      <td>14963</td>\n",
       "      <td>4858</td>\n",
       "      <td>187</td>\n",
       "      <td>79</td>\n",
       "      <td>0.003933</td>\n",
       "    </tr>\n",
       "    <tr>\n",
       "      <th>1</th>\n",
       "      <td>ss715578818</td>\n",
       "      <td>2</td>\n",
       "      <td>0</td>\n",
       "      <td>-2</td>\n",
       "      <td>0</td>\n",
       "      <td>0</td>\n",
       "      <td>0</td>\n",
       "      <td>0</td>\n",
       "      <td>0</td>\n",
       "      <td>2</td>\n",
       "      <td>...</td>\n",
       "      <td>0</td>\n",
       "      <td>0</td>\n",
       "      <td>0</td>\n",
       "      <td>0</td>\n",
       "      <td>1</td>\n",
       "      <td>14761</td>\n",
       "      <td>4745</td>\n",
       "      <td>345</td>\n",
       "      <td>236</td>\n",
       "      <td>0.011748</td>\n",
       "    </tr>\n",
       "    <tr>\n",
       "      <th>2</th>\n",
       "      <td>ss715578923</td>\n",
       "      <td>2</td>\n",
       "      <td>0</td>\n",
       "      <td>1</td>\n",
       "      <td>0</td>\n",
       "      <td>0</td>\n",
       "      <td>0</td>\n",
       "      <td>0</td>\n",
       "      <td>0</td>\n",
       "      <td>2</td>\n",
       "      <td>...</td>\n",
       "      <td>0</td>\n",
       "      <td>0</td>\n",
       "      <td>0</td>\n",
       "      <td>0</td>\n",
       "      <td>1</td>\n",
       "      <td>13915</td>\n",
       "      <td>5887</td>\n",
       "      <td>144</td>\n",
       "      <td>141</td>\n",
       "      <td>0.007019</td>\n",
       "    </tr>\n",
       "    <tr>\n",
       "      <th>3</th>\n",
       "      <td>ss715578960</td>\n",
       "      <td>0</td>\n",
       "      <td>0</td>\n",
       "      <td>0</td>\n",
       "      <td>0</td>\n",
       "      <td>0</td>\n",
       "      <td>0</td>\n",
       "      <td>0</td>\n",
       "      <td>0</td>\n",
       "      <td>0</td>\n",
       "      <td>...</td>\n",
       "      <td>0</td>\n",
       "      <td>0</td>\n",
       "      <td>0</td>\n",
       "      <td>0</td>\n",
       "      <td>0</td>\n",
       "      <td>18053</td>\n",
       "      <td>1825</td>\n",
       "      <td>54</td>\n",
       "      <td>155</td>\n",
       "      <td>0.007716</td>\n",
       "    </tr>\n",
       "    <tr>\n",
       "      <th>4</th>\n",
       "      <td>ss715579193</td>\n",
       "      <td>0</td>\n",
       "      <td>0</td>\n",
       "      <td>1</td>\n",
       "      <td>0</td>\n",
       "      <td>0</td>\n",
       "      <td>0</td>\n",
       "      <td>0</td>\n",
       "      <td>0</td>\n",
       "      <td>2</td>\n",
       "      <td>...</td>\n",
       "      <td>0</td>\n",
       "      <td>0</td>\n",
       "      <td>0</td>\n",
       "      <td>0</td>\n",
       "      <td>-2</td>\n",
       "      <td>17246</td>\n",
       "      <td>2608</td>\n",
       "      <td>174</td>\n",
       "      <td>59</td>\n",
       "      <td>0.002937</td>\n",
       "    </tr>\n",
       "  </tbody>\n",
       "</table>\n",
       "<p>5 rows × 20093 columns</p>\n",
       "</div>"
      ],
      "text/plain": [
       "            ID  PI86046  PI90208  PI219698  PI253651A  PI347550A  PI398807  \\\n",
       "0  ss715578788        2        0        -2          0          0         0   \n",
       "1  ss715578818        2        0        -2          0          0         0   \n",
       "2  ss715578923        2        0         1          0          0         0   \n",
       "3  ss715578960        0        0         0          0          0         0   \n",
       "4  ss715579193        0        0         1          0          0         0   \n",
       "\n",
       "   PI408055A  PI408069  PI408169A  ...  PI634759  PI423967  PI587906  \\\n",
       "0          0         0          2  ...         0         0         0   \n",
       "1          0         0          2  ...         0         0         0   \n",
       "2          0         0          2  ...         0         0         0   \n",
       "3          0         0          0  ...         0         0         0   \n",
       "4          0         0          2  ...         0         0         0   \n",
       "\n",
       "   PI587946  PI603516  Ref_allele  Alt_allele  Het  Missing  perc_miss  \n",
       "0         0         1       14963        4858  187       79   0.003933  \n",
       "1         0         1       14761        4745  345      236   0.011748  \n",
       "2         0         1       13915        5887  144      141   0.007019  \n",
       "3         0         0       18053        1825   54      155   0.007716  \n",
       "4         0        -2       17246        2608  174       59   0.002937  \n",
       "\n",
       "[5 rows x 20093 columns]"
      ]
     },
     "execution_count": 3,
     "metadata": {},
     "output_type": "execute_result"
    }
   ],
   "source": [
    "genotype_data= pd.read_csv('Genotyping_data.csv', index_col=[0])\n",
    "genotype_data.head()"
   ]
  },
  {
   "cell_type": "code",
   "execution_count": 34,
   "id": "12041ba5",
   "metadata": {},
   "outputs": [
    {
     "data": {
      "text/plain": [
       "(42195, 20093)"
      ]
     },
     "execution_count": 34,
     "metadata": {},
     "output_type": "execute_result"
    }
   ],
   "source": [
    "genotype_data.shape"
   ]
  },
  {
   "cell_type": "code",
   "execution_count": 35,
   "id": "141a01b2",
   "metadata": {},
   "outputs": [
    {
     "data": {
      "text/plain": [
       "(42195, 20093)"
      ]
     },
     "execution_count": 35,
     "metadata": {},
     "output_type": "execute_result"
    }
   ],
   "source": [
    "# First filter out those rows which does not contain any data\n",
    "genotype_data = genotype_data.dropna(how = 'all')\n",
    "genotype_data.shape\n",
    "\n",
    "# so, there are no empty rows"
   ]
  },
  {
   "cell_type": "markdown",
   "id": "3c95b212",
   "metadata": {},
   "source": [
    "# 3.2 SNP filtering\n",
    "\n",
    "NOTE: There are no SNPs having >12% missing data \n",
    "\n",
    "Removing any polymorphic SNP with a rate of missing and heterozygous allele calls greater than (10 %) 0.1 among the 20087 soybean and wild soybean accessions. \n",
    "The heterozygous allele calls in the remaining loci were set as missing in the subsequent analysis."
   ]
  },
  {
   "cell_type": "markdown",
   "id": "e1f75f14",
   "metadata": {},
   "source": [
    "## 3.2.1 SNP filtering by number of missing values"
   ]
  },
  {
   "cell_type": "markdown",
   "id": "e468dd2c",
   "metadata": {},
   "source": [
    "## 3.2.1a Find how many SNPs having >10% missing data?"
   ]
  },
  {
   "cell_type": "code",
   "execution_count": 45,
   "id": "949e6479",
   "metadata": {},
   "outputs": [
    {
     "data": {
      "text/plain": [
       "(12, 20093)"
      ]
     },
     "execution_count": 45,
     "metadata": {},
     "output_type": "execute_result"
    }
   ],
   "source": [
    "miss=genotype_data.loc[genotype_data['Missing']>2008]\n",
    "miss.shape\n",
    "\n",
    "# 12 SNPs having >10% missing but there are no SNPs beyond >2400 missing values (12%)"
   ]
  },
  {
   "cell_type": "markdown",
   "id": "07579eeb",
   "metadata": {},
   "source": [
    "## 3.2.1b Filter SNPs with <10% missing"
   ]
  },
  {
   "cell_type": "code",
   "execution_count": 47,
   "id": "91364f98",
   "metadata": {},
   "outputs": [
    {
     "data": {
      "text/plain": [
       "(42183, 20093)"
      ]
     },
     "execution_count": 47,
     "metadata": {},
     "output_type": "execute_result"
    }
   ],
   "source": [
    "df1=genotype_data.loc[genotype_data['Missing']<=2008] # 2008 is 10% of 20087\n",
    "df1.shape\n",
    "\n",
    "# the 12 SNPs with >10% missing data are dropped"
   ]
  },
  {
   "cell_type": "markdown",
   "id": "ac5f8d10",
   "metadata": {},
   "source": [
    "42183 SNPs remained after dropping SNPs with >10% missing data"
   ]
  },
  {
   "cell_type": "markdown",
   "id": "7b4c014b",
   "metadata": {},
   "source": [
    "# 3.2.2 SNP filtering by number of het values"
   ]
  },
  {
   "cell_type": "markdown",
   "id": "a545012a",
   "metadata": {},
   "source": [
    "## 3.2.2a Similarly, find how many SNPs having >10% het data"
   ]
  },
  {
   "cell_type": "code",
   "execution_count": 51,
   "id": "ce1b572d",
   "metadata": {},
   "outputs": [
    {
     "data": {
      "text/plain": [
       "(0, 20093)"
      ]
     },
     "execution_count": 51,
     "metadata": {},
     "output_type": "execute_result"
    }
   ],
   "source": [
    "hets=genotype_data.loc[genotype_data['Het']>2008]\n",
    "hets.shape\n",
    "\n",
    "# there are 0 SNPs with >10% het data"
   ]
  },
  {
   "cell_type": "markdown",
   "id": "88931cc9",
   "metadata": {},
   "source": [
    "## 3.2.3 The heterozygous allele calls in the remaining loci were set as missing in the subsequent analysis."
   ]
  },
  {
   "cell_type": "markdown",
   "id": "34e06c0f",
   "metadata": {},
   "source": [
    "### 3.2.3a First, drop the columns from df1 (contains genotyping data wiht <10% missing data)"
   ]
  },
  {
   "cell_type": "code",
   "execution_count": 9,
   "id": "9fe49566",
   "metadata": {},
   "outputs": [
    {
     "data": {
      "text/html": [
       "<div>\n",
       "<style scoped>\n",
       "    .dataframe tbody tr th:only-of-type {\n",
       "        vertical-align: middle;\n",
       "    }\n",
       "\n",
       "    .dataframe tbody tr th {\n",
       "        vertical-align: top;\n",
       "    }\n",
       "\n",
       "    .dataframe thead th {\n",
       "        text-align: right;\n",
       "    }\n",
       "</style>\n",
       "<table border=\"1\" class=\"dataframe\">\n",
       "  <thead>\n",
       "    <tr style=\"text-align: right;\">\n",
       "      <th></th>\n",
       "      <th>ID</th>\n",
       "      <th>PI86046</th>\n",
       "      <th>PI90208</th>\n",
       "      <th>PI219698</th>\n",
       "      <th>PI253651A</th>\n",
       "      <th>PI347550A</th>\n",
       "      <th>PI398807</th>\n",
       "      <th>PI408055A</th>\n",
       "      <th>PI408069</th>\n",
       "      <th>PI408169A</th>\n",
       "      <th>...</th>\n",
       "      <th>PI574480B</th>\n",
       "      <th>PI578360</th>\n",
       "      <th>PI578362</th>\n",
       "      <th>PI639693</th>\n",
       "      <th>PI657626</th>\n",
       "      <th>PI634759</th>\n",
       "      <th>PI423967</th>\n",
       "      <th>PI587906</th>\n",
       "      <th>PI587946</th>\n",
       "      <th>PI603516</th>\n",
       "    </tr>\n",
       "  </thead>\n",
       "  <tbody>\n",
       "    <tr>\n",
       "      <th>0</th>\n",
       "      <td>ss715578788</td>\n",
       "      <td>2</td>\n",
       "      <td>0</td>\n",
       "      <td>-2</td>\n",
       "      <td>0</td>\n",
       "      <td>0</td>\n",
       "      <td>0</td>\n",
       "      <td>0</td>\n",
       "      <td>0</td>\n",
       "      <td>2</td>\n",
       "      <td>...</td>\n",
       "      <td>0</td>\n",
       "      <td>0</td>\n",
       "      <td>2</td>\n",
       "      <td>0</td>\n",
       "      <td>0</td>\n",
       "      <td>0</td>\n",
       "      <td>0</td>\n",
       "      <td>0</td>\n",
       "      <td>0</td>\n",
       "      <td>1</td>\n",
       "    </tr>\n",
       "    <tr>\n",
       "      <th>1</th>\n",
       "      <td>ss715578818</td>\n",
       "      <td>2</td>\n",
       "      <td>0</td>\n",
       "      <td>-2</td>\n",
       "      <td>0</td>\n",
       "      <td>0</td>\n",
       "      <td>0</td>\n",
       "      <td>0</td>\n",
       "      <td>0</td>\n",
       "      <td>2</td>\n",
       "      <td>...</td>\n",
       "      <td>0</td>\n",
       "      <td>0</td>\n",
       "      <td>2</td>\n",
       "      <td>0</td>\n",
       "      <td>0</td>\n",
       "      <td>0</td>\n",
       "      <td>0</td>\n",
       "      <td>0</td>\n",
       "      <td>0</td>\n",
       "      <td>1</td>\n",
       "    </tr>\n",
       "    <tr>\n",
       "      <th>2</th>\n",
       "      <td>ss715578923</td>\n",
       "      <td>2</td>\n",
       "      <td>0</td>\n",
       "      <td>1</td>\n",
       "      <td>0</td>\n",
       "      <td>0</td>\n",
       "      <td>0</td>\n",
       "      <td>0</td>\n",
       "      <td>0</td>\n",
       "      <td>2</td>\n",
       "      <td>...</td>\n",
       "      <td>0</td>\n",
       "      <td>0</td>\n",
       "      <td>2</td>\n",
       "      <td>0</td>\n",
       "      <td>0</td>\n",
       "      <td>0</td>\n",
       "      <td>0</td>\n",
       "      <td>0</td>\n",
       "      <td>0</td>\n",
       "      <td>1</td>\n",
       "    </tr>\n",
       "    <tr>\n",
       "      <th>3</th>\n",
       "      <td>ss715578960</td>\n",
       "      <td>0</td>\n",
       "      <td>0</td>\n",
       "      <td>0</td>\n",
       "      <td>0</td>\n",
       "      <td>0</td>\n",
       "      <td>0</td>\n",
       "      <td>0</td>\n",
       "      <td>0</td>\n",
       "      <td>0</td>\n",
       "      <td>...</td>\n",
       "      <td>0</td>\n",
       "      <td>0</td>\n",
       "      <td>0</td>\n",
       "      <td>0</td>\n",
       "      <td>0</td>\n",
       "      <td>0</td>\n",
       "      <td>0</td>\n",
       "      <td>0</td>\n",
       "      <td>0</td>\n",
       "      <td>0</td>\n",
       "    </tr>\n",
       "    <tr>\n",
       "      <th>4</th>\n",
       "      <td>ss715579193</td>\n",
       "      <td>0</td>\n",
       "      <td>0</td>\n",
       "      <td>1</td>\n",
       "      <td>0</td>\n",
       "      <td>0</td>\n",
       "      <td>0</td>\n",
       "      <td>0</td>\n",
       "      <td>0</td>\n",
       "      <td>2</td>\n",
       "      <td>...</td>\n",
       "      <td>0</td>\n",
       "      <td>0</td>\n",
       "      <td>2</td>\n",
       "      <td>0</td>\n",
       "      <td>0</td>\n",
       "      <td>0</td>\n",
       "      <td>0</td>\n",
       "      <td>0</td>\n",
       "      <td>0</td>\n",
       "      <td>-2</td>\n",
       "    </tr>\n",
       "  </tbody>\n",
       "</table>\n",
       "<p>5 rows × 20088 columns</p>\n",
       "</div>"
      ],
      "text/plain": [
       "            ID  PI86046  PI90208  PI219698  PI253651A  PI347550A  PI398807  \\\n",
       "0  ss715578788        2        0        -2          0          0         0   \n",
       "1  ss715578818        2        0        -2          0          0         0   \n",
       "2  ss715578923        2        0         1          0          0         0   \n",
       "3  ss715578960        0        0         0          0          0         0   \n",
       "4  ss715579193        0        0         1          0          0         0   \n",
       "\n",
       "   PI408055A  PI408069  PI408169A  ...  PI574480B  PI578360  PI578362  \\\n",
       "0          0         0          2  ...          0         0         2   \n",
       "1          0         0          2  ...          0         0         2   \n",
       "2          0         0          2  ...          0         0         2   \n",
       "3          0         0          0  ...          0         0         0   \n",
       "4          0         0          2  ...          0         0         2   \n",
       "\n",
       "   PI639693  PI657626  PI634759  PI423967  PI587906  PI587946  PI603516  \n",
       "0         0         0         0         0         0         0         1  \n",
       "1         0         0         0         0         0         0         1  \n",
       "2         0         0         0         0         0         0         1  \n",
       "3         0         0         0         0         0         0         0  \n",
       "4         0         0         0         0         0         0        -2  \n",
       "\n",
       "[5 rows x 20088 columns]"
      ]
     },
     "execution_count": 9,
     "metadata": {},
     "output_type": "execute_result"
    }
   ],
   "source": [
    "geno_calls=df1.drop(['Ref_allele','Alt_allele','Het','Missing','perc_miss'], axis=1)\n",
    "geno_calls.head()"
   ]
  },
  {
   "cell_type": "markdown",
   "id": "716f11e6",
   "metadata": {},
   "source": [
    "### 3.2.3b Then, replace het values with -2; considering het values as missing"
   ]
  },
  {
   "cell_type": "code",
   "execution_count": 10,
   "id": "4d1a3a12",
   "metadata": {},
   "outputs": [
    {
     "data": {
      "text/html": [
       "<div>\n",
       "<style scoped>\n",
       "    .dataframe tbody tr th:only-of-type {\n",
       "        vertical-align: middle;\n",
       "    }\n",
       "\n",
       "    .dataframe tbody tr th {\n",
       "        vertical-align: top;\n",
       "    }\n",
       "\n",
       "    .dataframe thead th {\n",
       "        text-align: right;\n",
       "    }\n",
       "</style>\n",
       "<table border=\"1\" class=\"dataframe\">\n",
       "  <thead>\n",
       "    <tr style=\"text-align: right;\">\n",
       "      <th></th>\n",
       "      <th>ID</th>\n",
       "      <th>PI86046</th>\n",
       "      <th>PI90208</th>\n",
       "      <th>PI219698</th>\n",
       "      <th>PI253651A</th>\n",
       "      <th>PI347550A</th>\n",
       "      <th>PI398807</th>\n",
       "      <th>PI408055A</th>\n",
       "      <th>PI408069</th>\n",
       "      <th>PI408169A</th>\n",
       "      <th>...</th>\n",
       "      <th>PI574480B</th>\n",
       "      <th>PI578360</th>\n",
       "      <th>PI578362</th>\n",
       "      <th>PI639693</th>\n",
       "      <th>PI657626</th>\n",
       "      <th>PI634759</th>\n",
       "      <th>PI423967</th>\n",
       "      <th>PI587906</th>\n",
       "      <th>PI587946</th>\n",
       "      <th>PI603516</th>\n",
       "    </tr>\n",
       "  </thead>\n",
       "  <tbody>\n",
       "    <tr>\n",
       "      <th>0</th>\n",
       "      <td>ss715578788</td>\n",
       "      <td>2</td>\n",
       "      <td>0</td>\n",
       "      <td>-2</td>\n",
       "      <td>0</td>\n",
       "      <td>0</td>\n",
       "      <td>0</td>\n",
       "      <td>0</td>\n",
       "      <td>0</td>\n",
       "      <td>2</td>\n",
       "      <td>...</td>\n",
       "      <td>0</td>\n",
       "      <td>0</td>\n",
       "      <td>2</td>\n",
       "      <td>0</td>\n",
       "      <td>0</td>\n",
       "      <td>0</td>\n",
       "      <td>0</td>\n",
       "      <td>0</td>\n",
       "      <td>0</td>\n",
       "      <td>-2</td>\n",
       "    </tr>\n",
       "    <tr>\n",
       "      <th>1</th>\n",
       "      <td>ss715578818</td>\n",
       "      <td>2</td>\n",
       "      <td>0</td>\n",
       "      <td>-2</td>\n",
       "      <td>0</td>\n",
       "      <td>0</td>\n",
       "      <td>0</td>\n",
       "      <td>0</td>\n",
       "      <td>0</td>\n",
       "      <td>2</td>\n",
       "      <td>...</td>\n",
       "      <td>0</td>\n",
       "      <td>0</td>\n",
       "      <td>2</td>\n",
       "      <td>0</td>\n",
       "      <td>0</td>\n",
       "      <td>0</td>\n",
       "      <td>0</td>\n",
       "      <td>0</td>\n",
       "      <td>0</td>\n",
       "      <td>-2</td>\n",
       "    </tr>\n",
       "    <tr>\n",
       "      <th>2</th>\n",
       "      <td>ss715578923</td>\n",
       "      <td>2</td>\n",
       "      <td>0</td>\n",
       "      <td>-2</td>\n",
       "      <td>0</td>\n",
       "      <td>0</td>\n",
       "      <td>0</td>\n",
       "      <td>0</td>\n",
       "      <td>0</td>\n",
       "      <td>2</td>\n",
       "      <td>...</td>\n",
       "      <td>0</td>\n",
       "      <td>0</td>\n",
       "      <td>2</td>\n",
       "      <td>0</td>\n",
       "      <td>0</td>\n",
       "      <td>0</td>\n",
       "      <td>0</td>\n",
       "      <td>0</td>\n",
       "      <td>0</td>\n",
       "      <td>-2</td>\n",
       "    </tr>\n",
       "    <tr>\n",
       "      <th>3</th>\n",
       "      <td>ss715578960</td>\n",
       "      <td>0</td>\n",
       "      <td>0</td>\n",
       "      <td>0</td>\n",
       "      <td>0</td>\n",
       "      <td>0</td>\n",
       "      <td>0</td>\n",
       "      <td>0</td>\n",
       "      <td>0</td>\n",
       "      <td>0</td>\n",
       "      <td>...</td>\n",
       "      <td>0</td>\n",
       "      <td>0</td>\n",
       "      <td>0</td>\n",
       "      <td>0</td>\n",
       "      <td>0</td>\n",
       "      <td>0</td>\n",
       "      <td>0</td>\n",
       "      <td>0</td>\n",
       "      <td>0</td>\n",
       "      <td>0</td>\n",
       "    </tr>\n",
       "    <tr>\n",
       "      <th>4</th>\n",
       "      <td>ss715579193</td>\n",
       "      <td>0</td>\n",
       "      <td>0</td>\n",
       "      <td>-2</td>\n",
       "      <td>0</td>\n",
       "      <td>0</td>\n",
       "      <td>0</td>\n",
       "      <td>0</td>\n",
       "      <td>0</td>\n",
       "      <td>2</td>\n",
       "      <td>...</td>\n",
       "      <td>0</td>\n",
       "      <td>0</td>\n",
       "      <td>2</td>\n",
       "      <td>0</td>\n",
       "      <td>0</td>\n",
       "      <td>0</td>\n",
       "      <td>0</td>\n",
       "      <td>0</td>\n",
       "      <td>0</td>\n",
       "      <td>-2</td>\n",
       "    </tr>\n",
       "  </tbody>\n",
       "</table>\n",
       "<p>5 rows × 20088 columns</p>\n",
       "</div>"
      ],
      "text/plain": [
       "            ID  PI86046  PI90208  PI219698  PI253651A  PI347550A  PI398807  \\\n",
       "0  ss715578788        2        0        -2          0          0         0   \n",
       "1  ss715578818        2        0        -2          0          0         0   \n",
       "2  ss715578923        2        0        -2          0          0         0   \n",
       "3  ss715578960        0        0         0          0          0         0   \n",
       "4  ss715579193        0        0        -2          0          0         0   \n",
       "\n",
       "   PI408055A  PI408069  PI408169A  ...  PI574480B  PI578360  PI578362  \\\n",
       "0          0         0          2  ...          0         0         2   \n",
       "1          0         0          2  ...          0         0         2   \n",
       "2          0         0          2  ...          0         0         2   \n",
       "3          0         0          0  ...          0         0         0   \n",
       "4          0         0          2  ...          0         0         2   \n",
       "\n",
       "   PI639693  PI657626  PI634759  PI423967  PI587906  PI587946  PI603516  \n",
       "0         0         0         0         0         0         0        -2  \n",
       "1         0         0         0         0         0         0        -2  \n",
       "2         0         0         0         0         0         0        -2  \n",
       "3         0         0         0         0         0         0         0  \n",
       "4         0         0         0         0         0         0        -2  \n",
       "\n",
       "[5 rows x 20088 columns]"
      ]
     },
     "execution_count": 10,
     "metadata": {},
     "output_type": "execute_result"
    }
   ],
   "source": [
    "geno_calls=geno_calls.replace(1, -2)\n",
    "geno_calls.head()"
   ]
  },
  {
   "cell_type": "code",
   "execution_count": 11,
   "id": "a487ae9c",
   "metadata": {},
   "outputs": [
    {
     "data": {
      "text/plain": [
       "(42183, 20088)"
      ]
     },
     "execution_count": 11,
     "metadata": {},
     "output_type": "execute_result"
    }
   ],
   "source": [
    "geno_calls.shape\n",
    "\n",
    "# 42183 rows similar to df1"
   ]
  },
  {
   "cell_type": "code",
   "execution_count": 12,
   "id": "96aeee4a",
   "metadata": {},
   "outputs": [
    {
     "data": {
      "text/plain": [
       "0              14963\n",
       "2               4858\n",
       "-2               266\n",
       "ss715578788        1\n",
       "Name: 0, dtype: int64"
      ]
     },
     "execution_count": 12,
     "metadata": {},
     "output_type": "execute_result"
    }
   ],
   "source": [
    "geno_calls.iloc[0,:].value_counts() \n",
    "\n",
    "# made sure only 3 allele calls exist; 0: reference allele, 2: alternate allele, -2: missing"
   ]
  },
  {
   "cell_type": "markdown",
   "id": "d5d57a73",
   "metadata": {},
   "source": [
    "## 3.3 Adding new columns for 0: Ref_allele, 2:Alt_allele, -2:Missing, perc_miss"
   ]
  },
  {
   "cell_type": "markdown",
   "id": "3235e6cc",
   "metadata": {},
   "source": [
    "### 3.3a Create new columns by Counting the frequency of a specific value in each row of dataframe?"
   ]
  },
  {
   "cell_type": "code",
   "execution_count": 13,
   "id": "e6990ee9",
   "metadata": {},
   "outputs": [
    {
     "data": {
      "text/html": [
       "<div>\n",
       "<style scoped>\n",
       "    .dataframe tbody tr th:only-of-type {\n",
       "        vertical-align: middle;\n",
       "    }\n",
       "\n",
       "    .dataframe tbody tr th {\n",
       "        vertical-align: top;\n",
       "    }\n",
       "\n",
       "    .dataframe thead th {\n",
       "        text-align: right;\n",
       "    }\n",
       "</style>\n",
       "<table border=\"1\" class=\"dataframe\">\n",
       "  <thead>\n",
       "    <tr style=\"text-align: right;\">\n",
       "      <th></th>\n",
       "      <th>ID</th>\n",
       "      <th>PI86046</th>\n",
       "      <th>PI90208</th>\n",
       "      <th>PI219698</th>\n",
       "      <th>PI253651A</th>\n",
       "      <th>PI347550A</th>\n",
       "      <th>PI398807</th>\n",
       "      <th>PI408055A</th>\n",
       "      <th>PI408069</th>\n",
       "      <th>PI408169A</th>\n",
       "      <th>...</th>\n",
       "      <th>PI657626</th>\n",
       "      <th>PI634759</th>\n",
       "      <th>PI423967</th>\n",
       "      <th>PI587906</th>\n",
       "      <th>PI587946</th>\n",
       "      <th>PI603516</th>\n",
       "      <th>Ref_allele</th>\n",
       "      <th>Alt_allele</th>\n",
       "      <th>Missing</th>\n",
       "      <th>perc_miss</th>\n",
       "    </tr>\n",
       "  </thead>\n",
       "  <tbody>\n",
       "    <tr>\n",
       "      <th>0</th>\n",
       "      <td>ss715578788</td>\n",
       "      <td>2</td>\n",
       "      <td>0</td>\n",
       "      <td>-2</td>\n",
       "      <td>0</td>\n",
       "      <td>0</td>\n",
       "      <td>0</td>\n",
       "      <td>0</td>\n",
       "      <td>0</td>\n",
       "      <td>2</td>\n",
       "      <td>...</td>\n",
       "      <td>0</td>\n",
       "      <td>0</td>\n",
       "      <td>0</td>\n",
       "      <td>0</td>\n",
       "      <td>0</td>\n",
       "      <td>-2</td>\n",
       "      <td>14963</td>\n",
       "      <td>4858</td>\n",
       "      <td>266</td>\n",
       "      <td>1.324174</td>\n",
       "    </tr>\n",
       "    <tr>\n",
       "      <th>1</th>\n",
       "      <td>ss715578818</td>\n",
       "      <td>2</td>\n",
       "      <td>0</td>\n",
       "      <td>-2</td>\n",
       "      <td>0</td>\n",
       "      <td>0</td>\n",
       "      <td>0</td>\n",
       "      <td>0</td>\n",
       "      <td>0</td>\n",
       "      <td>2</td>\n",
       "      <td>...</td>\n",
       "      <td>0</td>\n",
       "      <td>0</td>\n",
       "      <td>0</td>\n",
       "      <td>0</td>\n",
       "      <td>0</td>\n",
       "      <td>-2</td>\n",
       "      <td>14761</td>\n",
       "      <td>4745</td>\n",
       "      <td>581</td>\n",
       "      <td>2.892274</td>\n",
       "    </tr>\n",
       "    <tr>\n",
       "      <th>2</th>\n",
       "      <td>ss715578923</td>\n",
       "      <td>2</td>\n",
       "      <td>0</td>\n",
       "      <td>-2</td>\n",
       "      <td>0</td>\n",
       "      <td>0</td>\n",
       "      <td>0</td>\n",
       "      <td>0</td>\n",
       "      <td>0</td>\n",
       "      <td>2</td>\n",
       "      <td>...</td>\n",
       "      <td>0</td>\n",
       "      <td>0</td>\n",
       "      <td>0</td>\n",
       "      <td>0</td>\n",
       "      <td>0</td>\n",
       "      <td>-2</td>\n",
       "      <td>13915</td>\n",
       "      <td>5887</td>\n",
       "      <td>285</td>\n",
       "      <td>1.418757</td>\n",
       "    </tr>\n",
       "    <tr>\n",
       "      <th>3</th>\n",
       "      <td>ss715578960</td>\n",
       "      <td>0</td>\n",
       "      <td>0</td>\n",
       "      <td>0</td>\n",
       "      <td>0</td>\n",
       "      <td>0</td>\n",
       "      <td>0</td>\n",
       "      <td>0</td>\n",
       "      <td>0</td>\n",
       "      <td>0</td>\n",
       "      <td>...</td>\n",
       "      <td>0</td>\n",
       "      <td>0</td>\n",
       "      <td>0</td>\n",
       "      <td>0</td>\n",
       "      <td>0</td>\n",
       "      <td>0</td>\n",
       "      <td>18053</td>\n",
       "      <td>1825</td>\n",
       "      <td>209</td>\n",
       "      <td>1.040422</td>\n",
       "    </tr>\n",
       "    <tr>\n",
       "      <th>4</th>\n",
       "      <td>ss715579193</td>\n",
       "      <td>0</td>\n",
       "      <td>0</td>\n",
       "      <td>-2</td>\n",
       "      <td>0</td>\n",
       "      <td>0</td>\n",
       "      <td>0</td>\n",
       "      <td>0</td>\n",
       "      <td>0</td>\n",
       "      <td>2</td>\n",
       "      <td>...</td>\n",
       "      <td>0</td>\n",
       "      <td>0</td>\n",
       "      <td>0</td>\n",
       "      <td>0</td>\n",
       "      <td>0</td>\n",
       "      <td>-2</td>\n",
       "      <td>17246</td>\n",
       "      <td>2608</td>\n",
       "      <td>233</td>\n",
       "      <td>1.159896</td>\n",
       "    </tr>\n",
       "  </tbody>\n",
       "</table>\n",
       "<p>5 rows × 20092 columns</p>\n",
       "</div>"
      ],
      "text/plain": [
       "            ID  PI86046  PI90208  PI219698  PI253651A  PI347550A  PI398807  \\\n",
       "0  ss715578788        2        0        -2          0          0         0   \n",
       "1  ss715578818        2        0        -2          0          0         0   \n",
       "2  ss715578923        2        0        -2          0          0         0   \n",
       "3  ss715578960        0        0         0          0          0         0   \n",
       "4  ss715579193        0        0        -2          0          0         0   \n",
       "\n",
       "   PI408055A  PI408069  PI408169A  ...  PI657626  PI634759  PI423967  \\\n",
       "0          0         0          2  ...         0         0         0   \n",
       "1          0         0          2  ...         0         0         0   \n",
       "2          0         0          2  ...         0         0         0   \n",
       "3          0         0          0  ...         0         0         0   \n",
       "4          0         0          2  ...         0         0         0   \n",
       "\n",
       "   PI587906  PI587946  PI603516  Ref_allele  Alt_allele  Missing  perc_miss  \n",
       "0         0         0        -2       14963        4858      266   1.324174  \n",
       "1         0         0        -2       14761        4745      581   2.892274  \n",
       "2         0         0        -2       13915        5887      285   1.418757  \n",
       "3         0         0         0       18053        1825      209   1.040422  \n",
       "4         0         0        -2       17246        2608      233   1.159896  \n",
       "\n",
       "[5 rows x 20092 columns]"
      ]
     },
     "execution_count": 13,
     "metadata": {},
     "output_type": "execute_result"
    }
   ],
   "source": [
    "geno_calls['Ref_allele'] = geno_calls.apply(lambda row: sum(row[1:20088]==0) ,axis=1)\n",
    "geno_calls['Alt_allele'] = geno_calls.apply(lambda row: sum(row[1:20088]==2) ,axis=1)\n",
    "geno_calls['Missing'] = geno_calls.apply(lambda row: sum(row[1:20088]==-2) ,axis=1)\n",
    "# create percent missing column by dividing missing value with total samples#\n",
    "geno_calls['perc_miss']=(geno_calls['Missing']/20088)*100\n",
    "geno_calls.head()"
   ]
  },
  {
   "cell_type": "code",
   "execution_count": 14,
   "id": "aa2812ab",
   "metadata": {},
   "outputs": [
    {
     "data": {
      "text/plain": [
       "(42183, 20092)"
      ]
     },
     "execution_count": 14,
     "metadata": {},
     "output_type": "execute_result"
    }
   ],
   "source": [
    "geno_calls.shape"
   ]
  },
  {
   "cell_type": "markdown",
   "id": "e0322610",
   "metadata": {},
   "source": [
    "## 3.4 Dropping Monomorphic SNPs"
   ]
  },
  {
   "cell_type": "code",
   "execution_count": 15,
   "id": "60f4bf80",
   "metadata": {},
   "outputs": [
    {
     "name": "stdout",
     "output_type": "stream",
     "text": [
      "Number of monomorphic SNPs are: 37\n"
     ]
    }
   ],
   "source": [
    "monomorphic_SNPs=geno_calls.loc[(geno_calls['Ref_allele']==0)|(geno_calls['Alt_allele']==0)]\n",
    "print('Number of monomorphic SNPs are:', len(monomorphic_SNPs))\n",
    "#monomorphic_SNPs.head()"
   ]
  },
  {
   "cell_type": "code",
   "execution_count": 25,
   "id": "0d77e4ab",
   "metadata": {},
   "outputs": [
    {
     "data": {
      "text/plain": [
       "(42171, 20092)"
      ]
     },
     "execution_count": 25,
     "metadata": {},
     "output_type": "execute_result"
    }
   ],
   "source": [
    "# Filter all rows for which Ref_allele count is not 0\n",
    "geno_calls.drop(geno_calls[geno_calls['Ref_allele'] ==0].index, inplace = True)\n",
    "geno_calls.shape\n",
    "\n",
    "# 12 rows with Ref_Allele=0 are dropped"
   ]
  },
  {
   "cell_type": "code",
   "execution_count": 69,
   "id": "50414d00",
   "metadata": {},
   "outputs": [
    {
     "data": {
      "text/plain": [
       "(42146, 20092)"
      ]
     },
     "execution_count": 69,
     "metadata": {},
     "output_type": "execute_result"
    }
   ],
   "source": [
    "# Filter all rows for which Alt_allele count is not 0\n",
    "geno_calls.drop(geno_calls[geno_calls['Alt_allele'] ==0].index, inplace = True)\n",
    "geno_calls.shape\n",
    "\n",
    "# 25 rows with Alt_Allele=0 are dropped"
   ]
  },
  {
   "cell_type": "markdown",
   "id": "c81b8bc6",
   "metadata": {},
   "source": [
    "42146 SNPs remained after dropping SNPs with >10% missing data, monomorphic SNPs having either 0 Reference or Alternate allele"
   ]
  },
  {
   "cell_type": "markdown",
   "id": "a7e65e23",
   "metadata": {},
   "source": [
    "# 3.5 Calculate minor allele frequency of ref and alt alleles"
   ]
  },
  {
   "cell_type": "code",
   "execution_count": 70,
   "id": "0d97876f",
   "metadata": {},
   "outputs": [
    {
     "data": {
      "text/html": [
       "<div>\n",
       "<style scoped>\n",
       "    .dataframe tbody tr th:only-of-type {\n",
       "        vertical-align: middle;\n",
       "    }\n",
       "\n",
       "    .dataframe tbody tr th {\n",
       "        vertical-align: top;\n",
       "    }\n",
       "\n",
       "    .dataframe thead th {\n",
       "        text-align: right;\n",
       "    }\n",
       "</style>\n",
       "<table border=\"1\" class=\"dataframe\">\n",
       "  <thead>\n",
       "    <tr style=\"text-align: right;\">\n",
       "      <th></th>\n",
       "      <th>ID</th>\n",
       "      <th>PI86046</th>\n",
       "      <th>PI90208</th>\n",
       "      <th>PI219698</th>\n",
       "      <th>PI253651A</th>\n",
       "      <th>PI347550A</th>\n",
       "      <th>PI398807</th>\n",
       "      <th>PI408055A</th>\n",
       "      <th>PI408069</th>\n",
       "      <th>PI408169A</th>\n",
       "      <th>...</th>\n",
       "      <th>PI423967</th>\n",
       "      <th>PI587906</th>\n",
       "      <th>PI587946</th>\n",
       "      <th>PI603516</th>\n",
       "      <th>Ref_allele</th>\n",
       "      <th>Alt_allele</th>\n",
       "      <th>Missing</th>\n",
       "      <th>perc_miss</th>\n",
       "      <th>MAF_Ref</th>\n",
       "      <th>MAF_Alt</th>\n",
       "    </tr>\n",
       "  </thead>\n",
       "  <tbody>\n",
       "    <tr>\n",
       "      <th>0</th>\n",
       "      <td>ss715578788</td>\n",
       "      <td>2</td>\n",
       "      <td>0</td>\n",
       "      <td>-2</td>\n",
       "      <td>0</td>\n",
       "      <td>0</td>\n",
       "      <td>0</td>\n",
       "      <td>0</td>\n",
       "      <td>0</td>\n",
       "      <td>2</td>\n",
       "      <td>...</td>\n",
       "      <td>0</td>\n",
       "      <td>0</td>\n",
       "      <td>0</td>\n",
       "      <td>-2</td>\n",
       "      <td>14963</td>\n",
       "      <td>4858</td>\n",
       "      <td>266</td>\n",
       "      <td>1.324174</td>\n",
       "      <td>0.754906</td>\n",
       "      <td>0.245094</td>\n",
       "    </tr>\n",
       "    <tr>\n",
       "      <th>1</th>\n",
       "      <td>ss715578818</td>\n",
       "      <td>2</td>\n",
       "      <td>0</td>\n",
       "      <td>-2</td>\n",
       "      <td>0</td>\n",
       "      <td>0</td>\n",
       "      <td>0</td>\n",
       "      <td>0</td>\n",
       "      <td>0</td>\n",
       "      <td>2</td>\n",
       "      <td>...</td>\n",
       "      <td>0</td>\n",
       "      <td>0</td>\n",
       "      <td>0</td>\n",
       "      <td>-2</td>\n",
       "      <td>14761</td>\n",
       "      <td>4745</td>\n",
       "      <td>581</td>\n",
       "      <td>2.892274</td>\n",
       "      <td>0.756742</td>\n",
       "      <td>0.243258</td>\n",
       "    </tr>\n",
       "    <tr>\n",
       "      <th>2</th>\n",
       "      <td>ss715578923</td>\n",
       "      <td>2</td>\n",
       "      <td>0</td>\n",
       "      <td>-2</td>\n",
       "      <td>0</td>\n",
       "      <td>0</td>\n",
       "      <td>0</td>\n",
       "      <td>0</td>\n",
       "      <td>0</td>\n",
       "      <td>2</td>\n",
       "      <td>...</td>\n",
       "      <td>0</td>\n",
       "      <td>0</td>\n",
       "      <td>0</td>\n",
       "      <td>-2</td>\n",
       "      <td>13915</td>\n",
       "      <td>5887</td>\n",
       "      <td>285</td>\n",
       "      <td>1.418757</td>\n",
       "      <td>0.702707</td>\n",
       "      <td>0.297293</td>\n",
       "    </tr>\n",
       "    <tr>\n",
       "      <th>3</th>\n",
       "      <td>ss715578960</td>\n",
       "      <td>0</td>\n",
       "      <td>0</td>\n",
       "      <td>0</td>\n",
       "      <td>0</td>\n",
       "      <td>0</td>\n",
       "      <td>0</td>\n",
       "      <td>0</td>\n",
       "      <td>0</td>\n",
       "      <td>0</td>\n",
       "      <td>...</td>\n",
       "      <td>0</td>\n",
       "      <td>0</td>\n",
       "      <td>0</td>\n",
       "      <td>0</td>\n",
       "      <td>18053</td>\n",
       "      <td>1825</td>\n",
       "      <td>209</td>\n",
       "      <td>1.040422</td>\n",
       "      <td>0.908190</td>\n",
       "      <td>0.091810</td>\n",
       "    </tr>\n",
       "    <tr>\n",
       "      <th>4</th>\n",
       "      <td>ss715579193</td>\n",
       "      <td>0</td>\n",
       "      <td>0</td>\n",
       "      <td>-2</td>\n",
       "      <td>0</td>\n",
       "      <td>0</td>\n",
       "      <td>0</td>\n",
       "      <td>0</td>\n",
       "      <td>0</td>\n",
       "      <td>2</td>\n",
       "      <td>...</td>\n",
       "      <td>0</td>\n",
       "      <td>0</td>\n",
       "      <td>0</td>\n",
       "      <td>-2</td>\n",
       "      <td>17246</td>\n",
       "      <td>2608</td>\n",
       "      <td>233</td>\n",
       "      <td>1.159896</td>\n",
       "      <td>0.868641</td>\n",
       "      <td>0.131359</td>\n",
       "    </tr>\n",
       "  </tbody>\n",
       "</table>\n",
       "<p>5 rows × 20094 columns</p>\n",
       "</div>"
      ],
      "text/plain": [
       "            ID  PI86046  PI90208  PI219698  PI253651A  PI347550A  PI398807  \\\n",
       "0  ss715578788        2        0        -2          0          0         0   \n",
       "1  ss715578818        2        0        -2          0          0         0   \n",
       "2  ss715578923        2        0        -2          0          0         0   \n",
       "3  ss715578960        0        0         0          0          0         0   \n",
       "4  ss715579193        0        0        -2          0          0         0   \n",
       "\n",
       "   PI408055A  PI408069  PI408169A  ...  PI423967  PI587906  PI587946  \\\n",
       "0          0         0          2  ...         0         0         0   \n",
       "1          0         0          2  ...         0         0         0   \n",
       "2          0         0          2  ...         0         0         0   \n",
       "3          0         0          0  ...         0         0         0   \n",
       "4          0         0          2  ...         0         0         0   \n",
       "\n",
       "   PI603516  Ref_allele  Alt_allele  Missing  perc_miss   MAF_Ref   MAF_Alt  \n",
       "0        -2       14963        4858      266   1.324174  0.754906  0.245094  \n",
       "1        -2       14761        4745      581   2.892274  0.756742  0.243258  \n",
       "2        -2       13915        5887      285   1.418757  0.702707  0.297293  \n",
       "3         0       18053        1825      209   1.040422  0.908190  0.091810  \n",
       "4        -2       17246        2608      233   1.159896  0.868641  0.131359  \n",
       "\n",
       "[5 rows x 20094 columns]"
      ]
     },
     "execution_count": 70,
     "metadata": {},
     "output_type": "execute_result"
    }
   ],
   "source": [
    "geno_calls['MAF_Ref']=(geno_calls['Ref_allele']*2)/((geno_calls['Ref_allele'] + geno_calls['Alt_allele'])*2)\n",
    "# e.g. Population size 108, reference allele “A” = 70 and Alternate_allele “G”=38\n",
    "# =(2*70)/(2*(70+38)\n",
    "# =0.648 \n",
    "# =1-0.648=0.352 MAF of alternate_allele\n",
    "geno_calls['MAF_Alt']=1-(geno_calls['Ref_allele']*2)/((geno_calls['Ref_allele'] + geno_calls['Alt_allele'])*2)\n",
    "\n",
    "geno_calls.head()"
   ]
  },
  {
   "cell_type": "markdown",
   "id": "0b31f8af",
   "metadata": {},
   "source": [
    "## 3.5a Drop SNPs with MAF<0.01"
   ]
  },
  {
   "cell_type": "code",
   "execution_count": 76,
   "id": "cd29ac4f",
   "metadata": {},
   "outputs": [
    {
     "name": "stdout",
     "output_type": "stream",
     "text": [
      "SNPs with <1 % Ref_allele MAF: 41990\n"
     ]
    }
   ],
   "source": [
    "geno_MAF_Ref_1_percent=geno_calls.loc[geno_calls['MAF_Ref']>0.01]\n",
    "print('SNPs with <1 % Ref_allele MAF:', geno_MAF_Ref_1_percent.shape[0])"
   ]
  },
  {
   "cell_type": "code",
   "execution_count": 77,
   "id": "f2274dc0",
   "metadata": {},
   "outputs": [
    {
     "name": "stdout",
     "output_type": "stream",
     "text": [
      "SNPs with <1 % Alt_allele MAF: 39858\n"
     ]
    }
   ],
   "source": [
    "geno_MAF_Alt_1_percent=geno_calls.loc[geno_calls['MAF_Alt']>0.01]\n",
    "print('SNPs with <1 % Alt_allele MAF:', geno_MAF_Alt_1_percent.shape[0])"
   ]
  },
  {
   "cell_type": "markdown",
   "id": "e0f49cdd",
   "metadata": {},
   "source": [
    "39858 SNPs remained after dropping SNPs with >10% missing data, monomorphic SNPS, MAF<0.01"
   ]
  },
  {
   "cell_type": "markdown",
   "id": "2a3a0de1",
   "metadata": {},
   "source": [
    "# Drop SNPs with MAF<0.05"
   ]
  },
  {
   "cell_type": "code",
   "execution_count": 78,
   "id": "b078f3c4",
   "metadata": {},
   "outputs": [
    {
     "name": "stdout",
     "output_type": "stream",
     "text": [
      "SNPs with <5 % Ref_allele MAF: 41831\n"
     ]
    }
   ],
   "source": [
    "geno_MAF_Ref_5_percent=geno_calls.loc[geno_calls['MAF_Ref']>0.05]\n",
    "print('SNPs with <5 % Ref_allele MAF:', geno_MAF_Ref_5_percent.shape[0])"
   ]
  },
  {
   "cell_type": "code",
   "execution_count": 79,
   "id": "8f3b07e8",
   "metadata": {},
   "outputs": [
    {
     "name": "stdout",
     "output_type": "stream",
     "text": [
      "SNPs with <5 % Alt_allele MAF: 36729\n"
     ]
    }
   ],
   "source": [
    "geno_MAF_Alt_5_percent=geno_calls.loc[geno_calls['MAF_Alt']>0.05]\n",
    "print('SNPs with <5 % Alt_allele MAF:', geno_MAF_Alt_5_percent.shape[0])"
   ]
  },
  {
   "cell_type": "markdown",
   "id": "29e1dd4d",
   "metadata": {},
   "source": [
    "36729 SNPs remained after dropping SNPs with >10% missing data, monomorphic SNPS, MAF<0.05"
   ]
  },
  {
   "cell_type": "code",
   "execution_count": 80,
   "id": "75ab292b",
   "metadata": {},
   "outputs": [
    {
     "data": {
      "text/html": [
       "<div>\n",
       "<style scoped>\n",
       "    .dataframe tbody tr th:only-of-type {\n",
       "        vertical-align: middle;\n",
       "    }\n",
       "\n",
       "    .dataframe tbody tr th {\n",
       "        vertical-align: top;\n",
       "    }\n",
       "\n",
       "    .dataframe thead th {\n",
       "        text-align: right;\n",
       "    }\n",
       "</style>\n",
       "<table border=\"1\" class=\"dataframe\">\n",
       "  <thead>\n",
       "    <tr style=\"text-align: right;\">\n",
       "      <th></th>\n",
       "      <th>ID</th>\n",
       "      <th>PI86046</th>\n",
       "      <th>PI90208</th>\n",
       "      <th>PI219698</th>\n",
       "      <th>PI253651A</th>\n",
       "      <th>PI347550A</th>\n",
       "      <th>PI398807</th>\n",
       "      <th>PI408055A</th>\n",
       "      <th>PI408069</th>\n",
       "      <th>PI408169A</th>\n",
       "      <th>...</th>\n",
       "      <th>PI423967</th>\n",
       "      <th>PI587906</th>\n",
       "      <th>PI587946</th>\n",
       "      <th>PI603516</th>\n",
       "      <th>Ref_allele</th>\n",
       "      <th>Alt_allele</th>\n",
       "      <th>Missing</th>\n",
       "      <th>perc_miss</th>\n",
       "      <th>MAF_Ref</th>\n",
       "      <th>MAF_Alt</th>\n",
       "    </tr>\n",
       "  </thead>\n",
       "  <tbody>\n",
       "    <tr>\n",
       "      <th>0</th>\n",
       "      <td>ss715578788</td>\n",
       "      <td>2</td>\n",
       "      <td>0</td>\n",
       "      <td>-2</td>\n",
       "      <td>0</td>\n",
       "      <td>0</td>\n",
       "      <td>0</td>\n",
       "      <td>0</td>\n",
       "      <td>0</td>\n",
       "      <td>2</td>\n",
       "      <td>...</td>\n",
       "      <td>0</td>\n",
       "      <td>0</td>\n",
       "      <td>0</td>\n",
       "      <td>-2</td>\n",
       "      <td>14963</td>\n",
       "      <td>4858</td>\n",
       "      <td>266</td>\n",
       "      <td>1.324174</td>\n",
       "      <td>0.754906</td>\n",
       "      <td>0.245094</td>\n",
       "    </tr>\n",
       "    <tr>\n",
       "      <th>1</th>\n",
       "      <td>ss715578818</td>\n",
       "      <td>2</td>\n",
       "      <td>0</td>\n",
       "      <td>-2</td>\n",
       "      <td>0</td>\n",
       "      <td>0</td>\n",
       "      <td>0</td>\n",
       "      <td>0</td>\n",
       "      <td>0</td>\n",
       "      <td>2</td>\n",
       "      <td>...</td>\n",
       "      <td>0</td>\n",
       "      <td>0</td>\n",
       "      <td>0</td>\n",
       "      <td>-2</td>\n",
       "      <td>14761</td>\n",
       "      <td>4745</td>\n",
       "      <td>581</td>\n",
       "      <td>2.892274</td>\n",
       "      <td>0.756742</td>\n",
       "      <td>0.243258</td>\n",
       "    </tr>\n",
       "    <tr>\n",
       "      <th>2</th>\n",
       "      <td>ss715578923</td>\n",
       "      <td>2</td>\n",
       "      <td>0</td>\n",
       "      <td>-2</td>\n",
       "      <td>0</td>\n",
       "      <td>0</td>\n",
       "      <td>0</td>\n",
       "      <td>0</td>\n",
       "      <td>0</td>\n",
       "      <td>2</td>\n",
       "      <td>...</td>\n",
       "      <td>0</td>\n",
       "      <td>0</td>\n",
       "      <td>0</td>\n",
       "      <td>-2</td>\n",
       "      <td>13915</td>\n",
       "      <td>5887</td>\n",
       "      <td>285</td>\n",
       "      <td>1.418757</td>\n",
       "      <td>0.702707</td>\n",
       "      <td>0.297293</td>\n",
       "    </tr>\n",
       "    <tr>\n",
       "      <th>3</th>\n",
       "      <td>ss715578960</td>\n",
       "      <td>0</td>\n",
       "      <td>0</td>\n",
       "      <td>0</td>\n",
       "      <td>0</td>\n",
       "      <td>0</td>\n",
       "      <td>0</td>\n",
       "      <td>0</td>\n",
       "      <td>0</td>\n",
       "      <td>0</td>\n",
       "      <td>...</td>\n",
       "      <td>0</td>\n",
       "      <td>0</td>\n",
       "      <td>0</td>\n",
       "      <td>0</td>\n",
       "      <td>18053</td>\n",
       "      <td>1825</td>\n",
       "      <td>209</td>\n",
       "      <td>1.040422</td>\n",
       "      <td>0.908190</td>\n",
       "      <td>0.091810</td>\n",
       "    </tr>\n",
       "    <tr>\n",
       "      <th>4</th>\n",
       "      <td>ss715579193</td>\n",
       "      <td>0</td>\n",
       "      <td>0</td>\n",
       "      <td>-2</td>\n",
       "      <td>0</td>\n",
       "      <td>0</td>\n",
       "      <td>0</td>\n",
       "      <td>0</td>\n",
       "      <td>0</td>\n",
       "      <td>2</td>\n",
       "      <td>...</td>\n",
       "      <td>0</td>\n",
       "      <td>0</td>\n",
       "      <td>0</td>\n",
       "      <td>-2</td>\n",
       "      <td>17246</td>\n",
       "      <td>2608</td>\n",
       "      <td>233</td>\n",
       "      <td>1.159896</td>\n",
       "      <td>0.868641</td>\n",
       "      <td>0.131359</td>\n",
       "    </tr>\n",
       "  </tbody>\n",
       "</table>\n",
       "<p>5 rows × 20094 columns</p>\n",
       "</div>"
      ],
      "text/plain": [
       "            ID  PI86046  PI90208  PI219698  PI253651A  PI347550A  PI398807  \\\n",
       "0  ss715578788        2        0        -2          0          0         0   \n",
       "1  ss715578818        2        0        -2          0          0         0   \n",
       "2  ss715578923        2        0        -2          0          0         0   \n",
       "3  ss715578960        0        0         0          0          0         0   \n",
       "4  ss715579193        0        0        -2          0          0         0   \n",
       "\n",
       "   PI408055A  PI408069  PI408169A  ...  PI423967  PI587906  PI587946  \\\n",
       "0          0         0          2  ...         0         0         0   \n",
       "1          0         0          2  ...         0         0         0   \n",
       "2          0         0          2  ...         0         0         0   \n",
       "3          0         0          0  ...         0         0         0   \n",
       "4          0         0          2  ...         0         0         0   \n",
       "\n",
       "   PI603516  Ref_allele  Alt_allele  Missing  perc_miss   MAF_Ref   MAF_Alt  \n",
       "0        -2       14963        4858      266   1.324174  0.754906  0.245094  \n",
       "1        -2       14761        4745      581   2.892274  0.756742  0.243258  \n",
       "2        -2       13915        5887      285   1.418757  0.702707  0.297293  \n",
       "3         0       18053        1825      209   1.040422  0.908190  0.091810  \n",
       "4        -2       17246        2608      233   1.159896  0.868641  0.131359  \n",
       "\n",
       "[5 rows x 20094 columns]"
      ]
     },
     "execution_count": 80,
     "metadata": {},
     "output_type": "execute_result"
    }
   ],
   "source": [
    "geno_MAF_Alt_5_percent.head()"
   ]
  },
  {
   "cell_type": "code",
   "execution_count": null,
   "id": "0711abf9",
   "metadata": {},
   "outputs": [],
   "source": [
    "geno_MAF_Alt_5_percent.to_csv('Soy50K_SNPs_filtered.csv')"
   ]
  },
  {
   "cell_type": "markdown",
   "id": "4a9bb67b",
   "metadata": {},
   "source": [
    "## for further SNP filtering thoghts "
   ]
  },
  {
   "cell_type": "markdown",
   "id": "4dcc5722",
   "metadata": {},
   "source": [
    "## slice req'ed columns"
   ]
  },
  {
   "cell_type": "code",
   "execution_count": 85,
   "id": "abb1e685",
   "metadata": {},
   "outputs": [
    {
     "data": {
      "text/html": [
       "<div>\n",
       "<style scoped>\n",
       "    .dataframe tbody tr th:only-of-type {\n",
       "        vertical-align: middle;\n",
       "    }\n",
       "\n",
       "    .dataframe tbody tr th {\n",
       "        vertical-align: top;\n",
       "    }\n",
       "\n",
       "    .dataframe thead th {\n",
       "        text-align: right;\n",
       "    }\n",
       "</style>\n",
       "<table border=\"1\" class=\"dataframe\">\n",
       "  <thead>\n",
       "    <tr style=\"text-align: right;\">\n",
       "      <th></th>\n",
       "      <th>ID</th>\n",
       "      <th>Ref_allele</th>\n",
       "      <th>Alt_allele</th>\n",
       "      <th>Missing</th>\n",
       "      <th>perc_miss</th>\n",
       "      <th>MAF_Ref</th>\n",
       "      <th>MAF_Alt</th>\n",
       "    </tr>\n",
       "  </thead>\n",
       "  <tbody>\n",
       "    <tr>\n",
       "      <th>0</th>\n",
       "      <td>ss715578788</td>\n",
       "      <td>14963</td>\n",
       "      <td>4858</td>\n",
       "      <td>266</td>\n",
       "      <td>1.324174</td>\n",
       "      <td>0.754906</td>\n",
       "      <td>0.245094</td>\n",
       "    </tr>\n",
       "    <tr>\n",
       "      <th>1</th>\n",
       "      <td>ss715578818</td>\n",
       "      <td>14761</td>\n",
       "      <td>4745</td>\n",
       "      <td>581</td>\n",
       "      <td>2.892274</td>\n",
       "      <td>0.756742</td>\n",
       "      <td>0.243258</td>\n",
       "    </tr>\n",
       "    <tr>\n",
       "      <th>2</th>\n",
       "      <td>ss715578923</td>\n",
       "      <td>13915</td>\n",
       "      <td>5887</td>\n",
       "      <td>285</td>\n",
       "      <td>1.418757</td>\n",
       "      <td>0.702707</td>\n",
       "      <td>0.297293</td>\n",
       "    </tr>\n",
       "    <tr>\n",
       "      <th>3</th>\n",
       "      <td>ss715578960</td>\n",
       "      <td>18053</td>\n",
       "      <td>1825</td>\n",
       "      <td>209</td>\n",
       "      <td>1.040422</td>\n",
       "      <td>0.908190</td>\n",
       "      <td>0.091810</td>\n",
       "    </tr>\n",
       "    <tr>\n",
       "      <th>4</th>\n",
       "      <td>ss715579193</td>\n",
       "      <td>17246</td>\n",
       "      <td>2608</td>\n",
       "      <td>233</td>\n",
       "      <td>1.159896</td>\n",
       "      <td>0.868641</td>\n",
       "      <td>0.131359</td>\n",
       "    </tr>\n",
       "  </tbody>\n",
       "</table>\n",
       "</div>"
      ],
      "text/plain": [
       "            ID  Ref_allele  Alt_allele  Missing  perc_miss   MAF_Ref   MAF_Alt\n",
       "0  ss715578788       14963        4858      266   1.324174  0.754906  0.245094\n",
       "1  ss715578818       14761        4745      581   2.892274  0.756742  0.243258\n",
       "2  ss715578923       13915        5887      285   1.418757  0.702707  0.297293\n",
       "3  ss715578960       18053        1825      209   1.040422  0.908190  0.091810\n",
       "4  ss715579193       17246        2608      233   1.159896  0.868641  0.131359"
      ]
     },
     "execution_count": 85,
     "metadata": {},
     "output_type": "execute_result"
    }
   ],
   "source": [
    "cols=geno_MAF_Alt_5_percent[['ID','Ref_allele','Alt_allele','Missing','perc_miss','MAF_Ref','MAF_Alt']]\n",
    "cols_df=pd.DataFrame(cols)\n",
    "cols_df.head()"
   ]
  },
  {
   "cell_type": "code",
   "execution_count": 86,
   "id": "ed153cb6",
   "metadata": {},
   "outputs": [
    {
     "data": {
      "text/plain": [
       "(36729, 7)"
      ]
     },
     "execution_count": 86,
     "metadata": {},
     "output_type": "execute_result"
    }
   ],
   "source": [
    "cols_df.shape # same number of rows after dropping SNPs with >10% missing data, monomorphic SNPS, MAF<0.05"
   ]
  },
  {
   "cell_type": "code",
   "execution_count": 87,
   "id": "cdc0a4ac",
   "metadata": {},
   "outputs": [
    {
     "data": {
      "text/html": [
       "<div>\n",
       "<style scoped>\n",
       "    .dataframe tbody tr th:only-of-type {\n",
       "        vertical-align: middle;\n",
       "    }\n",
       "\n",
       "    .dataframe tbody tr th {\n",
       "        vertical-align: top;\n",
       "    }\n",
       "\n",
       "    .dataframe thead th {\n",
       "        text-align: right;\n",
       "    }\n",
       "</style>\n",
       "<table border=\"1\" class=\"dataframe\">\n",
       "  <thead>\n",
       "    <tr style=\"text-align: right;\">\n",
       "      <th></th>\n",
       "      <th>ID</th>\n",
       "      <th>Ref_allele</th>\n",
       "      <th>Alt_allele</th>\n",
       "      <th>Missing</th>\n",
       "      <th>perc_miss</th>\n",
       "      <th>MAF_Ref</th>\n",
       "      <th>MAF_Alt</th>\n",
       "      <th>Ref_perc</th>\n",
       "      <th>Alt_perc</th>\n",
       "      <th>Allele_diff</th>\n",
       "    </tr>\n",
       "  </thead>\n",
       "  <tbody>\n",
       "    <tr>\n",
       "      <th>8257</th>\n",
       "      <td>ss715592313</td>\n",
       "      <td>19007</td>\n",
       "      <td>1001</td>\n",
       "      <td>79</td>\n",
       "      <td>0.393270</td>\n",
       "      <td>0.949970</td>\n",
       "      <td>0.050030</td>\n",
       "      <td>0.949970</td>\n",
       "      <td>0.050030</td>\n",
       "      <td>0.899940</td>\n",
       "    </tr>\n",
       "    <tr>\n",
       "      <th>15221</th>\n",
       "      <td>ss715600397</td>\n",
       "      <td>18892</td>\n",
       "      <td>995</td>\n",
       "      <td>200</td>\n",
       "      <td>0.995619</td>\n",
       "      <td>0.949967</td>\n",
       "      <td>0.050033</td>\n",
       "      <td>0.949967</td>\n",
       "      <td>0.050033</td>\n",
       "      <td>0.899935</td>\n",
       "    </tr>\n",
       "    <tr>\n",
       "      <th>13174</th>\n",
       "      <td>ss715596878</td>\n",
       "      <td>19020</td>\n",
       "      <td>1002</td>\n",
       "      <td>65</td>\n",
       "      <td>0.323576</td>\n",
       "      <td>0.949955</td>\n",
       "      <td>0.050045</td>\n",
       "      <td>0.949955</td>\n",
       "      <td>0.050045</td>\n",
       "      <td>0.899910</td>\n",
       "    </tr>\n",
       "    <tr>\n",
       "      <th>27640</th>\n",
       "      <td>ss715617532</td>\n",
       "      <td>19011</td>\n",
       "      <td>1002</td>\n",
       "      <td>74</td>\n",
       "      <td>0.368379</td>\n",
       "      <td>0.949933</td>\n",
       "      <td>0.050067</td>\n",
       "      <td>0.949933</td>\n",
       "      <td>0.050067</td>\n",
       "      <td>0.899865</td>\n",
       "    </tr>\n",
       "    <tr>\n",
       "      <th>6933</th>\n",
       "      <td>ss715587775</td>\n",
       "      <td>19007</td>\n",
       "      <td>1002</td>\n",
       "      <td>78</td>\n",
       "      <td>0.388292</td>\n",
       "      <td>0.949923</td>\n",
       "      <td>0.050077</td>\n",
       "      <td>0.949923</td>\n",
       "      <td>0.050077</td>\n",
       "      <td>0.899845</td>\n",
       "    </tr>\n",
       "    <tr>\n",
       "      <th>...</th>\n",
       "      <td>...</td>\n",
       "      <td>...</td>\n",
       "      <td>...</td>\n",
       "      <td>...</td>\n",
       "      <td>...</td>\n",
       "      <td>...</td>\n",
       "      <td>...</td>\n",
       "      <td>...</td>\n",
       "      <td>...</td>\n",
       "      <td>...</td>\n",
       "    </tr>\n",
       "    <tr>\n",
       "      <th>16280</th>\n",
       "      <td>ss715602233</td>\n",
       "      <td>1</td>\n",
       "      <td>20036</td>\n",
       "      <td>50</td>\n",
       "      <td>0.248905</td>\n",
       "      <td>0.000050</td>\n",
       "      <td>0.999950</td>\n",
       "      <td>0.000050</td>\n",
       "      <td>0.999950</td>\n",
       "      <td>-0.999900</td>\n",
       "    </tr>\n",
       "    <tr>\n",
       "      <th>30139</th>\n",
       "      <td>ss715621158</td>\n",
       "      <td>1</td>\n",
       "      <td>20037</td>\n",
       "      <td>49</td>\n",
       "      <td>0.243927</td>\n",
       "      <td>0.000050</td>\n",
       "      <td>0.999950</td>\n",
       "      <td>0.000050</td>\n",
       "      <td>0.999950</td>\n",
       "      <td>-0.999900</td>\n",
       "    </tr>\n",
       "    <tr>\n",
       "      <th>34631</th>\n",
       "      <td>ss715627619</td>\n",
       "      <td>1</td>\n",
       "      <td>20038</td>\n",
       "      <td>48</td>\n",
       "      <td>0.238949</td>\n",
       "      <td>0.000050</td>\n",
       "      <td>0.999950</td>\n",
       "      <td>0.000050</td>\n",
       "      <td>0.999950</td>\n",
       "      <td>-0.999900</td>\n",
       "    </tr>\n",
       "    <tr>\n",
       "      <th>8789</th>\n",
       "      <td>ss715590793</td>\n",
       "      <td>1</td>\n",
       "      <td>20039</td>\n",
       "      <td>47</td>\n",
       "      <td>0.233971</td>\n",
       "      <td>0.000050</td>\n",
       "      <td>0.999950</td>\n",
       "      <td>0.000050</td>\n",
       "      <td>0.999950</td>\n",
       "      <td>-0.999900</td>\n",
       "    </tr>\n",
       "    <tr>\n",
       "      <th>10471</th>\n",
       "      <td>ss715593035</td>\n",
       "      <td>1</td>\n",
       "      <td>20041</td>\n",
       "      <td>45</td>\n",
       "      <td>0.224014</td>\n",
       "      <td>0.000050</td>\n",
       "      <td>0.999950</td>\n",
       "      <td>0.000050</td>\n",
       "      <td>0.999950</td>\n",
       "      <td>-0.999900</td>\n",
       "    </tr>\n",
       "  </tbody>\n",
       "</table>\n",
       "<p>36729 rows × 10 columns</p>\n",
       "</div>"
      ],
      "text/plain": [
       "                ID  Ref_allele  Alt_allele  Missing  perc_miss   MAF_Ref  \\\n",
       "8257   ss715592313       19007        1001       79   0.393270  0.949970   \n",
       "15221  ss715600397       18892         995      200   0.995619  0.949967   \n",
       "13174  ss715596878       19020        1002       65   0.323576  0.949955   \n",
       "27640  ss715617532       19011        1002       74   0.368379  0.949933   \n",
       "6933   ss715587775       19007        1002       78   0.388292  0.949923   \n",
       "...            ...         ...         ...      ...        ...       ...   \n",
       "16280  ss715602233           1       20036       50   0.248905  0.000050   \n",
       "30139  ss715621158           1       20037       49   0.243927  0.000050   \n",
       "34631  ss715627619           1       20038       48   0.238949  0.000050   \n",
       "8789   ss715590793           1       20039       47   0.233971  0.000050   \n",
       "10471  ss715593035           1       20041       45   0.224014  0.000050   \n",
       "\n",
       "        MAF_Alt  Ref_perc  Alt_perc  Allele_diff  \n",
       "8257   0.050030  0.949970  0.050030     0.899940  \n",
       "15221  0.050033  0.949967  0.050033     0.899935  \n",
       "13174  0.050045  0.949955  0.050045     0.899910  \n",
       "27640  0.050067  0.949933  0.050067     0.899865  \n",
       "6933   0.050077  0.949923  0.050077     0.899845  \n",
       "...         ...       ...       ...          ...  \n",
       "16280  0.999950  0.000050  0.999950    -0.999900  \n",
       "30139  0.999950  0.000050  0.999950    -0.999900  \n",
       "34631  0.999950  0.000050  0.999950    -0.999900  \n",
       "8789   0.999950  0.000050  0.999950    -0.999900  \n",
       "10471  0.999950  0.000050  0.999950    -0.999900  \n",
       "\n",
       "[36729 rows x 10 columns]"
      ]
     },
     "execution_count": 87,
     "metadata": {},
     "output_type": "execute_result"
    }
   ],
   "source": [
    "cols_df['Ref_perc']=cols_df['Ref_allele']/(cols_df['Ref_allele']+cols_df['Alt_allele']) # what percentage of reference allele is there\n",
    "cols_df['Alt_perc']=cols_df['Alt_allele']/(cols_df['Ref_allele']+cols_df['Alt_allele']) # what percentage of alternate allele is there\n",
    "cols_df['Allele_diff']=cols_df['Ref_perc']-cols_df['Alt_perc'] # difference of ref and alternate allele percentage\n",
    "cols_df.sort_values(by='Allele_diff', ascending=False) # filter data by Allele_diff\n"
   ]
  },
  {
   "cell_type": "markdown",
   "id": "33eae30f",
   "metadata": {},
   "source": [
    "Notice that several uneven proportion of Ref and alternate alleles, indicates uneven polymorphism. So, it's important to set threshold Ref:Alternate allele ratio."
   ]
  },
  {
   "cell_type": "markdown",
   "id": "09f6fa83",
   "metadata": {},
   "source": [
    "# plot Allele_diff column to see distribution of alleles"
   ]
  },
  {
   "cell_type": "code",
   "execution_count": 88,
   "id": "adc2dbf9",
   "metadata": {},
   "outputs": [
    {
     "data": {
      "image/png": "[encoded data removed]",
      "text/plain": [
       "<Figure size 432x288 with 1 Axes>"
      ]
     },
     "metadata": {
      "needs_background": "light"
     },
     "output_type": "display_data"
    },
    {
     "data": {
      "image/png": "[encoded data removed]",
      "text/plain": [
       "<Figure size 432x288 with 1 Axes>"
      ]
     },
     "metadata": {
      "needs_background": "light"
     },
     "output_type": "display_data"
    },
    {
     "data": {
      "image/png": "[encoded data removed]",
      "text/plain": [
       "<Figure size 432x288 with 1 Axes>"
      ]
     },
     "metadata": {
      "needs_background": "light"
     },
     "output_type": "display_data"
    },
    {
     "data": {
      "image/png": "[encoded data removed]",
      "text/plain": [
       "<Figure size 432x288 with 1 Axes>"
      ]
     },
     "metadata": {
      "needs_background": "light"
     },
     "output_type": "display_data"
    },
    {
     "data": {
      "image/png": "[encoded data removed]",
      "text/plain": [
       "<Figure size 432x288 with 1 Axes>"
      ]
     },
     "metadata": {
      "needs_background": "light"
     },
     "output_type": "display_data"
    },
    {
     "data": {
      "image/png": "[encoded data removed]",
      "text/plain": [
       "<Figure size 432x288 with 1 Axes>"
      ]
     },
     "metadata": {
      "needs_background": "light"
     },
     "output_type": "display_data"
    },
    {
     "data": {
      "image/png": "[encoded data removed]",
      "text/plain": [
       "<Figure size 432x288 with 1 Axes>"
      ]
     },
     "metadata": {
      "needs_background": "light"
     },
     "output_type": "display_data"
    },
    {
     "data": {
      "image/png": "[encoded data removed]",
      "text/plain": [
       "<Figure size 432x288 with 1 Axes>"
      ]
     },
     "metadata": {
      "needs_background": "light"
     },
     "output_type": "display_data"
    },
    {
     "data": {
      "image/png": "[encoded data removed]",
      "text/plain": [
       "<Figure size 432x288 with 1 Axes>"
      ]
     },
     "metadata": {
      "needs_background": "light"
     },
     "output_type": "display_data"
    }
   ],
   "source": [
    "#fig, ax =plt.subplots(1,2)\n",
    "cols=['Ref_allele','Alt_allele','Missing','perc_miss','Ref_perc','Alt_perc','Allele_diff','MAF_Ref','MAF_Alt']\n",
    "\n",
    "for i in cols:\n",
    "    sns.histplot(cols_df[i],bins=20)\n",
    "    plt.show()"
   ]
  },
  {
   "cell_type": "markdown",
   "id": "e5639034",
   "metadata": {},
   "source": [
    "Summary:\n",
    "\n",
    "SNPs filtering: \n",
    "There are 12 SNPs having >10% missing. But no SNPs having >10% het calls. Later het calls for the remaining loci were changed as missing data.\n",
    "Then, dropped 37 monomophic SNPs (either Ref_allele or Alt_allele count 0). Followed by, dropped SNPs having MAF<0.05.\n",
    "Finally, 36729 SNPs remained after dropping SNPs with >10% missing data, monomorphic SNPS, MAF<0.05\n"
   ]
  },
  {
   "cell_type": "code",
   "execution_count": null,
   "id": "86830902",
   "metadata": {},
   "outputs": [],
   "source": [
    "#Population structure was estimated using a Bayesian Markov Chain Monte Carlo model (MCMC)\n",
    "#Principal coordinates analysis (PCoA) based on genetic distance\n",
    "#The neighbor-joining phylogenetic tree based on genetic distance matrix "
   ]
  }
 ],
 "metadata": {
  "kernelspec": {
   "display_name": "Python 3 (ipykernel)",
   "language": "python",
   "name": "python3"
  },
  "language_info": {
   "codemirror_mode": {
    "name": "ipython",
    "version": 3
   },
   "file_extension": ".py",
   "mimetype": "text/x-python",
   "name": "python",
   "nbconvert_exporter": "python",
   "pygments_lexer": "ipython3",
   "version": "3.7.11"
  }
 },
 "nbformat": 4,
 "nbformat_minor": 5
}
