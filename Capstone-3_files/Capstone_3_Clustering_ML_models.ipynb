{
 "cells": [
  {
   "cell_type": "code",
   "execution_count": 1,
   "id": "6588f108",
   "metadata": {},
   "outputs": [],
   "source": [
    "import pandas as pd\n",
    "from sklearn.cluster import KMeans\n",
    "import matplotlib.pyplot as plt"
   ]
  },
  {
   "cell_type": "markdown",
   "id": "760a0955",
   "metadata": {},
   "source": [
    "# 1 Filtered Samples & Genotyping data"
   ]
  },
  {
   "cell_type": "code",
   "execution_count": 2,
   "id": "250d6a43",
   "metadata": {},
   "outputs": [
    {
     "data": {
      "text/html": [
       "<div>\n",
       "<style scoped>\n",
       "    .dataframe tbody tr th:only-of-type {\n",
       "        vertical-align: middle;\n",
       "    }\n",
       "\n",
       "    .dataframe tbody tr th {\n",
       "        vertical-align: top;\n",
       "    }\n",
       "\n",
       "    .dataframe thead th {\n",
       "        text-align: right;\n",
       "    }\n",
       "</style>\n",
       "<table border=\"1\" class=\"dataframe\">\n",
       "  <thead>\n",
       "    <tr style=\"text-align: right;\">\n",
       "      <th></th>\n",
       "      <th>ss715578788</th>\n",
       "      <th>ss715578818</th>\n",
       "      <th>ss715578923</th>\n",
       "      <th>ss715578960</th>\n",
       "      <th>ss715579193</th>\n",
       "      <th>ss715579265</th>\n",
       "      <th>ss715579576</th>\n",
       "      <th>ss715579942</th>\n",
       "      <th>ss715580755</th>\n",
       "      <th>ss715580822</th>\n",
       "      <th>...</th>\n",
       "      <th>ss715608834</th>\n",
       "      <th>ss715608835</th>\n",
       "      <th>ss715608836</th>\n",
       "      <th>ss715603654</th>\n",
       "      <th>ss715584705</th>\n",
       "      <th>ss715639176</th>\n",
       "      <th>ss715586962</th>\n",
       "      <th>ss715623959</th>\n",
       "      <th>ss715584606</th>\n",
       "      <th>ss715633065</th>\n",
       "    </tr>\n",
       "  </thead>\n",
       "  <tbody>\n",
       "    <tr>\n",
       "      <th>PI86046</th>\n",
       "      <td>2</td>\n",
       "      <td>2</td>\n",
       "      <td>2</td>\n",
       "      <td>0</td>\n",
       "      <td>0</td>\n",
       "      <td>0</td>\n",
       "      <td>2</td>\n",
       "      <td>0</td>\n",
       "      <td>2</td>\n",
       "      <td>2</td>\n",
       "      <td>...</td>\n",
       "      <td>0</td>\n",
       "      <td>0</td>\n",
       "      <td>0</td>\n",
       "      <td>0</td>\n",
       "      <td>2</td>\n",
       "      <td>2</td>\n",
       "      <td>2</td>\n",
       "      <td>0</td>\n",
       "      <td>0</td>\n",
       "      <td>0</td>\n",
       "    </tr>\n",
       "    <tr>\n",
       "      <th>PI90208</th>\n",
       "      <td>0</td>\n",
       "      <td>0</td>\n",
       "      <td>0</td>\n",
       "      <td>0</td>\n",
       "      <td>0</td>\n",
       "      <td>0</td>\n",
       "      <td>0</td>\n",
       "      <td>0</td>\n",
       "      <td>0</td>\n",
       "      <td>0</td>\n",
       "      <td>...</td>\n",
       "      <td>0</td>\n",
       "      <td>0</td>\n",
       "      <td>0</td>\n",
       "      <td>0</td>\n",
       "      <td>2</td>\n",
       "      <td>2</td>\n",
       "      <td>2</td>\n",
       "      <td>0</td>\n",
       "      <td>2</td>\n",
       "      <td>0</td>\n",
       "    </tr>\n",
       "    <tr>\n",
       "      <th>PI253651A</th>\n",
       "      <td>0</td>\n",
       "      <td>0</td>\n",
       "      <td>0</td>\n",
       "      <td>0</td>\n",
       "      <td>0</td>\n",
       "      <td>0</td>\n",
       "      <td>0</td>\n",
       "      <td>0</td>\n",
       "      <td>0</td>\n",
       "      <td>0</td>\n",
       "      <td>...</td>\n",
       "      <td>0</td>\n",
       "      <td>0</td>\n",
       "      <td>0</td>\n",
       "      <td>0</td>\n",
       "      <td>2</td>\n",
       "      <td>2</td>\n",
       "      <td>2</td>\n",
       "      <td>0</td>\n",
       "      <td>2</td>\n",
       "      <td>0</td>\n",
       "    </tr>\n",
       "    <tr>\n",
       "      <th>PI347550A</th>\n",
       "      <td>0</td>\n",
       "      <td>0</td>\n",
       "      <td>0</td>\n",
       "      <td>0</td>\n",
       "      <td>0</td>\n",
       "      <td>0</td>\n",
       "      <td>0</td>\n",
       "      <td>0</td>\n",
       "      <td>-2</td>\n",
       "      <td>0</td>\n",
       "      <td>...</td>\n",
       "      <td>0</td>\n",
       "      <td>0</td>\n",
       "      <td>0</td>\n",
       "      <td>0</td>\n",
       "      <td>2</td>\n",
       "      <td>2</td>\n",
       "      <td>2</td>\n",
       "      <td>2</td>\n",
       "      <td>2</td>\n",
       "      <td>2</td>\n",
       "    </tr>\n",
       "    <tr>\n",
       "      <th>PI398807</th>\n",
       "      <td>0</td>\n",
       "      <td>0</td>\n",
       "      <td>0</td>\n",
       "      <td>0</td>\n",
       "      <td>0</td>\n",
       "      <td>0</td>\n",
       "      <td>0</td>\n",
       "      <td>0</td>\n",
       "      <td>0</td>\n",
       "      <td>0</td>\n",
       "      <td>...</td>\n",
       "      <td>0</td>\n",
       "      <td>0</td>\n",
       "      <td>0</td>\n",
       "      <td>0</td>\n",
       "      <td>2</td>\n",
       "      <td>2</td>\n",
       "      <td>2</td>\n",
       "      <td>0</td>\n",
       "      <td>2</td>\n",
       "      <td>0</td>\n",
       "    </tr>\n",
       "  </tbody>\n",
       "</table>\n",
       "<p>5 rows × 36729 columns</p>\n",
       "</div>"
      ],
      "text/plain": [
       "           ss715578788  ss715578818  ss715578923  ss715578960  ss715579193  \\\n",
       "PI86046              2            2            2            0            0   \n",
       "PI90208              0            0            0            0            0   \n",
       "PI253651A            0            0            0            0            0   \n",
       "PI347550A            0            0            0            0            0   \n",
       "PI398807             0            0            0            0            0   \n",
       "\n",
       "           ss715579265  ss715579576  ss715579942  ss715580755  ss715580822  \\\n",
       "PI86046              0            2            0            2            2   \n",
       "PI90208              0            0            0            0            0   \n",
       "PI253651A            0            0            0            0            0   \n",
       "PI347550A            0            0            0           -2            0   \n",
       "PI398807             0            0            0            0            0   \n",
       "\n",
       "           ...  ss715608834  ss715608835  ss715608836  ss715603654  \\\n",
       "PI86046    ...            0            0            0            0   \n",
       "PI90208    ...            0            0            0            0   \n",
       "PI253651A  ...            0            0            0            0   \n",
       "PI347550A  ...            0            0            0            0   \n",
       "PI398807   ...            0            0            0            0   \n",
       "\n",
       "           ss715584705  ss715639176  ss715586962  ss715623959  ss715584606  \\\n",
       "PI86046              2            2            2            0            0   \n",
       "PI90208              2            2            2            0            2   \n",
       "PI253651A            2            2            2            0            2   \n",
       "PI347550A            2            2            2            2            2   \n",
       "PI398807             2            2            2            0            2   \n",
       "\n",
       "           ss715633065  \n",
       "PI86046              0  \n",
       "PI90208              0  \n",
       "PI253651A            0  \n",
       "PI347550A            2  \n",
       "PI398807             0  \n",
       "\n",
       "[5 rows x 36729 columns]"
      ]
     },
     "execution_count": 2,
     "metadata": {},
     "output_type": "execute_result"
    }
   ],
   "source": [
    "dataset=pd.read_csv('samples_SNP_filtered.csv',index_col=[0])\n",
    "dataset.head()"
   ]
  },
  {
   "cell_type": "code",
   "execution_count": 21,
   "id": "13a1f3a6",
   "metadata": {},
   "outputs": [
    {
     "data": {
      "text/html": [
       "<div>\n",
       "<style scoped>\n",
       "    .dataframe tbody tr th:only-of-type {\n",
       "        vertical-align: middle;\n",
       "    }\n",
       "\n",
       "    .dataframe tbody tr th {\n",
       "        vertical-align: top;\n",
       "    }\n",
       "\n",
       "    .dataframe thead th {\n",
       "        text-align: right;\n",
       "    }\n",
       "</style>\n",
       "<table border=\"1\" class=\"dataframe\">\n",
       "  <thead>\n",
       "    <tr style=\"text-align: right;\">\n",
       "      <th></th>\n",
       "      <th>index</th>\n",
       "      <th>GENames</th>\n",
       "    </tr>\n",
       "  </thead>\n",
       "  <tbody>\n",
       "    <tr>\n",
       "      <th>0</th>\n",
       "      <td>0</td>\n",
       "      <td>PI86046</td>\n",
       "    </tr>\n",
       "    <tr>\n",
       "      <th>1</th>\n",
       "      <td>1</td>\n",
       "      <td>PI90208</td>\n",
       "    </tr>\n",
       "    <tr>\n",
       "      <th>2</th>\n",
       "      <td>2</td>\n",
       "      <td>PI253651A</td>\n",
       "    </tr>\n",
       "    <tr>\n",
       "      <th>3</th>\n",
       "      <td>3</td>\n",
       "      <td>PI347550A</td>\n",
       "    </tr>\n",
       "    <tr>\n",
       "      <th>4</th>\n",
       "      <td>4</td>\n",
       "      <td>PI398807</td>\n",
       "    </tr>\n",
       "  </tbody>\n",
       "</table>\n",
       "</div>"
      ],
      "text/plain": [
       "   index    GENames\n",
       "0      0    PI86046\n",
       "1      1    PI90208\n",
       "2      2  PI253651A\n",
       "3      3  PI347550A\n",
       "4      4   PI398807"
      ]
     },
     "execution_count": 21,
     "metadata": {},
     "output_type": "execute_result"
    }
   ],
   "source": [
    "# create list of GENames for hierarchial clustering\n",
    "GENames=pd.DataFrame({'GENames':dataset.index})\n",
    "GENames.reset_index().head()"
   ]
  },
  {
   "cell_type": "code",
   "execution_count": 26,
   "id": "7d8fb09c",
   "metadata": {},
   "outputs": [
    {
     "data": {
      "text/plain": [
       "[19391, 19392, 19393, 19394, 19395]"
      ]
     },
     "execution_count": 26,
     "metadata": {},
     "output_type": "execute_result"
    }
   ],
   "source": [
    "# get the list of GENames index for using in hierarchial clustering\n",
    "GENames_list=list(GENames.index)\n",
    "GENames_list[-5:]"
   ]
  },
  {
   "cell_type": "code",
   "execution_count": 4,
   "id": "893a438c",
   "metadata": {},
   "outputs": [
    {
     "data": {
      "text/plain": [
       "(19396, 36729)"
      ]
     },
     "execution_count": 4,
     "metadata": {},
     "output_type": "execute_result"
    }
   ],
   "source": [
    "dataset.shape"
   ]
  },
  {
   "cell_type": "markdown",
   "id": "0393e306",
   "metadata": {},
   "source": [
    "# 2. ML modelling"
   ]
  },
  {
   "cell_type": "markdown",
   "id": "4b4c6d00",
   "metadata": {},
   "source": [
    "# 2.1 KMeans Clustering\n",
    "    - Finds clusters of samples; # of clusters needs to be specified\n",
    "    - Dataset to nparray"
   ]
  },
  {
   "cell_type": "code",
   "execution_count": 5,
   "id": "51b0ce8b",
   "metadata": {},
   "outputs": [
    {
     "data": {
      "text/plain": [
       "array([[2, 2, 2, ..., 0, 0, 0],\n",
       "       [0, 0, 0, ..., 0, 2, 0],\n",
       "       [0, 0, 0, ..., 0, 2, 0],\n",
       "       ...,\n",
       "       [0, 0, 0, ..., 0, 2, 0],\n",
       "       [0, 0, 0, ..., 0, 0, 0],\n",
       "       [0, 0, 0, ..., 0, 2, 0]], dtype=int64)"
      ]
     },
     "execution_count": 5,
     "metadata": {},
     "output_type": "execute_result"
    }
   ],
   "source": [
    "# 2.1.1 Convert DataFrame to 2D matrix/nympy array\n",
    "mat = dataset.values\n",
    "mat"
   ]
  },
  {
   "cell_type": "markdown",
   "id": "4e36480b",
   "metadata": {},
   "source": [
    "# 2.1.2 Choose a good number of clusters for this dataset using the k-means inertia graph\n",
    "\n",
    "### Inertia measures clustering quality and measures how spread out the clusters are (lower inertia is better) or how far the sample is from centroid; \n",
    "#### Determine How many clusters the dataset is spread across using atribute, model.inertia_ "
   ]
  },
  {
   "cell_type": "code",
   "execution_count": 6,
   "id": "30119052",
   "metadata": {},
   "outputs": [
    {
     "data": {
      "image/png": "[encoded data removed]",
      "text/plain": [
       "<Figure size 432x288 with 1 Axes>"
      ]
     },
     "metadata": {
      "needs_background": "light"
     },
     "output_type": "display_data"
    }
   ],
   "source": [
    "ks=range(1,10)\n",
    "inertias=[]\n",
    "\n",
    "for k in ks:\n",
    "    # create KMeans instance with a parameter of n_clusters\n",
    "    model=KMeans(n_clusters=k)\n",
    "    # fit model to matrix\n",
    "    model.fit(mat)\n",
    "    # append inertia to list of inertias\n",
    "    inertias.append(model.inertia_)\n",
    "\n",
    "# plot ks vs inertias\n",
    "plt.plot(ks, inertias, '-o')\n",
    "plt.title('Plot of inertia values of clustering with different numbers of clusters')\n",
    "plt.xlabel('number of clusters, k')\n",
    "plt.ylabel('inertia')\n",
    "plt.xticks(ks)\n",
    "plt.show()\n",
    "\n",
    "####### From the scatter plot, we see that the data seem to separate into 5 clusters"
   ]
  },
  {
   "cell_type": "markdown",
   "id": "62b09f90",
   "metadata": {},
   "source": [
    "## Summary:Plot of inertia values of clustering of dataset with different numbers of clusters. K means model with 5 clusters had relatively low inertia, which is great. But, notice that indertia continuous to decrease slowly. So, what's the best number of clusters to choose? \n",
    "#### A good clustering has tight clusters (low inertia) but also doesn't have too many clusters. A good rule of thumb is to choose an 'elbow' in the inertia plot i.e the a  point with inertia begins to decrease more slowly. So, 3 is a good number of clusters to soy 50k dataset.\n",
    "\n",
    "Result: The inertia decreases very slowly from 5 clusters to 6, so it looks like 5 clusters would be a good choice for this dataset."
   ]
  },
  {
   "cell_type": "markdown",
   "id": "d2bc752e",
   "metadata": {},
   "source": [
    "## Evaluating the clustering"
   ]
  },
  {
   "cell_type": "raw",
   "id": "f631fb05",
   "metadata": {},
   "source": [
    "### from the inertia plot that 5 is a good number of clusters for this dataset. So, here try to cluster the samples into 5 clusters and compare the clusters using a cross-tabulation\n",
    "Create a KMeans model with 5 clusters and predict label "
   ]
  },
  {
   "cell_type": "code",
   "execution_count": 7,
   "id": "403226d7",
   "metadata": {},
   "outputs": [
    {
     "name": "stdout",
     "output_type": "stream",
     "text": [
      "[4 0 2 ... 1 0 2]\n"
     ]
    }
   ],
   "source": [
    "# create a KMeans model with 5 clusters\n",
    "model = KMeans(n_clusters=5)\n",
    "\n",
    "# use fit_predict to fit model and obtain cluster labels\n",
    "labels = model.fit_predict(mat)\n",
    "print(labels)"
   ]
  },
  {
   "cell_type": "code",
   "execution_count": 8,
   "id": "a7b0863b",
   "metadata": {},
   "outputs": [
    {
     "name": "stdout",
     "output_type": "stream",
     "text": [
      "[[ 0.37900701  0.34232891  0.39272402 ...  0.04115104  1.88370359\n",
      "   0.01252423]\n",
      " [ 0.18185022  0.14555066  0.18079295 ...  0.57797357  1.33709251\n",
      "   0.63647577]\n",
      " [ 0.80335731  0.78609113  0.83021583 ...  0.54292566  1.241247\n",
      "   0.06426859]\n",
      " [ 0.34476534  0.28880866  1.66787004 ...  0.09927798  0.66967509\n",
      "  -1.52166065]\n",
      " [ 1.05990783  0.99539171  1.15668203 ...  0.81336406  0.59907834\n",
      "   0.1843318 ]]\n"
     ]
    }
   ],
   "source": [
    "# Which cluster each GE belongs to; Where is the center of each cluster is\n",
    "labels = model.labels_  # generates a NumPy array with predictions of cluster/GE\n",
    "# where the center of each cluster lies\n",
    "centers = model.cluster_centers_   # generates a two-dimensional NumPy array that contains the coordinates of each clusters center\n",
    "print(centers)\n"
   ]
  },
  {
   "cell_type": "code",
   "execution_count": 9,
   "id": "957956e1",
   "metadata": {},
   "outputs": [
    {
     "data": {
      "text/html": [
       "<div>\n",
       "<style scoped>\n",
       "    .dataframe tbody tr th:only-of-type {\n",
       "        vertical-align: middle;\n",
       "    }\n",
       "\n",
       "    .dataframe tbody tr th {\n",
       "        vertical-align: top;\n",
       "    }\n",
       "\n",
       "    .dataframe thead th {\n",
       "        text-align: right;\n",
       "    }\n",
       "</style>\n",
       "<table border=\"1\" class=\"dataframe\">\n",
       "  <thead>\n",
       "    <tr style=\"text-align: right;\">\n",
       "      <th></th>\n",
       "      <th>GEName</th>\n",
       "      <th>label</th>\n",
       "    </tr>\n",
       "  </thead>\n",
       "  <tbody>\n",
       "    <tr>\n",
       "      <th>0</th>\n",
       "      <td>PI86046</td>\n",
       "      <td>4</td>\n",
       "    </tr>\n",
       "    <tr>\n",
       "      <th>1</th>\n",
       "      <td>PI90208</td>\n",
       "      <td>0</td>\n",
       "    </tr>\n",
       "    <tr>\n",
       "      <th>2</th>\n",
       "      <td>PI253651A</td>\n",
       "      <td>2</td>\n",
       "    </tr>\n",
       "    <tr>\n",
       "      <th>3</th>\n",
       "      <td>PI347550A</td>\n",
       "      <td>1</td>\n",
       "    </tr>\n",
       "    <tr>\n",
       "      <th>4</th>\n",
       "      <td>PI398807</td>\n",
       "      <td>0</td>\n",
       "    </tr>\n",
       "  </tbody>\n",
       "</table>\n",
       "</div>"
      ],
      "text/plain": [
       "      GEName  label\n",
       "0    PI86046      4\n",
       "1    PI90208      0\n",
       "2  PI253651A      2\n",
       "3  PI347550A      1\n",
       "4   PI398807      0"
      ]
     },
     "execution_count": 9,
     "metadata": {},
     "output_type": "execute_result"
    }
   ],
   "source": [
    "# Cross tabulation with Pandas library: Format results as a DataFrame\n",
    "results = pd.DataFrame({'GEName':dataset.index,'label':labels})\n",
    "results.head()"
   ]
  },
  {
   "cell_type": "raw",
   "id": "68b627b5",
   "metadata": {},
   "source": [
    "# Cross Tabulation\n",
    "\n",
    "# Evaluating clustering ##### i.e compare the clusters to the samples using a cross-tabulation"
   ]
  },
  {
   "cell_type": "code",
   "execution_count": 10,
   "id": "d4717651",
   "metadata": {},
   "outputs": [
    {
     "name": "stdout",
     "output_type": "stream",
     "text": [
      "GEName  AC-2001  AC-Albatros  AC-Brant  AC-Bravor  AC-Cormoran  AC-Harmony  \\\n",
      "label                                                                        \n",
      "0             0            0         0          0            1           0   \n",
      "1             1            1         1          1            0           1   \n",
      "2             0            0         0          0            0           0   \n",
      "3             0            0         0          0            0           0   \n",
      "4             0            0         0          0            0           0   \n",
      "\n",
      "GEName  AC-Orford  AYR  Accord  Alta  ...  RCH-Bobcat  S05N12406  S05N12741  \\\n",
      "label                                 ...                                     \n",
      "0               0    0       0     0  ...           0          0          0   \n",
      "1               1    1       1     1  ...           1          1          1   \n",
      "2               0    0       0     0  ...           0          0          0   \n",
      "3               0    0       0     0  ...           0          0          0   \n",
      "4               0    0       0     0  ...           0          0          0   \n",
      "\n",
      "GEName  S06N13484  SW33-08  TN-5-92  Turner  Westag-97  Willams  Wooster  \n",
      "label                                                                     \n",
      "0               0        0        0       0          0        0        0  \n",
      "1               1        1        1       1          1        1        1  \n",
      "2               0        0        0       0          0        0        0  \n",
      "3               0        0        0       0          0        0        0  \n",
      "4               0        0        0       0          0        0        0  \n",
      "\n",
      "[5 rows x 19396 columns]\n"
     ]
    }
   ],
   "source": [
    "# Create crosstab of labels and GENames: ct\n",
    "ct = pd.crosstab(results['label'],results['GEName'])\n",
    "# Display ct\n",
    "print(ct)"
   ]
  },
  {
   "cell_type": "markdown",
   "id": "09c27fdc",
   "metadata": {},
   "source": [
    "# Result: The cross tabulation shows that the samples separate really well into ## clusters. But dependig on the type of data you are working with, the clustering may not always be this good.\n",
    "# Is there anything you can do in such situations to imporve your clustering?"
   ]
  },
  {
   "cell_type": "code",
   "execution_count": 11,
   "id": "6cf497bd",
   "metadata": {},
   "outputs": [],
   "source": [
    "# Visualizing the Accuracy of Our Model"
   ]
  },
  {
   "cell_type": "code",
   "execution_count": 12,
   "id": "4f59aae3",
   "metadata": {},
   "outputs": [],
   "source": [
    "## Plot All K-Means Clusters"
   ]
  },
  {
   "cell_type": "code",
   "execution_count": 13,
   "id": "0b08d9a2",
   "metadata": {},
   "outputs": [
    {
     "ename": "NameError",
     "evalue": "name 'label' is not defined",
     "output_type": "error",
     "traceback": [
      "\u001b[1;31m---------------------------------------------------------------------------\u001b[0m",
      "\u001b[1;31mNameError\u001b[0m                                 Traceback (most recent call last)",
      "\u001b[1;32m~\\AppData\\Local\\Temp/ipykernel_27212/2241800428.py\u001b[0m in \u001b[0;36m<module>\u001b[1;34m\u001b[0m\n\u001b[0;32m      9\u001b[0m \u001b[1;32mfor\u001b[0m \u001b[0mi\u001b[0m \u001b[1;32min\u001b[0m \u001b[0mu_labels\u001b[0m\u001b[1;33m:\u001b[0m\u001b[1;33m\u001b[0m\u001b[1;33m\u001b[0m\u001b[0m\n\u001b[0;32m     10\u001b[0m     \u001b[1;31m#print(i)\u001b[0m\u001b[1;33m\u001b[0m\u001b[1;33m\u001b[0m\u001b[1;33m\u001b[0m\u001b[0m\n\u001b[1;32m---> 11\u001b[1;33m     \u001b[0mplt\u001b[0m\u001b[1;33m.\u001b[0m\u001b[0mscatter\u001b[0m\u001b[1;33m(\u001b[0m\u001b[0mresults\u001b[0m\u001b[1;33m[\u001b[0m\u001b[0mlabel\u001b[0m \u001b[1;33m==\u001b[0m \u001b[0mi\u001b[0m \u001b[1;33m,\u001b[0m \u001b[1;36m0\u001b[0m\u001b[1;33m]\u001b[0m \u001b[1;33m,\u001b[0m \u001b[0mresults\u001b[0m\u001b[1;33m[\u001b[0m\u001b[0mlabel\u001b[0m \u001b[1;33m==\u001b[0m \u001b[0mi\u001b[0m \u001b[1;33m,\u001b[0m \u001b[1;36m1\u001b[0m\u001b[1;33m]\u001b[0m \u001b[1;33m,\u001b[0m \u001b[0mlabel\u001b[0m \u001b[1;33m=\u001b[0m \u001b[0mi\u001b[0m\u001b[1;33m)\u001b[0m\u001b[1;33m\u001b[0m\u001b[1;33m\u001b[0m\u001b[0m\n\u001b[0m\u001b[0;32m     12\u001b[0m \u001b[0mplt\u001b[0m\u001b[1;33m.\u001b[0m\u001b[0mlegend\u001b[0m\u001b[1;33m(\u001b[0m\u001b[1;33m)\u001b[0m\u001b[1;33m\u001b[0m\u001b[1;33m\u001b[0m\u001b[0m\n\u001b[0;32m     13\u001b[0m \u001b[0mplt\u001b[0m\u001b[1;33m.\u001b[0m\u001b[0mshow\u001b[0m\u001b[1;33m(\u001b[0m\u001b[1;33m)\u001b[0m\u001b[1;33m\u001b[0m\u001b[1;33m\u001b[0m\u001b[0m\n",
      "\u001b[1;31mNameError\u001b[0m: name 'label' is not defined"
     ]
    }
   ],
   "source": [
    "#Getting unique labels\n",
    "import numpy as np\n",
    " \n",
    "u_labels = np.unique(labels)\n",
    "#print(u_labels)\n",
    "\n",
    "#plotting the results:\n",
    " \n",
    "for i in u_labels:\n",
    "    #print(i)\n",
    "    plt.scatter(results[label == i , 0] , results[label == i , 1] , label = i)\n",
    "plt.legend()\n",
    "plt.show()"
   ]
  },
  {
   "cell_type": "markdown",
   "id": "bbd87ceb",
   "metadata": {},
   "source": [
    "# Transforming features for better clusterings\n",
    "\n",
    "Transform features, inorder to have equal variance; so gives opportunity for each feature/SNP in this case in KMeans clustering\n",
    "    1) StandardScaler: transforms each fea to have mean 0, variance 1\n",
    "    2) Normalizer: rescales each sample - Eg: each company's stock price,  independently of the other.\n",
    "    3) MaxAbsScaler"
   ]
  },
  {
   "cell_type": "markdown",
   "id": "4927a5ac",
   "metadata": {},
   "source": [
    "### Clustering GE's in 2 steps: StandardScaler (to standarise data) and Kmeans (cluster standardized data)\n",
    "\n",
    "standardize/scaling data (StandardScaler) and then cluster isong KMeans\n",
    "- standard scaler use fit()/ transform()\n",
    "- KMenas use          fit()/ predict()"
   ]
  },
  {
   "cell_type": "code",
   "execution_count": 27,
   "id": "6b961ae2",
   "metadata": {},
   "outputs": [
    {
     "name": "stdout",
     "output_type": "stream",
     "text": [
      "[3 0 3 ... 1 0 3]\n"
     ]
    }
   ],
   "source": [
    "## build a pipeline to standardize (StandardScaler) and cluster (KMeans) the data; so data flows from standardization step to clusering step automatically\n",
    "\n",
    "# Perform the necessary imports\n",
    "import pandas as pd\n",
    "from sklearn.cluster import KMeans\n",
    "from sklearn.preprocessing import StandardScaler\n",
    "from sklearn.pipeline import make_pipeline\n",
    "\n",
    "# step1: Create standard scaler and KMeans objects\n",
    "scaler = StandardScaler()\n",
    "# Create KMeans instance: kmeans\n",
    "kmeans = KMeans(n_clusters=5)\n",
    "\n",
    "# step2: Apply make_pipeline to scaler and kmeans objects\n",
    "pipeline = make_pipeline(scaler, kmeans)\n",
    "\n",
    "# Fit the pipeline to samples matrix\n",
    "pipeline.fit(mat)\n",
    "\n",
    "# use predict method to get cluster labels\n",
    "labels = pipeline.predict(mat)\n",
    "print(labels)\n"
   ]
  },
  {
   "cell_type": "code",
   "execution_count": 28,
   "id": "a6c2468e",
   "metadata": {},
   "outputs": [
    {
     "data": {
      "text/html": [
       "<div>\n",
       "<style scoped>\n",
       "    .dataframe tbody tr th:only-of-type {\n",
       "        vertical-align: middle;\n",
       "    }\n",
       "\n",
       "    .dataframe tbody tr th {\n",
       "        vertical-align: top;\n",
       "    }\n",
       "\n",
       "    .dataframe thead th {\n",
       "        text-align: right;\n",
       "    }\n",
       "</style>\n",
       "<table border=\"1\" class=\"dataframe\">\n",
       "  <thead>\n",
       "    <tr style=\"text-align: right;\">\n",
       "      <th></th>\n",
       "      <th>GEName</th>\n",
       "      <th>Cluster</th>\n",
       "    </tr>\n",
       "  </thead>\n",
       "  <tbody>\n",
       "    <tr>\n",
       "      <th>0</th>\n",
       "      <td>PI86046</td>\n",
       "      <td>3</td>\n",
       "    </tr>\n",
       "    <tr>\n",
       "      <th>1</th>\n",
       "      <td>PI90208</td>\n",
       "      <td>0</td>\n",
       "    </tr>\n",
       "    <tr>\n",
       "      <th>2</th>\n",
       "      <td>PI253651A</td>\n",
       "      <td>3</td>\n",
       "    </tr>\n",
       "    <tr>\n",
       "      <th>3</th>\n",
       "      <td>PI347550A</td>\n",
       "      <td>2</td>\n",
       "    </tr>\n",
       "    <tr>\n",
       "      <th>4</th>\n",
       "      <td>PI398807</td>\n",
       "      <td>0</td>\n",
       "    </tr>\n",
       "  </tbody>\n",
       "</table>\n",
       "</div>"
      ],
      "text/plain": [
       "      GEName  Cluster\n",
       "0    PI86046        3\n",
       "1    PI90208        0\n",
       "2  PI253651A        3\n",
       "3  PI347550A        2\n",
       "4   PI398807        0"
      ]
     },
     "execution_count": 28,
     "metadata": {},
     "output_type": "execute_result"
    }
   ],
   "source": [
    "# Check if feature standardization improved clustering?\n",
    "# Format results as a DataFrame\n",
    "results_scaler = pd.DataFrame({'GEName':dataset.index,'Cluster':labels})\n",
    "results_scaler.head()"
   ]
  },
  {
   "cell_type": "code",
   "execution_count": 29,
   "id": "305f426b",
   "metadata": {},
   "outputs": [
    {
     "name": "stdout",
     "output_type": "stream",
     "text": [
      "GEName   AC-2001  AC-Albatros  AC-Brant  AC-Bravor  AC-Cormoran  AC-Harmony  \\\n",
      "Cluster                                                                       \n",
      "0              0            0         0          0            0           0   \n",
      "1              1            0         0          0            0           1   \n",
      "2              0            1         1          1            1           0   \n",
      "3              0            0         0          0            0           0   \n",
      "4              0            0         0          0            0           0   \n",
      "\n",
      "GEName   AC-Orford  AYR  Accord  Alta  ...  RCH-Bobcat  S05N12406  S05N12741  \\\n",
      "Cluster                                ...                                     \n",
      "0                0    0       0     0  ...           0          0          0   \n",
      "1                0    0       0     0  ...           1          1          1   \n",
      "2                1    1       1     1  ...           0          0          0   \n",
      "3                0    0       0     0  ...           0          0          0   \n",
      "4                0    0       0     0  ...           0          0          0   \n",
      "\n",
      "GEName   S06N13484  SW33-08  TN-5-92  Turner  Westag-97  Willams  Wooster  \n",
      "Cluster                                                                    \n",
      "0                0        0        0       0          0        0        0  \n",
      "1                1        0        0       0          0        1        1  \n",
      "2                0        1        1       1          1        0        0  \n",
      "3                0        0        0       0          0        0        0  \n",
      "4                0        0        0       0          0        0        0  \n",
      "\n",
      "[5 rows x 19396 columns]\n"
     ]
    }
   ],
   "source": [
    "# Create crosstab: ct\n",
    "ct = pd.crosstab(results_scaler['Cluster'],results_scaler['GEName'])\n",
    "# Display ct\n",
    "print(ct)"
   ]
  },
  {
   "cell_type": "markdown",
   "id": "6d3dbe48",
   "metadata": {},
   "source": [
    "# Is Standard Scler improved clustering of GE's?"
   ]
  },
  {
   "cell_type": "code",
   "execution_count": 30,
   "id": "296eb527",
   "metadata": {},
   "outputs": [
    {
     "data": {
      "text/html": [
       "<div>\n",
       "<style scoped>\n",
       "    .dataframe tbody tr th:only-of-type {\n",
       "        vertical-align: middle;\n",
       "    }\n",
       "\n",
       "    .dataframe tbody tr th {\n",
       "        vertical-align: top;\n",
       "    }\n",
       "\n",
       "    .dataframe thead th {\n",
       "        text-align: right;\n",
       "    }\n",
       "</style>\n",
       "<table border=\"1\" class=\"dataframe\">\n",
       "  <thead>\n",
       "    <tr style=\"text-align: right;\">\n",
       "      <th></th>\n",
       "      <th>GEName</th>\n",
       "      <th>label</th>\n",
       "      <th>Cluster</th>\n",
       "    </tr>\n",
       "  </thead>\n",
       "  <tbody>\n",
       "    <tr>\n",
       "      <th>0</th>\n",
       "      <td>PI86046</td>\n",
       "      <td>4</td>\n",
       "      <td>3</td>\n",
       "    </tr>\n",
       "    <tr>\n",
       "      <th>1</th>\n",
       "      <td>PI90208</td>\n",
       "      <td>0</td>\n",
       "      <td>0</td>\n",
       "    </tr>\n",
       "    <tr>\n",
       "      <th>2</th>\n",
       "      <td>PI253651A</td>\n",
       "      <td>2</td>\n",
       "      <td>3</td>\n",
       "    </tr>\n",
       "    <tr>\n",
       "      <th>3</th>\n",
       "      <td>PI347550A</td>\n",
       "      <td>1</td>\n",
       "      <td>2</td>\n",
       "    </tr>\n",
       "    <tr>\n",
       "      <th>4</th>\n",
       "      <td>PI398807</td>\n",
       "      <td>0</td>\n",
       "      <td>0</td>\n",
       "    </tr>\n",
       "  </tbody>\n",
       "</table>\n",
       "</div>"
      ],
      "text/plain": [
       "      GEName  label  Cluster\n",
       "0    PI86046      4        3\n",
       "1    PI90208      0        0\n",
       "2  PI253651A      2        3\n",
       "3  PI347550A      1        2\n",
       "4   PI398807      0        0"
      ]
     },
     "execution_count": 30,
     "metadata": {},
     "output_type": "execute_result"
    }
   ],
   "source": [
    "clusters=pd.merge(results,results_scaler, on='GEName')\n",
    "clusters.head()"
   ]
  },
  {
   "cell_type": "code",
   "execution_count": 31,
   "id": "f9ab8b0a",
   "metadata": {},
   "outputs": [
    {
     "data": {
      "text/plain": [
       "False"
      ]
     },
     "execution_count": 31,
     "metadata": {},
     "output_type": "execute_result"
    }
   ],
   "source": [
    "clusters['label'].equals(clusters['Cluster'])"
   ]
  },
  {
   "cell_type": "markdown",
   "id": "05071f68",
   "metadata": {},
   "source": [
    "## Summary: The cluster labels generated with Kmeans with and without StandardScaler is same. "
   ]
  },
  {
   "cell_type": "code",
   "execution_count": null,
   "id": "3c17bb11",
   "metadata": {},
   "outputs": [],
   "source": [
    "### standardize/scaling data (Normalizer) and then cluser"
   ]
  },
  {
   "cell_type": "code",
   "execution_count": 32,
   "id": "fa4a1869",
   "metadata": {},
   "outputs": [
    {
     "name": "stdout",
     "output_type": "stream",
     "text": [
      "[2 3 0 ... 4 3 0]\n"
     ]
    }
   ],
   "source": [
    "# Import Normalizer\n",
    "from sklearn.preprocessing import Normalizer\n",
    "# Create a normalizer: normalizer\n",
    "normalizer = Normalizer()\n",
    "# Create a KMeans model with 5 clusters: kmeans\n",
    "kmeans = KMeans(n_clusters=5)\n",
    "# Make a pipeline chaining normalizer and kmeans: pipeline\n",
    "pipeline = make_pipeline(normalizer,kmeans)\n",
    "# Fit pipeline to the data\n",
    "pipeline.fit(mat)\n",
    "\n",
    "###  use the standardization and clustering pipeline to cluster\n",
    "# Import pandas\n",
    "import pandas as pd\n",
    "# Predict the cluster labels: labels\n",
    "labels = pipeline.predict(mat)\n",
    "print(labels)"
   ]
  },
  {
   "cell_type": "code",
   "execution_count": 33,
   "id": "6607d37e",
   "metadata": {},
   "outputs": [
    {
     "data": {
      "text/html": [
       "<div>\n",
       "<style scoped>\n",
       "    .dataframe tbody tr th:only-of-type {\n",
       "        vertical-align: middle;\n",
       "    }\n",
       "\n",
       "    .dataframe tbody tr th {\n",
       "        vertical-align: top;\n",
       "    }\n",
       "\n",
       "    .dataframe thead th {\n",
       "        text-align: right;\n",
       "    }\n",
       "</style>\n",
       "<table border=\"1\" class=\"dataframe\">\n",
       "  <thead>\n",
       "    <tr style=\"text-align: right;\">\n",
       "      <th></th>\n",
       "      <th>GEName</th>\n",
       "      <th>Cluster_normal</th>\n",
       "    </tr>\n",
       "  </thead>\n",
       "  <tbody>\n",
       "    <tr>\n",
       "      <th>0</th>\n",
       "      <td>PI86046</td>\n",
       "      <td>2</td>\n",
       "    </tr>\n",
       "    <tr>\n",
       "      <th>1</th>\n",
       "      <td>PI90208</td>\n",
       "      <td>3</td>\n",
       "    </tr>\n",
       "    <tr>\n",
       "      <th>2</th>\n",
       "      <td>PI253651A</td>\n",
       "      <td>0</td>\n",
       "    </tr>\n",
       "    <tr>\n",
       "      <th>3</th>\n",
       "      <td>PI347550A</td>\n",
       "      <td>4</td>\n",
       "    </tr>\n",
       "    <tr>\n",
       "      <th>4</th>\n",
       "      <td>PI398807</td>\n",
       "      <td>3</td>\n",
       "    </tr>\n",
       "  </tbody>\n",
       "</table>\n",
       "</div>"
      ],
      "text/plain": [
       "      GEName  Cluster_normal\n",
       "0    PI86046               2\n",
       "1    PI90208               3\n",
       "2  PI253651A               0\n",
       "3  PI347550A               4\n",
       "4   PI398807               3"
      ]
     },
     "execution_count": 33,
     "metadata": {},
     "output_type": "execute_result"
    }
   ],
   "source": [
    "# Format results as a DataFrame\n",
    "results_normalizer = pd.DataFrame({'GEName':dataset.index,'Cluster_normal':labels})\n",
    "results_normalizer.head()"
   ]
  },
  {
   "cell_type": "code",
   "execution_count": 34,
   "id": "45e2dba2",
   "metadata": {},
   "outputs": [
    {
     "name": "stdout",
     "output_type": "stream",
     "text": [
      "          GEName  Cluster_normal\n",
      "19395   PI587906               0\n",
      "14912  PI587846B               0\n",
      "14913  PI587992C               0\n",
      "14914  PI594767A               0\n",
      "14915  PI605810A               0\n",
      "...          ...             ...\n",
      "4944    PI438022               4\n",
      "4943    PI437829               4\n",
      "10206  PI437129B               4\n",
      "3709   PI567512A               4\n",
      "12710   PI548690               4\n",
      "\n",
      "[19396 rows x 2 columns]\n"
     ]
    }
   ],
   "source": [
    "# Display df sorted by cluster label\n",
    "print(results_normalizer.sort_values('Cluster_normal'))"
   ]
  },
  {
   "cell_type": "code",
   "execution_count": 35,
   "id": "74471b73",
   "metadata": {},
   "outputs": [
    {
     "data": {
      "text/html": [
       "<div>\n",
       "<style scoped>\n",
       "    .dataframe tbody tr th:only-of-type {\n",
       "        vertical-align: middle;\n",
       "    }\n",
       "\n",
       "    .dataframe tbody tr th {\n",
       "        vertical-align: top;\n",
       "    }\n",
       "\n",
       "    .dataframe thead th {\n",
       "        text-align: right;\n",
       "    }\n",
       "</style>\n",
       "<table border=\"1\" class=\"dataframe\">\n",
       "  <thead>\n",
       "    <tr style=\"text-align: right;\">\n",
       "      <th></th>\n",
       "      <th>GEName</th>\n",
       "      <th>label</th>\n",
       "      <th>Cluster</th>\n",
       "      <th>Cluster_normal</th>\n",
       "    </tr>\n",
       "  </thead>\n",
       "  <tbody>\n",
       "    <tr>\n",
       "      <th>0</th>\n",
       "      <td>PI86046</td>\n",
       "      <td>4</td>\n",
       "      <td>3</td>\n",
       "      <td>2</td>\n",
       "    </tr>\n",
       "    <tr>\n",
       "      <th>1</th>\n",
       "      <td>PI90208</td>\n",
       "      <td>0</td>\n",
       "      <td>0</td>\n",
       "      <td>3</td>\n",
       "    </tr>\n",
       "    <tr>\n",
       "      <th>2</th>\n",
       "      <td>PI253651A</td>\n",
       "      <td>2</td>\n",
       "      <td>3</td>\n",
       "      <td>0</td>\n",
       "    </tr>\n",
       "    <tr>\n",
       "      <th>3</th>\n",
       "      <td>PI347550A</td>\n",
       "      <td>1</td>\n",
       "      <td>2</td>\n",
       "      <td>4</td>\n",
       "    </tr>\n",
       "    <tr>\n",
       "      <th>4</th>\n",
       "      <td>PI398807</td>\n",
       "      <td>0</td>\n",
       "      <td>0</td>\n",
       "      <td>3</td>\n",
       "    </tr>\n",
       "  </tbody>\n",
       "</table>\n",
       "</div>"
      ],
      "text/plain": [
       "      GEName  label  Cluster  Cluster_normal\n",
       "0    PI86046      4        3               2\n",
       "1    PI90208      0        0               3\n",
       "2  PI253651A      2        3               0\n",
       "3  PI347550A      1        2               4\n",
       "4   PI398807      0        0               3"
      ]
     },
     "execution_count": 35,
     "metadata": {},
     "output_type": "execute_result"
    }
   ],
   "source": [
    "transform_clusters=pd.merge(clusters,results_normalizer, on='GEName')\n",
    "transform_clusters.head()"
   ]
  },
  {
   "cell_type": "code",
   "execution_count": 39,
   "id": "5d5ac33f",
   "metadata": {},
   "outputs": [],
   "source": [
    "transform_clusters.to_csv('KMeans_scaler_normalizer_clusters_result.csv')"
   ]
  },
  {
   "cell_type": "code",
   "execution_count": 36,
   "id": "7909498f",
   "metadata": {},
   "outputs": [
    {
     "data": {
      "text/plain": [
       "False"
      ]
     },
     "execution_count": 36,
     "metadata": {},
     "output_type": "execute_result"
    }
   ],
   "source": [
    "transform_clusters['label'].equals(transform_clusters['Cluster'])"
   ]
  },
  {
   "cell_type": "code",
   "execution_count": 37,
   "id": "5ab41761",
   "metadata": {},
   "outputs": [
    {
     "data": {
      "text/plain": [
       "False"
      ]
     },
     "execution_count": 37,
     "metadata": {},
     "output_type": "execute_result"
    }
   ],
   "source": [
    "transform_clusters['label'].equals(transform_clusters['Cluster_normal'])"
   ]
  },
  {
   "cell_type": "markdown",
   "id": "fb645bb6",
   "metadata": {},
   "source": [
    "### Summary: The cluster labels generated with Kmeans, with and without StandardScaler/Normalizer are not same, cluster number changed each time. But, same GE's clustered together."
   ]
  },
  {
   "cell_type": "markdown",
   "id": "0a525976",
   "metadata": {},
   "source": [
    "# Visualizing hierarchies (t-SNE, hierarchial clustering/Dendrogram)\n",
    "\n",
    "t-SNE creates 2D map of any dataset, conveys proximity of samples with one another\n",
    "hierarchial clustering arranges samples into hierarchy of clusters\n",
    "\n",
    "Input Dataset: 2D array\n",
    "SciPy linkage() function performs hierarchical clusters on array of samples"
   ]
  },
  {
   "cell_type": "code",
   "execution_count": 38,
   "id": "b70600bc",
   "metadata": {},
   "outputs": [
    {
     "data": {
      "image/png": "[encoded data removed]",
      "text/plain": [
       "<Figure size 432x288 with 1 Axes>"
      ]
     },
     "metadata": {
      "needs_background": "light"
     },
     "output_type": "display_data"
    }
   ],
   "source": [
    "# Perform the necessary imports\n",
    "from scipy.cluster.hierarchy import linkage, dendrogram\n",
    "import matplotlib.pyplot as plt\n",
    "\n",
    "# Calculate the linkage: mergings\n",
    "mergings = linkage(mat, method='complete') # mat is 2D array of dataset\n",
    "\n",
    "# Plot the dendrogram, using list of GENames as labels\n",
    "dendrogram(mergings, labels= GENames_list, leaf_rotation=90,leaf_font_size=6)\n",
    "plt.xlabel('GENames_number')\n",
    "plt.ylabel('Distance between clusters')\n",
    "plt.show()"
   ]
  },
  {
   "cell_type": "code",
   "execution_count": null,
   "id": "52db315b",
   "metadata": {},
   "outputs": [],
   "source": [
    "# Result: Dendrograms are a great way to illustrate the arragement of the clusters produced by hierarchial clustering"
   ]
  },
  {
   "cell_type": "markdown",
   "id": "d98d3361",
   "metadata": {},
   "source": [
    "## SciPy hierarchical clustering doesn't fit into a sklearn pipeline, so you'll need to use the normalize() function from sklearn.preprocessing instead of Normalizer"
   ]
  },
  {
   "cell_type": "code",
   "execution_count": 40,
   "id": "cc36c3fa",
   "metadata": {},
   "outputs": [
    {
     "data": {
      "image/png": "[encoded data removed]",
      "text/plain": [
       "<Figure size 432x288 with 1 Axes>"
      ]
     },
     "metadata": {
      "needs_background": "light"
     },
     "output_type": "display_data"
    }
   ],
   "source": [
    "# Import normalize\n",
    "from sklearn.preprocessing import normalize\n",
    "\n",
    "# Normalize the genotyping calls: normalized_geno\n",
    "normalized_geno = normalize(mat)\n",
    "\n",
    "# Calculate the linkage: mergings\n",
    "mergings = linkage(normalized_geno, method='complete')\n",
    "\n",
    "# Plot the dendrogram for list of GE's using labels\n",
    "dendrogram(mergings, labels=GENames_list, leaf_rotation=90, leaf_font_size=6)\n",
    "plt.xlabel('GENames')\n",
    "plt.ylabel('Distance between clusters')\n",
    "plt.show()\n"
   ]
  },
  {
   "cell_type": "markdown",
   "id": "2ff729e8",
   "metadata": {},
   "source": [
    "## cluster labelling"
   ]
  },
  {
   "cell_type": "code",
   "execution_count": 43,
   "id": "a3cdf401",
   "metadata": {},
   "outputs": [
    {
     "name": "stdout",
     "output_type": "stream",
     "text": [
      "[13366  3669 14667 ...  8016  5358  9670]\n"
     ]
    }
   ],
   "source": [
    "# choose height of clusters i.e distance between clusters measured by 'linkage method'\n",
    "\n",
    "# Extract cluster labels using fcluster function\n",
    "\n",
    "from scipy.cluster.hierarchy import linkage\n",
    "mergings = linkage(mat, method='complete')\n",
    "from scipy.cluster.hierarchy import fcluster\n",
    "labels=fcluster(mergings, 15, criterion='distance') # specify height of 15\n",
    "print(labels) # returns numpy array with cluster labels of all GE\"s"
   ]
  },
  {
   "cell_type": "code",
   "execution_count": 46,
   "id": "1c6efc57",
   "metadata": {},
   "outputs": [
    {
     "name": "stdout",
     "output_type": "stream",
     "text": [
      "       labels  GENames\n",
      "12055       1    12055\n",
      "12056       2    12056\n",
      "11673       3    11673\n",
      "19045       4    19045\n",
      "2185        5     2185\n",
      "...       ...      ...\n",
      "3565    18504     3565\n",
      "19123   18505    19123\n",
      "2864    18506     2864\n",
      "2934    18507     2934\n",
      "2745    18508     2745\n",
      "\n",
      "[19396 rows x 2 columns]\n"
     ]
    }
   ],
   "source": [
    "## Inspect cluster lables with GENames\n",
    "# Given a list of strings GENames\n",
    "import pandas as pd\n",
    "df=pd.DataFrame({'labels':labels, 'GENames':GENames_list})\n",
    "print(df.sort_values('labels'))"
   ]
  },
  {
   "cell_type": "code",
   "execution_count": 47,
   "id": "acdc3dab",
   "metadata": {},
   "outputs": [
    {
     "name": "stdout",
     "output_type": "stream",
     "text": [
      "GENames  0      1      2      3      4      5      6      7      8      9      \\\n",
      "labels                                                                          \n",
      "1            0      0      0      0      0      0      0      0      0      0   \n",
      "2            0      0      0      0      0      0      0      0      0      0   \n",
      "3            0      0      0      0      0      0      0      0      0      0   \n",
      "4            0      0      0      0      0      0      0      0      0      0   \n",
      "5            0      0      0      0      0      0      0      0      0      0   \n",
      "...        ...    ...    ...    ...    ...    ...    ...    ...    ...    ...   \n",
      "18504        0      0      0      0      0      0      0      0      0      0   \n",
      "18505        0      0      0      0      0      0      0      0      0      0   \n",
      "18506        0      0      0      0      0      0      0      0      0      0   \n",
      "18507        0      0      0      0      0      0      0      0      0      0   \n",
      "18508        0      0      0      0      0      0      0      0      0      0   \n",
      "\n",
      "GENames  ...  19386  19387  19388  19389  19390  19391  19392  19393  19394  \\\n",
      "labels   ...                                                                  \n",
      "1        ...      0      0      0      0      0      0      0      0      0   \n",
      "2        ...      0      0      0      0      0      0      0      0      0   \n",
      "3        ...      0      0      0      0      0      0      0      0      0   \n",
      "4        ...      0      0      0      0      0      0      0      0      0   \n",
      "5        ...      0      0      0      0      0      0      0      0      0   \n",
      "...      ...    ...    ...    ...    ...    ...    ...    ...    ...    ...   \n",
      "18504    ...      0      0      0      0      0      0      0      0      0   \n",
      "18505    ...      0      0      0      0      0      0      0      0      0   \n",
      "18506    ...      0      0      0      0      0      0      0      0      0   \n",
      "18507    ...      0      0      0      0      0      0      0      0      0   \n",
      "18508    ...      0      0      0      0      0      0      0      0      0   \n",
      "\n",
      "GENames  19395  \n",
      "labels          \n",
      "1            0  \n",
      "2            0  \n",
      "3            0  \n",
      "4            0  \n",
      "5            0  \n",
      "...        ...  \n",
      "18504        0  \n",
      "18505        0  \n",
      "18506        0  \n",
      "18507        0  \n",
      "18508        0  \n",
      "\n",
      "[18508 rows x 19396 columns]\n"
     ]
    }
   ],
   "source": [
    "# Create crosstab: ct\n",
    "ct = pd.crosstab(df['labels'], df['GENames'])\n",
    "\n",
    "# Display ct\n",
    "print(ct)"
   ]
  },
  {
   "cell_type": "code",
   "execution_count": null,
   "id": "3aae92dc",
   "metadata": {},
   "outputs": [],
   "source": [
    "# Summary: \n",
    "Since this dataset doesn’t have labels, I implemented Unsupervised Learning (USL). USL is a class of machine learning technique used to find patterns in data instead of predicting target variable like in supervised learning. \n",
    "Grouping/clustering the genotypes/accessions based on similarity/patterns. I implemented KMeans clustering model from python’s sklearn library, partitions dataset into k clusters based on similarity in which each observation belongs to the cluster with nearest mean. \n",
    "•Converted dataframe to 2D numpy array before implementing KMeans algorithm.\n",
    "•Plot of inertia values of clustering with different K values showed that K means model with 5 clusters had relatively low inertia, so it looks like 5 clusters would be a good choice for this dataset.\n",
    "•Then, grouped accessions into 5 clusters and predicted the label/cluster for each line.\n",
    "•Then, evaluated the clustering with cross tabulation. The cross tabulation shows that the samples separate really well into 5 clusters. But depending on the type of data you work with, the clustering may not always be this good.\n",
    "•Is there anything you can do in such situations to improve your clustering? \n",
    "o\tYES, to give every feature a chance, data needs to be transformed. So, all features will have equal variance during preprocessing. For example: StandardScaler: standardizes features by removing the mean and scaling to unit variance i.e transforms each feature to have mean 0, variance 1 and standardized features are very informative.  Normalizer: rescales each sample independently of the other \n",
    "In this dataset, I implemented clustering with KMeans and also used transformations like StandardScaler and Normalizer (n_clusters=5). \n",
    "•\tThe cluster labels generated with Kmeans, with and without StandardScaler/Normalizer, are different. However, same GENames were grouped together though the cluster label is different with transformations.\n",
    "\n",
    "Also implemented Hierarchial clustering. \n",
    "•\tSciPy hierarchical clustering doesn't fit into a sklearn pipeline, so I used normalize() function from sklearn.preprocessing instead of Normalizer\n",
    "Since there are 19,400 GENames/accessions to cluster, the hierarchical clustering seems clumsy. So, I exported the clusters and grouped them based on Species, Cultivar and Relative Maturity groups."
   ]
  },
  {
   "cell_type": "markdown",
   "id": "907f856a",
   "metadata": {},
   "source": [
    "# Future work/Next Steps"
   ]
  },
  {
   "cell_type": "markdown",
   "id": "0b31662f",
   "metadata": {},
   "source": [
    "# t-SNE for 2D maps (map samples to 2D space) \n",
    "\n",
    "## map aproximately preserves nearness of samples\n",
    "\n",
    "### Iris dataset has 4 features, so it is 4 dimensional; t-SNE maps samples not dimensions, t-SNE didnt know there are different species. BUT, you can color code the species\n",
    "\n",
    "Input: 2D numpy array of genotyping data (mat), list of cluster each GE belong to 1 to 5 from above"
   ]
  },
  {
   "cell_type": "code",
   "execution_count": null,
   "id": "60c9add4",
   "metadata": {},
   "outputs": [],
   "source": [
    "## imput files mat\n",
    "labels=list(df['labels'])\n",
    "\n",
    "\n",
    "# Import TSNE\n",
    "import matplotlib.pyplot as plt\n",
    "from sklearn.manifold import TSNE\n",
    "# Create a TSNE instance: model\n",
    "model= TSNE(learning_rate=100)\n",
    "# Apply fit_transform to samples: tsne_features\n",
    "tsne_features = model.fit_transform(mat) # mat is numpy array of genotyping data\n",
    "# Select the 0th feature: xs\n",
    "xs = tsne_features[:.0]\n",
    "# Select the 1st feature: ys\n",
    "ys = tsne_features[:,1]\n",
    "# Scatter plot, coloring by variety_numbers\n",
    "plt.scatter(xs, ys, c=labels)\n",
    "plt.show()"
   ]
  },
  {
   "cell_type": "code",
   "execution_count": null,
   "id": "f4a3f54f",
   "metadata": {},
   "outputs": [],
   "source": [
    "# Import TSNE\n",
    "from sklearn.manifold import TSNE\n",
    "\n",
    "# Create a TSNE instance: model\n",
    "model = TSNE(learning_rate=50)\n",
    "\n",
    "# Apply fit_transform to samples: tsne_features\n",
    "tsne_features = model.fit_transform(mat)\n",
    "\n",
    "# Select the 0th feature: xs\n",
    "xs = tsne_features[:,0]\n",
    "\n",
    "# Select the 1th feature: ys\n",
    "ys = tsne_features[:,1]\n",
    "\n",
    "# Scatter plot\n",
    "plt.scatter(xs, ys, alpha=0.5)\n",
    "\n",
    "# Annotate the points\n",
    "for x, y, GENames_list in zip(xs, ys, GENames):\n",
    "    plt.annotate(GENames_list, (x, y), fontsize=5, alpha=0.75)\n",
    "plt.show()\n"
   ]
  },
  {
   "cell_type": "markdown",
   "id": "287cfba4",
   "metadata": {},
   "source": [
    "# Dimensionality Reduction\n",
    "\n",
    "## PCA analysis done in 2 steps\n",
    "1) Decorrelation (PCA rotates samples to align with coordinate axes, shifts samples so that they have mean 0)\n",
    "2) Reduce dimension\n",
    "\n",
    "- SKlearn implement PCA like KMeans, StandardScaler\n",
    "- PCA follows fit/transform methods like StandardScaler; fit method learns how to shift/rotate samples; transform method applies transformation that fit learned (applied to new unseen samples)\n",
    "\n",
    "Input: Array "
   ]
  }
 ],
 "metadata": {
  "kernelspec": {
   "display_name": "Python 3 (ipykernel)",
   "language": "python",
   "name": "python3"
  },
  "language_info": {
   "codemirror_mode": {
    "name": "ipython",
    "version": 3
   },
   "file_extension": ".py",
   "mimetype": "text/x-python",
   "name": "python",
   "nbconvert_exporter": "python",
   "pygments_lexer": "ipython3",
   "version": "3.7.11"
  }
 },
 "nbformat": 4,
 "nbformat_minor": 5
}
