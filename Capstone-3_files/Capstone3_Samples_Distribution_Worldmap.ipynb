{
 "cells": [
  {
   "cell_type": "code",
   "execution_count": 1,
   "id": "bb90f561",
   "metadata": {},
   "outputs": [],
   "source": [
    "import pandas as pd\n",
    "from sklearn.cluster import KMeans\n",
    "import matplotlib.pyplot as plt"
   ]
  },
  {
   "cell_type": "raw",
   "id": "664761c7",
   "metadata": {},
   "source": [
    "NOTE: An important difference, you never need to make the train/test split on a data set when building unsupervised machine learning models"
   ]
  },
  {
   "cell_type": "markdown",
   "id": "7ba7a6b3",
   "metadata": {},
   "source": [
    "## 1.1 Soybean USDA lines"
   ]
  },
  {
   "cell_type": "code",
   "execution_count": 2,
   "id": "54eca880",
   "metadata": {},
   "outputs": [
    {
     "data": {
      "text/html": [
       "<div>\n",
       "<style scoped>\n",
       "    .dataframe tbody tr th:only-of-type {\n",
       "        vertical-align: middle;\n",
       "    }\n",
       "\n",
       "    .dataframe tbody tr th {\n",
       "        vertical-align: top;\n",
       "    }\n",
       "\n",
       "    .dataframe thead th {\n",
       "        text-align: right;\n",
       "    }\n",
       "</style>\n",
       "<table border=\"1\" class=\"dataframe\">\n",
       "  <thead>\n",
       "    <tr style=\"text-align: right;\">\n",
       "      <th></th>\n",
       "      <th>GEName</th>\n",
       "      <th>Species</th>\n",
       "      <th>Country</th>\n",
       "      <th>MG</th>\n",
       "      <th>&gt;99.9% similarity to other lines</th>\n",
       "      <th>Landrace or N. Am. cultivar</th>\n",
       "      <th>Seed weight</th>\n",
       "    </tr>\n",
       "  </thead>\n",
       "  <tbody>\n",
       "    <tr>\n",
       "      <th>0</th>\n",
       "      <td>FC001547</td>\n",
       "      <td>G. max</td>\n",
       "      <td>China</td>\n",
       "      <td>II</td>\n",
       "      <td>NaN</td>\n",
       "      <td>Landrace</td>\n",
       "      <td>NaN</td>\n",
       "    </tr>\n",
       "    <tr>\n",
       "      <th>1</th>\n",
       "      <td>FC003654_1</td>\n",
       "      <td>G. max</td>\n",
       "      <td>China</td>\n",
       "      <td>IV</td>\n",
       "      <td>NaN</td>\n",
       "      <td>Landrace</td>\n",
       "      <td>NaN</td>\n",
       "    </tr>\n",
       "    <tr>\n",
       "      <th>2</th>\n",
       "      <td>FC003659</td>\n",
       "      <td>G. max</td>\n",
       "      <td>China</td>\n",
       "      <td>VI</td>\n",
       "      <td>NaN</td>\n",
       "      <td>Landrace</td>\n",
       "      <td>8.6</td>\n",
       "    </tr>\n",
       "    <tr>\n",
       "      <th>3</th>\n",
       "      <td>FC030685</td>\n",
       "      <td>G. max</td>\n",
       "      <td>Japan</td>\n",
       "      <td>ZZ</td>\n",
       "      <td>NaN</td>\n",
       "      <td>Landrace</td>\n",
       "      <td>31.6</td>\n",
       "    </tr>\n",
       "    <tr>\n",
       "      <th>4</th>\n",
       "      <td>FC031571</td>\n",
       "      <td>G. max</td>\n",
       "      <td>China</td>\n",
       "      <td>III</td>\n",
       "      <td>NaN</td>\n",
       "      <td>Landrace</td>\n",
       "      <td>NaN</td>\n",
       "    </tr>\n",
       "  </tbody>\n",
       "</table>\n",
       "</div>"
      ],
      "text/plain": [
       "       GEName Species Country   MG >99.9% similarity to other lines  \\\n",
       "0    FC001547  G. max   China   II                              NaN   \n",
       "1  FC003654_1  G. max   China   IV                              NaN   \n",
       "2    FC003659  G. max   China   VI                              NaN   \n",
       "3    FC030685  G. max   Japan   ZZ                              NaN   \n",
       "4    FC031571  G. max   China  III                              NaN   \n",
       "\n",
       "  Landrace or N. Am. cultivar  Seed weight  \n",
       "0                    Landrace          NaN  \n",
       "1                    Landrace          NaN  \n",
       "2                    Landrace          8.6  \n",
       "3                    Landrace         31.6  \n",
       "4                    Landrace          NaN  "
      ]
     },
     "execution_count": 2,
     "metadata": {},
     "output_type": "execute_result"
    }
   ],
   "source": [
    "USDA_Soy_lines=pd.read_excel(open('Soy_USDA_Lines_descritpion.xlsx', 'rb'), sheet_name='Sheet1', skiprows=[0])  \n",
    "USDA_Soy_lines.rename(columns={'PI':'GEName', 'Subcollection*':'Species','Country*':'Country','MG*':'MG','Similarity >99.9% to other accessions':'>99.9% similarity to other lines','Landrace or N. Am. cultivar used for analysis':'Landrace or N. Am. cultivar','Seed weight*':'Seed weight'}, inplace=True)\n",
    "\n",
    "USDA_Soy_lines.head()"
   ]
  },
  {
   "cell_type": "code",
   "execution_count": 3,
   "id": "1c22c4b9",
   "metadata": {},
   "outputs": [
    {
     "data": {
      "text/plain": [
       "19649"
      ]
     },
     "execution_count": 3,
     "metadata": {},
     "output_type": "execute_result"
    }
   ],
   "source": [
    "len(USDA_Soy_lines.GEName)"
   ]
  },
  {
   "cell_type": "code",
   "execution_count": 4,
   "id": "4a46488a",
   "metadata": {},
   "outputs": [
    {
     "data": {
      "text/plain": [
       "91"
      ]
     },
     "execution_count": 4,
     "metadata": {},
     "output_type": "execute_result"
    }
   ],
   "source": [
    "len(USDA_Soy_lines.Country.unique())"
   ]
  },
  {
   "cell_type": "code",
   "execution_count": 5,
   "id": "0c47ce55",
   "metadata": {},
   "outputs": [
    {
     "data": {
      "text/html": [
       "<div>\n",
       "<style scoped>\n",
       "    .dataframe tbody tr th:only-of-type {\n",
       "        vertical-align: middle;\n",
       "    }\n",
       "\n",
       "    .dataframe tbody tr th {\n",
       "        vertical-align: top;\n",
       "    }\n",
       "\n",
       "    .dataframe thead th {\n",
       "        text-align: right;\n",
       "    }\n",
       "</style>\n",
       "<table border=\"1\" class=\"dataframe\">\n",
       "  <thead>\n",
       "    <tr style=\"text-align: right;\">\n",
       "      <th></th>\n",
       "      <th>GEName</th>\n",
       "      <th>Species</th>\n",
       "      <th>Country</th>\n",
       "      <th>MG</th>\n",
       "      <th>&gt;99.9% similarity to other lines</th>\n",
       "      <th>Landrace or N. Am. cultivar</th>\n",
       "      <th>Seed weight</th>\n",
       "    </tr>\n",
       "  </thead>\n",
       "  <tbody>\n",
       "    <tr>\n",
       "      <th>0</th>\n",
       "      <td>FC001547</td>\n",
       "      <td>G. max</td>\n",
       "      <td>China</td>\n",
       "      <td>II</td>\n",
       "      <td>NaN</td>\n",
       "      <td>Landrace</td>\n",
       "      <td>NaN</td>\n",
       "    </tr>\n",
       "    <tr>\n",
       "      <th>1</th>\n",
       "      <td>FC003654_1</td>\n",
       "      <td>G. max</td>\n",
       "      <td>China</td>\n",
       "      <td>IV</td>\n",
       "      <td>NaN</td>\n",
       "      <td>Landrace</td>\n",
       "      <td>NaN</td>\n",
       "    </tr>\n",
       "    <tr>\n",
       "      <th>2</th>\n",
       "      <td>FC003659</td>\n",
       "      <td>G. max</td>\n",
       "      <td>China</td>\n",
       "      <td>VI</td>\n",
       "      <td>NaN</td>\n",
       "      <td>Landrace</td>\n",
       "      <td>8.6</td>\n",
       "    </tr>\n",
       "    <tr>\n",
       "      <th>3</th>\n",
       "      <td>FC030685</td>\n",
       "      <td>G. max</td>\n",
       "      <td>Japan</td>\n",
       "      <td>ZZ</td>\n",
       "      <td>NaN</td>\n",
       "      <td>Landrace</td>\n",
       "      <td>31.6</td>\n",
       "    </tr>\n",
       "    <tr>\n",
       "      <th>4</th>\n",
       "      <td>FC031571</td>\n",
       "      <td>G. max</td>\n",
       "      <td>China</td>\n",
       "      <td>III</td>\n",
       "      <td>NaN</td>\n",
       "      <td>Landrace</td>\n",
       "      <td>NaN</td>\n",
       "    </tr>\n",
       "  </tbody>\n",
       "</table>\n",
       "</div>"
      ],
      "text/plain": [
       "       GEName Species Country   MG >99.9% similarity to other lines  \\\n",
       "0    FC001547  G. max   China   II                              NaN   \n",
       "1  FC003654_1  G. max   China   IV                              NaN   \n",
       "2    FC003659  G. max   China   VI                              NaN   \n",
       "3    FC030685  G. max   Japan   ZZ                              NaN   \n",
       "4    FC031571  G. max   China  III                              NaN   \n",
       "\n",
       "  Landrace or N. Am. cultivar  Seed weight  \n",
       "0                    Landrace          NaN  \n",
       "1                    Landrace          NaN  \n",
       "2                    Landrace          8.6  \n",
       "3                    Landrace         31.6  \n",
       "4                    Landrace          NaN  "
      ]
     },
     "execution_count": 5,
     "metadata": {},
     "output_type": "execute_result"
    }
   ],
   "source": [
    "# Since the follwoing countries are not exist, I am replacing them. 'Yugoslavia' with 'Montenegro'; 'Eastern Europe' with 'Hungary'\n",
    "USDA_Soy_lines[\"Country\"].replace({'Yugoslavia':'Montenegro', 'Eastern Europe':'Hungary','Zaire':'Democratic Republic of the Congo','Former Soviet Union':'Ukraine'}, inplace=True)\n",
    "USDA_Soy_lines.head(5)"
   ]
  },
  {
   "cell_type": "code",
   "execution_count": 6,
   "id": "e5772373",
   "metadata": {},
   "outputs": [
    {
     "name": "stderr",
     "output_type": "stream",
     "text": [
      "C:\\Users\\gellima\\AppData\\Local\\Continuum\\anaconda3\\lib\\site-packages\\ipykernel_launcher.py:4: SettingWithCopyWarning: \n",
      "A value is trying to be set on a copy of a slice from a DataFrame.\n",
      "Try using .loc[row_indexer,col_indexer] = value instead\n",
      "\n",
      "See the caveats in the documentation: https://pandas.pydata.org/pandas-docs/stable/user_guide/indexing.html#returning-a-view-versus-a-copy\n",
      "  after removing the cwd from sys.path.\n"
     ]
    },
    {
     "data": {
      "text/html": [
       "<div>\n",
       "<style scoped>\n",
       "    .dataframe tbody tr th:only-of-type {\n",
       "        vertical-align: middle;\n",
       "    }\n",
       "\n",
       "    .dataframe tbody tr th {\n",
       "        vertical-align: top;\n",
       "    }\n",
       "\n",
       "    .dataframe thead th {\n",
       "        text-align: right;\n",
       "    }\n",
       "</style>\n",
       "<table border=\"1\" class=\"dataframe\">\n",
       "  <thead>\n",
       "    <tr style=\"text-align: right;\">\n",
       "      <th></th>\n",
       "      <th>Species</th>\n",
       "      <th>GEName</th>\n",
       "      <th>&gt;99.9% similarity to other lines</th>\n",
       "      <th>Proportion of identical accessions</th>\n",
       "    </tr>\n",
       "  </thead>\n",
       "  <tbody>\n",
       "    <tr>\n",
       "      <th>0</th>\n",
       "      <td>G. Soja</td>\n",
       "      <td>1168</td>\n",
       "      <td>362</td>\n",
       "      <td>30.993151</td>\n",
       "    </tr>\n",
       "    <tr>\n",
       "      <th>1</th>\n",
       "      <td>G. max</td>\n",
       "      <td>18480</td>\n",
       "      <td>4299</td>\n",
       "      <td>23.262987</td>\n",
       "    </tr>\n",
       "  </tbody>\n",
       "</table>\n",
       "</div>"
      ],
      "text/plain": [
       "   Species  GEName  >99.9% similarity to other lines  \\\n",
       "0  G. Soja    1168                               362   \n",
       "1   G. max   18480                              4299   \n",
       "\n",
       "   Proportion of identical accessions  \n",
       "0                           30.993151  \n",
       "1                           23.262987  "
      ]
     },
     "execution_count": 6,
     "metadata": {},
     "output_type": "execute_result"
    }
   ],
   "source": [
    "# check proportion of GE's with >99% similarity to other lines for differnet species\n",
    "proportion_species=USDA_Soy_lines.groupby('Species').count()\n",
    "counts=proportion_species[['GEName','>99.9% similarity to other lines']]\n",
    "counts['Proportion of identical accessions']=(proportion_species['>99.9% similarity to other lines']/proportion_species['GEName'])*100\n",
    "data=counts.reset_index()\n",
    "data"
   ]
  },
  {
   "cell_type": "code",
   "execution_count": 7,
   "id": "614a4dfe",
   "metadata": {},
   "outputs": [
    {
     "data": {
      "text/plain": [
       "0    30.99\n",
       "1    23.26\n",
       "Name: Proportion of identical accessions, dtype: float64"
      ]
     },
     "execution_count": 7,
     "metadata": {},
     "output_type": "execute_result"
    }
   ],
   "source": [
    "similarity=data[['Species','Proportion of identical accessions']]\n",
    "similarity['Proportion of identical accessions'].round(2)"
   ]
  },
  {
   "cell_type": "code",
   "execution_count": 8,
   "id": "9c0e970e",
   "metadata": {},
   "outputs": [
    {
     "data": {
      "text/html": [
       "<div>\n",
       "<style scoped>\n",
       "    .dataframe tbody tr th:only-of-type {\n",
       "        vertical-align: middle;\n",
       "    }\n",
       "\n",
       "    .dataframe tbody tr th {\n",
       "        vertical-align: top;\n",
       "    }\n",
       "\n",
       "    .dataframe thead th {\n",
       "        text-align: right;\n",
       "    }\n",
       "</style>\n",
       "<table border=\"1\" class=\"dataframe\">\n",
       "  <thead>\n",
       "    <tr style=\"text-align: right;\">\n",
       "      <th></th>\n",
       "      <th>GEName</th>\n",
       "      <th>Species</th>\n",
       "      <th>Country</th>\n",
       "      <th>MG</th>\n",
       "      <th>&gt;99.9% similarity to other lines</th>\n",
       "    </tr>\n",
       "  </thead>\n",
       "  <tbody>\n",
       "    <tr>\n",
       "      <th>5958</th>\n",
       "      <td>FC002108</td>\n",
       "      <td>G. max</td>\n",
       "      <td>China</td>\n",
       "      <td>III</td>\n",
       "      <td>Y</td>\n",
       "    </tr>\n",
       "    <tr>\n",
       "      <th>5962</th>\n",
       "      <td>FC003654N</td>\n",
       "      <td>G. max</td>\n",
       "      <td>China</td>\n",
       "      <td>III</td>\n",
       "      <td>Y</td>\n",
       "    </tr>\n",
       "    <tr>\n",
       "      <th>5964</th>\n",
       "      <td>FC004002B</td>\n",
       "      <td>G. max</td>\n",
       "      <td>unknown</td>\n",
       "      <td>III</td>\n",
       "      <td>Y</td>\n",
       "    </tr>\n",
       "    <tr>\n",
       "      <th>5966</th>\n",
       "      <td>FC004007A</td>\n",
       "      <td>G. max</td>\n",
       "      <td>unknown</td>\n",
       "      <td>II</td>\n",
       "      <td>Y</td>\n",
       "    </tr>\n",
       "    <tr>\n",
       "      <th>5968</th>\n",
       "      <td>FC019976</td>\n",
       "      <td>G. max</td>\n",
       "      <td>Japan</td>\n",
       "      <td>II</td>\n",
       "      <td>Y</td>\n",
       "    </tr>\n",
       "  </tbody>\n",
       "</table>\n",
       "</div>"
      ],
      "text/plain": [
       "         GEName Species  Country   MG >99.9% similarity to other lines\n",
       "5958   FC002108  G. max    China  III                                Y\n",
       "5962  FC003654N  G. max    China  III                                Y\n",
       "5964  FC004002B  G. max  unknown  III                                Y\n",
       "5966  FC004007A  G. max  unknown   II                                Y\n",
       "5968   FC019976  G. max    Japan   II                                Y"
      ]
     },
     "execution_count": 8,
     "metadata": {},
     "output_type": "execute_result"
    }
   ],
   "source": [
    "Similarity=USDA_Soy_lines[['GEName','Species','Country','MG','>99.9% similarity to other lines']]\n",
    "Similarity.dropna().head()"
   ]
  },
  {
   "cell_type": "code",
   "execution_count": 9,
   "id": "837f294c",
   "metadata": {},
   "outputs": [
    {
     "data": {
      "text/html": [
       "<div>\n",
       "<style scoped>\n",
       "    .dataframe tbody tr th:only-of-type {\n",
       "        vertical-align: middle;\n",
       "    }\n",
       "\n",
       "    .dataframe tbody tr th {\n",
       "        vertical-align: top;\n",
       "    }\n",
       "\n",
       "    .dataframe thead th {\n",
       "        text-align: right;\n",
       "    }\n",
       "</style>\n",
       "<table border=\"1\" class=\"dataframe\">\n",
       "  <thead>\n",
       "    <tr style=\"text-align: right;\">\n",
       "      <th></th>\n",
       "      <th>GEName</th>\n",
       "      <th>Country</th>\n",
       "      <th>MG</th>\n",
       "      <th>&gt;99.9% similarity to other lines</th>\n",
       "    </tr>\n",
       "    <tr>\n",
       "      <th>Species</th>\n",
       "      <th></th>\n",
       "      <th></th>\n",
       "      <th></th>\n",
       "      <th></th>\n",
       "    </tr>\n",
       "  </thead>\n",
       "  <tbody>\n",
       "    <tr>\n",
       "      <th>G. Soja</th>\n",
       "      <td>1168</td>\n",
       "      <td>1168</td>\n",
       "      <td>1107</td>\n",
       "      <td>362</td>\n",
       "    </tr>\n",
       "    <tr>\n",
       "      <th>G. max</th>\n",
       "      <td>18480</td>\n",
       "      <td>18480</td>\n",
       "      <td>18442</td>\n",
       "      <td>4299</td>\n",
       "    </tr>\n",
       "  </tbody>\n",
       "</table>\n",
       "</div>"
      ],
      "text/plain": [
       "         GEName  Country     MG  >99.9% similarity to other lines\n",
       "Species                                                          \n",
       "G. Soja    1168     1168   1107                               362\n",
       "G. max    18480    18480  18442                              4299"
      ]
     },
     "execution_count": 9,
     "metadata": {},
     "output_type": "execute_result"
    }
   ],
   "source": [
    "Similarity.groupby('Species').count()"
   ]
  },
  {
   "cell_type": "code",
   "execution_count": 10,
   "id": "8ff65adb",
   "metadata": {},
   "outputs": [
    {
     "data": {
      "text/plain": [
       "Text(0, 0.5, 'Number of GEs')"
      ]
     },
     "execution_count": 10,
     "metadata": {},
     "output_type": "execute_result"
    },
    {
     "data": {
      "image/png": "[encoded data removed]",
      "text/plain": [
       "<Figure size 432x288 with 1 Axes>"
      ]
     },
     "metadata": {
      "needs_background": "light"
     },
     "output_type": "display_data"
    }
   ],
   "source": [
    "USDA_Soy_lines['MG'].value_counts().plot.bar(color='violet')\n",
    "plt.title('MG diversity among USDA germplasm')\n",
    "plt.xlabel('Maturity Group')\n",
    "plt.xticks(rotation=30, horizontalalignment=\"center\")\n",
    "plt.ylabel('Number of GEs')"
   ]
  },
  {
   "cell_type": "code",
   "execution_count": 11,
   "id": "9edac916",
   "metadata": {},
   "outputs": [
    {
     "name": "stdout",
     "output_type": "stream",
     "text": [
      "There are 18480 G. max & 1168 G. Soja lines\n"
     ]
    },
    {
     "data": {
      "image/png": "[encoded data removed]",
      "text/plain": [
       "<Figure size 432x288 with 1 Axes>"
      ]
     },
     "metadata": {
      "needs_background": "light"
     },
     "output_type": "display_data"
    }
   ],
   "source": [
    "USDA_Soy_lines['Species'].value_counts().plot.bar(color='orange')\n",
    "plt.title('Species diversity among USDA germplasm')\n",
    "plt.xlabel('Species')\n",
    "plt.xticks(rotation=30, horizontalalignment=\"center\")\n",
    "plt.ylabel('Number of GEs')\n",
    "\n",
    "print(\"There are 18480 G. max & 1168 G. Soja lines\")"
   ]
  },
  {
   "cell_type": "code",
   "execution_count": 12,
   "id": "d3e56bff",
   "metadata": {},
   "outputs": [
    {
     "data": {
      "text/plain": [
       "Text(0, 0.5, 'Number of GEs')"
      ]
     },
     "execution_count": 12,
     "metadata": {},
     "output_type": "execute_result"
    },
    {
     "data": {
      "image/png": "[encoded data removed]",
      "text/plain": [
       "<Figure size 432x288 with 1 Axes>"
      ]
     },
     "metadata": {
      "needs_background": "light"
     },
     "output_type": "display_data"
    }
   ],
   "source": [
    "USDA_Soy_lines['Landrace or N. Am. cultivar'].value_counts().plot.bar(color='blue')\n",
    "plt.title('Num of Landrace or N. Am. cultivars among USDA germplasm')\n",
    "plt.xlabel('Cultivar')\n",
    "plt.xticks(rotation=30, horizontalalignment=\"center\")\n",
    "plt.ylabel('Number of GEs')"
   ]
  },
  {
   "cell_type": "code",
   "execution_count": 13,
   "id": "76b2e7a3",
   "metadata": {},
   "outputs": [
    {
     "data": {
      "text/plain": [
       "China                 6376\n",
       "South Korea           3735\n",
       "Japan                 3228\n",
       "United States         1582\n",
       "Russia                 907\n",
       "Vietnam                637\n",
       "Indonesia              405\n",
       "India                  295\n",
       "North Korea            224\n",
       "Germany                213\n",
       "Brazil                 177\n",
       "Moldova                164\n",
       "France                 158\n",
       "unknown                148\n",
       "Taiwan                 110\n",
       "Nepal                  108\n",
       "Russian Federation     108\n",
       "Hungary                 80\n",
       "Montenegro              74\n",
       "Canada                  69\n",
       "Ukraine                 65\n",
       "Sweden                  64\n",
       "Poland                  55\n",
       "Romania                 47\n",
       "Thailand                45\n",
       "South Africa            39\n",
       "Belgium                 39\n",
       "Georgia                 39\n",
       "Bulgaria                36\n",
       "Uganda                  30\n",
       "Netherlands             30\n",
       "Malaysia                28\n",
       "Philippines             28\n",
       "Argentina               23\n",
       "Pakistan                18\n",
       "Tanzania                17\n",
       "Suriname                14\n",
       "Zimbabwe                11\n",
       "Lithuania               11\n",
       "Algeria                 11\n",
       "Australia               10\n",
       "Nigeria                 10\n",
       "Peru                     9\n",
       "Israel                   9\n",
       "Venezuela                9\n",
       "Morocco                  9\n",
       "Kazakhstan               8\n",
       "Bhutan                   7\n",
       "Mozambique               7\n",
       "Uzbekistan               7\n",
       "Zambia                   6\n",
       "Myanmar                  6\n",
       "Czech Republic           6\n",
       "Colombia                 6\n",
       "Turkey                   6\n",
       "Austria                  5\n",
       "Uruguay                  5\n",
       "Angola                   5\n",
       "Sudan                    5\n",
       "Kenya                    5\n",
       "Name: Country, dtype: int64"
      ]
     },
     "execution_count": 13,
     "metadata": {},
     "output_type": "execute_result"
    }
   ],
   "source": [
    "per_country=USDA_Soy_lines['Country'].value_counts()\n",
    "per_country.head(60)"
   ]
  },
  {
   "cell_type": "code",
   "execution_count": 14,
   "id": "ce21c2cb",
   "metadata": {},
   "outputs": [
    {
     "data": {
      "text/plain": [
       "Text(0.5, 1.0, 'GEs from top 20 countrys')"
      ]
     },
     "execution_count": 14,
     "metadata": {},
     "output_type": "execute_result"
    },
    {
     "data": {
      "image/png": "[encoded data removed]",
      "text/plain": [
       "<Figure size 432x288 with 1 Axes>"
      ]
     },
     "metadata": {
      "needs_background": "light"
     },
     "output_type": "display_data"
    }
   ],
   "source": [
    "per_country.head(20).plot.bar(color='Green')\n",
    "plt.xlabel('Country')\n",
    "plt.ylabel('Num of GEs')\n",
    "plt.title('GEs from top 20 countrys')"
   ]
  },
  {
   "cell_type": "code",
   "execution_count": 15,
   "id": "d0f7afc5",
   "metadata": {},
   "outputs": [
    {
     "data": {
      "text/html": [
       "<div>\n",
       "<style scoped>\n",
       "    .dataframe tbody tr th:only-of-type {\n",
       "        vertical-align: middle;\n",
       "    }\n",
       "\n",
       "    .dataframe tbody tr th {\n",
       "        vertical-align: top;\n",
       "    }\n",
       "\n",
       "    .dataframe thead th {\n",
       "        text-align: right;\n",
       "    }\n",
       "</style>\n",
       "<table border=\"1\" class=\"dataframe\">\n",
       "  <thead>\n",
       "    <tr style=\"text-align: right;\">\n",
       "      <th></th>\n",
       "      <th>Country</th>\n",
       "      <th>Num_of_Lines</th>\n",
       "    </tr>\n",
       "  </thead>\n",
       "  <tbody>\n",
       "    <tr>\n",
       "      <th>0</th>\n",
       "      <td>China</td>\n",
       "      <td>6376</td>\n",
       "    </tr>\n",
       "    <tr>\n",
       "      <th>1</th>\n",
       "      <td>South Korea</td>\n",
       "      <td>3735</td>\n",
       "    </tr>\n",
       "    <tr>\n",
       "      <th>2</th>\n",
       "      <td>Japan</td>\n",
       "      <td>3228</td>\n",
       "    </tr>\n",
       "    <tr>\n",
       "      <th>3</th>\n",
       "      <td>United States</td>\n",
       "      <td>1582</td>\n",
       "    </tr>\n",
       "    <tr>\n",
       "      <th>4</th>\n",
       "      <td>Russia</td>\n",
       "      <td>907</td>\n",
       "    </tr>\n",
       "  </tbody>\n",
       "</table>\n",
       "</div>"
      ],
      "text/plain": [
       "         Country  Num_of_Lines\n",
       "0          China          6376\n",
       "1    South Korea          3735\n",
       "2          Japan          3228\n",
       "3  United States          1582\n",
       "4         Russia           907"
      ]
     },
     "execution_count": 15,
     "metadata": {},
     "output_type": "execute_result"
    }
   ],
   "source": [
    "Lines_per_country=pd.DataFrame(per_country).reset_index()\n",
    "Lines_per_country.columns=['Country', 'Num_of_Lines']\n",
    "Lines_per_country.head()"
   ]
  },
  {
   "cell_type": "code",
   "execution_count": 16,
   "id": "ed8ace45",
   "metadata": {},
   "outputs": [
    {
     "name": "stdout",
     "output_type": "stream",
     "text": [
      "['China', 'South Korea', 'Japan', 'United States', 'Russia', 'Vietnam', 'Indonesia', 'India', 'North Korea', 'Germany', 'Brazil', 'Moldova', 'France', 'unknown', 'Taiwan', 'Nepal', 'Russian Federation', 'Hungary', 'Montenegro', 'Canada', 'Ukraine', 'Sweden', 'Poland', 'Romania', 'Thailand', 'South Africa', 'Belgium', 'Georgia', 'Bulgaria', 'Uganda', 'Netherlands', 'Malaysia', 'Philippines', 'Argentina', 'Pakistan', 'Tanzania', 'Suriname', 'Zimbabwe', 'Lithuania', 'Algeria', 'Australia', 'Nigeria', 'Peru', 'Israel', 'Venezuela', 'Morocco', 'Kazakhstan', 'Bhutan', 'Mozambique', 'Uzbekistan', 'Zambia', 'Myanmar', 'Czech Republic', 'Colombia', 'Turkey', 'Austria', 'Uruguay', 'Angola', 'Sudan', 'Kenya', 'Burundi', 'Afghanistan', 'Portugal', 'Democratic Republic of the Congo', 'United Kingdom', 'Kyrgyzstan', 'Latvia', 'Central African Republic', 'El Salvador', 'Papua New Guinea', 'Costa Rica', 'Mexico', 'Guatemala', 'Cameroon', 'Turkmenistan', 'Switzerland', 'Iran', 'Ghana', 'Bosnia and Herzegovina', 'Mongolia', 'Sri Lanka', 'Italy', 'Liberia', 'Ireland', 'Hong Kong', 'Denmark', 'Croatia', 'Seychelles']\n"
     ]
    }
   ],
   "source": [
    "countries_list=[]\n",
    "for index, row in Lines_per_country.iterrows():\n",
    "    countries_list.append(row['Country'])\n",
    "    #print(row['Country'])\n",
    "    \n",
    "print(countries_list)"
   ]
  },
  {
   "cell_type": "code",
   "execution_count": 17,
   "id": "c9fb8f8d",
   "metadata": {},
   "outputs": [
    {
     "name": "stdout",
     "output_type": "stream",
     "text": [
      "88\n"
     ]
    }
   ],
   "source": [
    "print(len(countries_list))"
   ]
  },
  {
   "cell_type": "markdown",
   "id": "1c5598bc",
   "metadata": {},
   "source": [
    "# The geographic distribution of the accessions used in this study"
   ]
  },
  {
   "cell_type": "markdown",
   "id": "20daabb9",
   "metadata": {},
   "source": [
    "## Conversion to Alpha 2 codes and Continents\n",
    "\n",
    "Country names are converted to alpha 2 country codes. For example, United States to US. \n",
    "Python’s pycountry-convert package is used to handle the conversion."
   ]
  },
  {
   "cell_type": "code",
   "execution_count": 23,
   "id": "03f6ce72",
   "metadata": {},
   "outputs": [],
   "source": [
    "#installation\n",
    "# pip install pycountry-convert or\n",
    "\n",
    "#conda install -c conda-forge/label/cf201901 pycountry"
   ]
  },
  {
   "cell_type": "code",
   "execution_count": 24,
   "id": "837dda04",
   "metadata": {},
   "outputs": [],
   "source": [
    "import pycountry_convert as pc\n",
    "country_code=[]\n",
    "continent=[]\n",
    "for i in countries_list:\n",
    "    #print(i)\n",
    "    if i !='unknown':        \n",
    "        cn_code = pc.country_name_to_country_alpha2(i, cn_name_format=\"default\")\n",
    "        country_code.append(cn_code)\n",
    "        \n",
    "        con_name = pc.country_alpha2_to_continent_code(cn_code)\n",
    "        continent.append(con_name)\n",
    "            \n",
    "    else:\n",
    "        cn_code='unknown'\n",
    "        con_name='unknown'\n",
    "        \n",
    "        country_code.append(cn_code)\n",
    "        continent.append(con_name)\n",
    "Lines_per_country['Country_code'] = country_code\n",
    "Lines_per_country['Continent'] = continent"
   ]
  },
  {
   "cell_type": "code",
   "execution_count": 25,
   "id": "3dd97f63",
   "metadata": {},
   "outputs": [
    {
     "data": {
      "text/html": [
       "<div>\n",
       "<style scoped>\n",
       "    .dataframe tbody tr th:only-of-type {\n",
       "        vertical-align: middle;\n",
       "    }\n",
       "\n",
       "    .dataframe tbody tr th {\n",
       "        vertical-align: top;\n",
       "    }\n",
       "\n",
       "    .dataframe thead th {\n",
       "        text-align: right;\n",
       "    }\n",
       "</style>\n",
       "<table border=\"1\" class=\"dataframe\">\n",
       "  <thead>\n",
       "    <tr style=\"text-align: right;\">\n",
       "      <th></th>\n",
       "      <th>Country</th>\n",
       "      <th>Num_of_Lines</th>\n",
       "      <th>Country_code</th>\n",
       "      <th>Continent</th>\n",
       "    </tr>\n",
       "  </thead>\n",
       "  <tbody>\n",
       "    <tr>\n",
       "      <th>0</th>\n",
       "      <td>China</td>\n",
       "      <td>6376</td>\n",
       "      <td>CN</td>\n",
       "      <td>AS</td>\n",
       "    </tr>\n",
       "    <tr>\n",
       "      <th>1</th>\n",
       "      <td>South Korea</td>\n",
       "      <td>3735</td>\n",
       "      <td>KR</td>\n",
       "      <td>AS</td>\n",
       "    </tr>\n",
       "    <tr>\n",
       "      <th>2</th>\n",
       "      <td>Japan</td>\n",
       "      <td>3228</td>\n",
       "      <td>JP</td>\n",
       "      <td>AS</td>\n",
       "    </tr>\n",
       "    <tr>\n",
       "      <th>3</th>\n",
       "      <td>United States</td>\n",
       "      <td>1582</td>\n",
       "      <td>US</td>\n",
       "      <td>NA</td>\n",
       "    </tr>\n",
       "    <tr>\n",
       "      <th>4</th>\n",
       "      <td>Russia</td>\n",
       "      <td>907</td>\n",
       "      <td>RU</td>\n",
       "      <td>EU</td>\n",
       "    </tr>\n",
       "  </tbody>\n",
       "</table>\n",
       "</div>"
      ],
      "text/plain": [
       "         Country  Num_of_Lines Country_code Continent\n",
       "0          China          6376           CN        AS\n",
       "1    South Korea          3735           KR        AS\n",
       "2          Japan          3228           JP        AS\n",
       "3  United States          1582           US        NA\n",
       "4         Russia           907           RU        EU"
      ]
     },
     "execution_count": 25,
     "metadata": {},
     "output_type": "execute_result"
    }
   ],
   "source": [
    "Lines_per_country.head()"
   ]
  },
  {
   "cell_type": "markdown",
   "id": "4334b6b4",
   "metadata": {},
   "source": [
    "## Get longitude and latitude"
   ]
  },
  {
   "cell_type": "code",
   "execution_count": 26,
   "id": "f7cdb9b4",
   "metadata": {},
   "outputs": [],
   "source": [
    "#installation\n",
    "# pip install geopy or \n",
    "#conda install -c conda-forge/label/gcc7 geopy"
   ]
  },
  {
   "cell_type": "code",
   "execution_count": 27,
   "id": "c8209fe6",
   "metadata": {},
   "outputs": [],
   "source": [
    "from geopy.exc import GeocoderTimedOut\n",
    "from geopy.geocoders import Nominatim\n",
    "   \n",
    "# declare an empty list to store latitude and longitude of values \n",
    "longitude = []\n",
    "latitude = []\n",
    "   \n",
    "# function to find the coordinate of a given country \n",
    "def findGeocode(Country):\n",
    "       \n",
    "    # try and catch is used to overcome the exception thrown by geolocator using geocodertimedout  \n",
    "    try:\n",
    "          \n",
    "        # Specify the user_agent as your app name it should not be none\n",
    "        geolocator = Nominatim(user_agent=\"your_app_name\")\n",
    "        \n",
    "        return geolocator.geocode(Country)\n",
    "      \n",
    "    except GeocoderTimedOut: \n",
    "        return findGeocode(Country)    \n",
    "  \n",
    "# each value from Country column will be fetched and sent to function find_geocode   \n",
    "for i in countries_list:\n",
    "      \n",
    "    if findGeocode(i) != None:\n",
    "           \n",
    "        loc = findGeocode(i)\n",
    "          \n",
    "        # coordinates returned from function is stored into two separate list\n",
    "        latitude.append(loc.latitude)\n",
    "        longitude.append(loc.longitude)\n",
    "        # if coordinate for a city not found, insert \"NaN\" indicating missing value \n",
    "    else:\n",
    "        latitude.append(np.nan)\n",
    "        longitude.append(np.nan)\n",
    "#Showing the output produced as dataframe, now add this column to dataframe\n",
    "Lines_per_country[\"Longitude\"] = longitude\n",
    "Lines_per_country[\"Latitude\"] = latitude"
   ]
  },
  {
   "cell_type": "code",
   "execution_count": 28,
   "id": "36dc20f8",
   "metadata": {},
   "outputs": [
    {
     "data": {
      "text/html": [
       "<div>\n",
       "<style scoped>\n",
       "    .dataframe tbody tr th:only-of-type {\n",
       "        vertical-align: middle;\n",
       "    }\n",
       "\n",
       "    .dataframe tbody tr th {\n",
       "        vertical-align: top;\n",
       "    }\n",
       "\n",
       "    .dataframe thead th {\n",
       "        text-align: right;\n",
       "    }\n",
       "</style>\n",
       "<table border=\"1\" class=\"dataframe\">\n",
       "  <thead>\n",
       "    <tr style=\"text-align: right;\">\n",
       "      <th></th>\n",
       "      <th>Country</th>\n",
       "      <th>Num_of_Lines</th>\n",
       "      <th>Country_code</th>\n",
       "      <th>Continent</th>\n",
       "      <th>Longitude</th>\n",
       "      <th>Latitude</th>\n",
       "    </tr>\n",
       "  </thead>\n",
       "  <tbody>\n",
       "    <tr>\n",
       "      <th>0</th>\n",
       "      <td>China</td>\n",
       "      <td>6376</td>\n",
       "      <td>CN</td>\n",
       "      <td>AS</td>\n",
       "      <td>104.999927</td>\n",
       "      <td>35.000074</td>\n",
       "    </tr>\n",
       "    <tr>\n",
       "      <th>1</th>\n",
       "      <td>South Korea</td>\n",
       "      <td>3735</td>\n",
       "      <td>KR</td>\n",
       "      <td>AS</td>\n",
       "      <td>127.696119</td>\n",
       "      <td>36.638392</td>\n",
       "    </tr>\n",
       "    <tr>\n",
       "      <th>2</th>\n",
       "      <td>Japan</td>\n",
       "      <td>3228</td>\n",
       "      <td>JP</td>\n",
       "      <td>AS</td>\n",
       "      <td>139.239418</td>\n",
       "      <td>36.574844</td>\n",
       "    </tr>\n",
       "    <tr>\n",
       "      <th>3</th>\n",
       "      <td>United States</td>\n",
       "      <td>1582</td>\n",
       "      <td>US</td>\n",
       "      <td>NA</td>\n",
       "      <td>-100.445882</td>\n",
       "      <td>39.783730</td>\n",
       "    </tr>\n",
       "    <tr>\n",
       "      <th>4</th>\n",
       "      <td>Russia</td>\n",
       "      <td>907</td>\n",
       "      <td>RU</td>\n",
       "      <td>EU</td>\n",
       "      <td>97.745306</td>\n",
       "      <td>64.686314</td>\n",
       "    </tr>\n",
       "  </tbody>\n",
       "</table>\n",
       "</div>"
      ],
      "text/plain": [
       "         Country  Num_of_Lines Country_code Continent   Longitude   Latitude\n",
       "0          China          6376           CN        AS  104.999927  35.000074\n",
       "1    South Korea          3735           KR        AS  127.696119  36.638392\n",
       "2          Japan          3228           JP        AS  139.239418  36.574844\n",
       "3  United States          1582           US        NA -100.445882  39.783730\n",
       "4         Russia           907           RU        EU   97.745306  64.686314"
      ]
     },
     "execution_count": 28,
     "metadata": {},
     "output_type": "execute_result"
    }
   ],
   "source": [
    "Lines_per_country.head()"
   ]
  },
  {
   "cell_type": "markdown",
   "id": "68963d49",
   "metadata": {},
   "source": [
    "## Create a world map"
   ]
  },
  {
   "cell_type": "code",
   "execution_count": 29,
   "id": "c5412cd4",
   "metadata": {},
   "outputs": [],
   "source": [
    "#installation\n",
    "# pip install folium or conda install -c conda-forge/label/cf202003 folium"
   ]
  },
  {
   "cell_type": "code",
   "execution_count": 30,
   "id": "9b93a120",
   "metadata": {},
   "outputs": [
    {
     "data": {
      "text/html": [
       "<div style=\"width:100%;\"><div style=\"position:relative;width:100%;height:0;padding-bottom:60%;\"><iframe src=\"about:blank\" style=\"position:absolute;width:100%;height:100%;left:0;top:0;border:none !important;\" data-html=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 onload=\"this.contentDocument.open();this.contentDocument.write(atob(this.getAttribute('data-html')));this.contentDocument.close();\" allowfullscreen webkitallowfullscreen mozallowfullscreen></iframe></div></div>"
      ],
      "text/plain": [
       "<folium.folium.Map at 0x1d60a0991c8>"
      ]
     },
     "execution_count": 30,
     "metadata": {},
     "output_type": "execute_result"
    }
   ],
   "source": [
    "# Create a world map to show distributions of users \n",
    "import folium\n",
    "from folium.plugins import MarkerCluster\n",
    "#empty map\n",
    "world_map= folium.Map(tiles=\"cartodbpositron\")\n",
    "marker_cluster = MarkerCluster().add_to(world_map)\n",
    "#for each coordinate, create circlemarker of user percent\n",
    "for i in range(len(Lines_per_country)):\n",
    "        lat = Lines_per_country.iloc[i]['Latitude']\n",
    "        long = Lines_per_country.iloc[i]['Longitude']\n",
    "        radius=5\n",
    "        popup_text = \"\"\"Country : {}<br>\n",
    "                    %of Users : {}<br>\"\"\"\n",
    "        popup_text = popup_text.format(Lines_per_country.iloc[i]['Country'],\n",
    "                                   Lines_per_country.iloc[i]['Num_of_Lines']\n",
    "                                   )\n",
    "        folium.CircleMarker(location = [lat, long], radius=radius, popup= popup_text, fill =True).add_to(marker_cluster)\n",
    "#show the map\n",
    "world_map"
   ]
  },
  {
   "cell_type": "markdown",
   "id": "d732886d",
   "metadata": {},
   "source": [
    "## Summary: \n",
    "Soybean USDA lines dataset contains 19649 entries collected from 91 countries. But, some of the countries are renamed. For example: Yugoslavia is changed to Montenegro, Eastern Europe with Hungary, Zaire with Democratic Republic of the Congo and Former Soviet Union with Ukraine. This resulted in collection from 89 counties. Top five countries are: China, South Korea, Japan, United States and Russia.\n",
    "There is great diversity exist among USDA lines: \n",
    "•of these 19649 lines, entries from G.max species are higher (18480) vs G.soja (1168). Among these, 31% of G.max and 23.2% G.soja entries had >99% similarity with other entries. \n",
    "•Diversity across maturity groups is there, more entries are from early to mid-maturity groups (I to VI).\n",
    "•More landraces are there relative to N.Am.cultivars.\n"
   ]
  }
 ],
 "metadata": {
  "kernelspec": {
   "display_name": "Python 3 (ipykernel)",
   "language": "python",
   "name": "python3"
  },
  "language_info": {
   "codemirror_mode": {
    "name": "ipython",
    "version": 3
   },
   "file_extension": ".py",
   "mimetype": "text/x-python",
   "name": "python",
   "nbconvert_exporter": "python",
   "pygments_lexer": "ipython3",
   "version": "3.7.11"
  }
 },
 "nbformat": 4,
 "nbformat_minor": 5
}
