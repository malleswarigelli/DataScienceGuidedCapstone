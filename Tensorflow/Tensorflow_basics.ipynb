{
 "cells": [
  {
   "cell_type": "code",
   "execution_count": 8,
   "id": "b9a15792",
   "metadata": {},
   "outputs": [
    {
     "name": "stdout",
     "output_type": "stream",
     "text": [
      "1.14.0\n"
     ]
    }
   ],
   "source": [
    "import tensorflow as tf\n",
    "\n",
    "print(tf.version.VERSION)"
   ]
  },
  {
   "cell_type": "code",
   "execution_count": 9,
   "id": "40572f0f",
   "metadata": {},
   "outputs": [
    {
     "data": {
      "text/plain": [
       "<function tensorflow.python.framework.ops.enable_eager_execution(config=None, device_policy=None, execution_mode=None)>"
      ]
     },
     "execution_count": 9,
     "metadata": {},
     "output_type": "execute_result"
    }
   ],
   "source": [
    "#tf.enable_eager_execution()\n",
    "tf.compat.v1.enable_eager_execution"
   ]
  },
  {
   "cell_type": "markdown",
   "id": "d216bef4",
   "metadata": {},
   "source": [
    "# Defining Tensors in TensorFlow"
   ]
  },
  {
   "cell_type": "code",
   "execution_count": 13,
   "id": "b0c23ba9",
   "metadata": {},
   "outputs": [
    {
     "name": "stdout",
     "output_type": "stream",
     "text": [
      "[[[1. 1.]\n",
      "  [1. 1.]]\n",
      "\n",
      " [[1. 1.]\n",
      "  [1. 1.]]]\n"
     ]
    }
   ],
   "source": [
    "## 0 dimentional tensor\n",
    "d0 = tf.ones((1,))\n",
    "d1 = tf.ones((2,)) # 1D tensor\n",
    "d2 = tf.ones((2,2)) # 2D tensor\n",
    "d3 = tf.ones((2,2,2)) # 3D tensor\n",
    "\n",
    "# print these tensors using .numpy() method\n",
    "print(d3.numpy())"
   ]
  },
  {
   "cell_type": "markdown",
   "id": "1c6e0850",
   "metadata": {},
   "source": [
    "# Defining Constants in Tensorflow"
   ]
  },
  {
   "cell_type": "code",
   "execution_count": 16,
   "id": "083727e5",
   "metadata": {},
   "outputs": [],
   "source": [
    "from tensorflow import constant\n",
    "\n",
    "a = constant(3, shape=[2,3]) # defining 2x3 constant\n",
    "b = constant([1,2,3,4], shape=[2,2]) # define a 2x2 constant"
   ]
  },
  {
   "cell_type": "markdown",
   "id": "c5852eca",
   "metadata": {},
   "source": [
    "# Defining and initializing variables"
   ]
  },
  {
   "cell_type": "code",
   "execution_count": 26,
   "id": "a49ac374",
   "metadata": {},
   "outputs": [],
   "source": [
    "import tensorflow as tf\n",
    "\n",
    "# define a variable\n",
    "a0 = tf.Variable([1,2,3,4,5,6], dtype=tf.float32) # 1D tf array with 6 eles, dtype is float32\n",
    "a1 = tf.Variable([1,2,3,4,5,6], dtype=tf.int16)\n",
    "\n",
    "# define a constant\n",
    "b = tf.constant(2, tf.float32)\n",
    "\n",
    "# compute product\n",
    "c0 = tf.multiply(a0,b)\n",
    "c1 = a0 * b"
   ]
  },
  {
   "cell_type": "code",
   "execution_count": 23,
   "id": "fa801a14",
   "metadata": {},
   "outputs": [],
   "source": [
    "\n"
   ]
  },
  {
   "cell_type": "code",
   "execution_count": null,
   "id": "071e1161",
   "metadata": {},
   "outputs": [],
   "source": []
  }
 ],
 "metadata": {
  "kernelspec": {
   "display_name": "Python 3 (ipykernel)",
   "language": "python",
   "name": "python3"
  },
  "language_info": {
   "codemirror_mode": {
    "name": "ipython",
    "version": 3
   },
   "file_extension": ".py",
   "mimetype": "text/x-python",
   "name": "python",
   "nbconvert_exporter": "python",
   "pygments_lexer": "ipython3",
   "version": "3.7.11"
  }
 },
 "nbformat": 4,
 "nbformat_minor": 5
}
