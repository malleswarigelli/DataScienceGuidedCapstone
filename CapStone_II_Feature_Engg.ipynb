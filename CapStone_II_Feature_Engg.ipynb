{
 "cells": [
  {
   "cell_type": "raw",
   "id": "b21493b9",
   "metadata": {},
   "source": [
    "FEATURE ENGINEERGING STEP:\n",
    "1. Imputation of Missing values (either drop rows or impute missing values)\n",
    "2. Handling outliers (detect outliers with stadard deviation, percentiles, and drop outliers based on upper and lower limit)\n",
    "3. Binning numerical features when large volume of datapoints\n",
    "4. Log transformation (helps to handle skewed data (\"fat tailed\" distribution) and after transformation, the distribution would approximate to normal)\n",
    "5. Encoding (one hot encoding)\n",
    "6. Group operations (Categorical Column Grouping: by aggregate or pivot; Numerical Column Grouping by sum or mean)\n",
    "7. Split the data to train and test"
   ]
  },
  {
   "cell_type": "code",
   "execution_count": 74,
   "id": "a1b8be3d",
   "metadata": {},
   "outputs": [],
   "source": [
    "import pandas as pd\n",
    "import numpy as np\n",
    "import os\n",
    "import matplotlib.pyplot as plt\n",
    "import seaborn as sns\n",
    "from sklearn.decomposition import PCA\n",
    "from sklearn.preprocessing import scale"
   ]
  },
  {
   "cell_type": "markdown",
   "id": "93d111ed",
   "metadata": {},
   "source": [
    "# 1. Import data, QC"
   ]
  },
  {
   "cell_type": "code",
   "execution_count": 82,
   "id": "3969b30a",
   "metadata": {},
   "outputs": [
    {
     "data": {
      "text/html": [
       "<div>\n",
       "<style scoped>\n",
       "    .dataframe tbody tr th:only-of-type {\n",
       "        vertical-align: middle;\n",
       "    }\n",
       "\n",
       "    .dataframe tbody tr th {\n",
       "        vertical-align: top;\n",
       "    }\n",
       "\n",
       "    .dataframe thead th {\n",
       "        text-align: right;\n",
       "    }\n",
       "</style>\n",
       "<table border=\"1\" class=\"dataframe\">\n",
       "  <thead>\n",
       "    <tr style=\"text-align: right;\">\n",
       "      <th></th>\n",
       "      <th>Site</th>\n",
       "      <th>Request_id</th>\n",
       "      <th>Year</th>\n",
       "      <th>Quarter</th>\n",
       "      <th>GE_ID</th>\n",
       "      <th>BreedingZone</th>\n",
       "      <th>EvaluationZone</th>\n",
       "      <th>HetGrp</th>\n",
       "      <th>Type</th>\n",
       "      <th>Actual_embryos</th>\n",
       "      <th>Actual_haploid_embryos</th>\n",
       "      <th>Hap_rate</th>\n",
       "      <th>Actual_Elle_pots</th>\n",
       "      <th>Actual_D0_plants</th>\n",
       "      <th>Trans_rate</th>\n",
       "      <th>Actual_D0_poll</th>\n",
       "      <th>Poll_rate</th>\n",
       "    </tr>\n",
       "  </thead>\n",
       "  <tbody>\n",
       "    <tr>\n",
       "      <th>0</th>\n",
       "      <td>AZ</td>\n",
       "      <td>178950</td>\n",
       "      <td>2015</td>\n",
       "      <td>1</td>\n",
       "      <td>67133087</td>\n",
       "      <td>TE</td>\n",
       "      <td>NAWN</td>\n",
       "      <td>SSS</td>\n",
       "      <td>S</td>\n",
       "      <td>9425</td>\n",
       "      <td>1308</td>\n",
       "      <td>14</td>\n",
       "      <td>599.0</td>\n",
       "      <td>537.0</td>\n",
       "      <td>90.0</td>\n",
       "      <td>256.0</td>\n",
       "      <td>48.0</td>\n",
       "    </tr>\n",
       "    <tr>\n",
       "      <th>1</th>\n",
       "      <td>AZ</td>\n",
       "      <td>178955</td>\n",
       "      <td>2015</td>\n",
       "      <td>1</td>\n",
       "      <td>67133419</td>\n",
       "      <td>TE</td>\n",
       "      <td>NAWN</td>\n",
       "      <td>SSS</td>\n",
       "      <td>S</td>\n",
       "      <td>8029</td>\n",
       "      <td>1206</td>\n",
       "      <td>15</td>\n",
       "      <td>699.0</td>\n",
       "      <td>606.0</td>\n",
       "      <td>87.0</td>\n",
       "      <td>299.0</td>\n",
       "      <td>49.0</td>\n",
       "    </tr>\n",
       "    <tr>\n",
       "      <th>2</th>\n",
       "      <td>AZ</td>\n",
       "      <td>178969</td>\n",
       "      <td>2015</td>\n",
       "      <td>1</td>\n",
       "      <td>67226512</td>\n",
       "      <td>TE</td>\n",
       "      <td>NAWN</td>\n",
       "      <td>NSS</td>\n",
       "      <td>O</td>\n",
       "      <td>3373</td>\n",
       "      <td>976</td>\n",
       "      <td>29</td>\n",
       "      <td>466.0</td>\n",
       "      <td>270.0</td>\n",
       "      <td>58.0</td>\n",
       "      <td>196.0</td>\n",
       "      <td>73.0</td>\n",
       "    </tr>\n",
       "    <tr>\n",
       "      <th>3</th>\n",
       "      <td>AZ</td>\n",
       "      <td>178971</td>\n",
       "      <td>2015</td>\n",
       "      <td>1</td>\n",
       "      <td>67226501</td>\n",
       "      <td>TE</td>\n",
       "      <td>NAWN</td>\n",
       "      <td>NSS</td>\n",
       "      <td>O</td>\n",
       "      <td>4227</td>\n",
       "      <td>1189</td>\n",
       "      <td>28</td>\n",
       "      <td>518.0</td>\n",
       "      <td>310.0</td>\n",
       "      <td>60.0</td>\n",
       "      <td>184.0</td>\n",
       "      <td>59.0</td>\n",
       "    </tr>\n",
       "    <tr>\n",
       "      <th>4</th>\n",
       "      <td>AZ</td>\n",
       "      <td>178973</td>\n",
       "      <td>2015</td>\n",
       "      <td>1</td>\n",
       "      <td>67226717</td>\n",
       "      <td>TE</td>\n",
       "      <td>NAWN</td>\n",
       "      <td>NSS</td>\n",
       "      <td>O</td>\n",
       "      <td>5360</td>\n",
       "      <td>1277</td>\n",
       "      <td>24</td>\n",
       "      <td>623.0</td>\n",
       "      <td>516.0</td>\n",
       "      <td>83.0</td>\n",
       "      <td>286.0</td>\n",
       "      <td>55.0</td>\n",
       "    </tr>\n",
       "  </tbody>\n",
       "</table>\n",
       "</div>"
      ],
      "text/plain": [
       "  Site  Request_id  Year  Quarter     GE_ID BreedingZone EvaluationZone  \\\n",
       "0   AZ      178950  2015        1  67133087           TE           NAWN   \n",
       "1   AZ      178955  2015        1  67133419           TE           NAWN   \n",
       "2   AZ      178969  2015        1  67226512           TE           NAWN   \n",
       "3   AZ      178971  2015        1  67226501           TE           NAWN   \n",
       "4   AZ      178973  2015        1  67226717           TE           NAWN   \n",
       "\n",
       "  HetGrp Type  Actual_embryos  Actual_haploid_embryos  Hap_rate  \\\n",
       "0    SSS    S            9425                    1308        14   \n",
       "1    SSS    S            8029                    1206        15   \n",
       "2    NSS    O            3373                     976        29   \n",
       "3    NSS    O            4227                    1189        28   \n",
       "4    NSS    O            5360                    1277        24   \n",
       "\n",
       "   Actual_Elle_pots  Actual_D0_plants  Trans_rate  Actual_D0_poll  Poll_rate  \n",
       "0             599.0             537.0        90.0           256.0       48.0  \n",
       "1             699.0             606.0        87.0           299.0       49.0  \n",
       "2             466.0             270.0        58.0           196.0       73.0  \n",
       "3             518.0             310.0        60.0           184.0       59.0  \n",
       "4             623.0             516.0        83.0           286.0       55.0  "
      ]
     },
     "execution_count": 82,
     "metadata": {},
     "output_type": "execute_result"
    }
   ],
   "source": [
    "data=pd.read_csv('C:/Users/gellima/Desktop/Springboard_DScience/Data_Sci_Inhouse/data_EDA.csv')\n",
    "data.head()\n"
   ]
  },
  {
   "cell_type": "code",
   "execution_count": 84,
   "id": "58667e1d",
   "metadata": {},
   "outputs": [
    {
     "data": {
      "text/plain": [
       "(14811, 17)"
      ]
     },
     "execution_count": 84,
     "metadata": {},
     "output_type": "execute_result"
    }
   ],
   "source": [
    "data.shape"
   ]
  },
  {
   "cell_type": "code",
   "execution_count": 85,
   "id": "2496ad42",
   "metadata": {},
   "outputs": [
    {
     "name": "stdout",
     "output_type": "stream",
     "text": [
      "<class 'pandas.core.frame.DataFrame'>\n",
      "RangeIndex: 14811 entries, 0 to 14810\n",
      "Data columns (total 17 columns):\n",
      " #   Column                  Non-Null Count  Dtype  \n",
      "---  ------                  --------------  -----  \n",
      " 0   Site                    14811 non-null  object \n",
      " 1   Request_id              14811 non-null  int64  \n",
      " 2   Year                    14811 non-null  object \n",
      " 3   Quarter                 14811 non-null  object \n",
      " 4   GE_ID                   14811 non-null  int64  \n",
      " 5   BreedingZone            14811 non-null  object \n",
      " 6   EvaluationZone          14811 non-null  object \n",
      " 7   HetGrp                  14811 non-null  object \n",
      " 8   Type                    14811 non-null  object \n",
      " 9   Actual_embryos          14811 non-null  int64  \n",
      " 10  Actual_haploid_embryos  14811 non-null  int64  \n",
      " 11  Hap_rate                14811 non-null  int64  \n",
      " 12  Actual_Elle_pots        14811 non-null  float64\n",
      " 13  Actual_D0_plants        14811 non-null  float64\n",
      " 14  Trans_rate              14811 non-null  float64\n",
      " 15  Actual_D0_poll          14811 non-null  float64\n",
      " 16  Poll_rate               14811 non-null  float64\n",
      "dtypes: float64(5), int64(5), object(7)\n",
      "memory usage: 1.9+ MB\n"
     ]
    }
   ],
   "source": [
    "# change year and quarter column type to object\n",
    "data['Year']=data['Year'].astype(object)\n",
    "data['Quarter']=data['Quarter'].astype(object)\n",
    "data.info()"
   ]
  },
  {
   "cell_type": "code",
   "execution_count": 86,
   "id": "32a1bd04",
   "metadata": {},
   "outputs": [
    {
     "name": "stdout",
     "output_type": "stream",
     "text": [
      "<class 'pandas.core.frame.DataFrame'>\n",
      "RangeIndex: 14811 entries, 0 to 14810\n",
      "Data columns (total 17 columns):\n",
      " #   Column                  Non-Null Count  Dtype  \n",
      "---  ------                  --------------  -----  \n",
      " 0   Site                    14811 non-null  object \n",
      " 1   Request_id              14811 non-null  int64  \n",
      " 2   Year                    14811 non-null  object \n",
      " 3   Quarter                 14811 non-null  object \n",
      " 4   GE_ID                   14811 non-null  int64  \n",
      " 5   BreedingZone            14811 non-null  object \n",
      " 6   EvaluationZone          14811 non-null  object \n",
      " 7   HetGrp                  14811 non-null  object \n",
      " 8   Type                    14811 non-null  object \n",
      " 9   Actual_embryos          14811 non-null  int64  \n",
      " 10  Actual_haploid_embryos  14811 non-null  int64  \n",
      " 11  Hap_rate                14811 non-null  int64  \n",
      " 12  Actual_Elle_pots        14811 non-null  float64\n",
      " 13  Actual_D0_plants        14811 non-null  float64\n",
      " 14  Trans_rate              14811 non-null  float64\n",
      " 15  Actual_D0_poll          14811 non-null  float64\n",
      " 16  Poll_rate               14811 non-null  float64\n",
      "dtypes: float64(5), int64(5), object(7)\n",
      "memory usage: 1.9+ MB\n"
     ]
    }
   ],
   "source": [
    "data.info()"
   ]
  },
  {
   "cell_type": "code",
   "execution_count": 87,
   "id": "b1f64a5e",
   "metadata": {},
   "outputs": [
    {
     "data": {
      "text/html": [
       "<div>\n",
       "<style scoped>\n",
       "    .dataframe tbody tr th:only-of-type {\n",
       "        vertical-align: middle;\n",
       "    }\n",
       "\n",
       "    .dataframe tbody tr th {\n",
       "        vertical-align: top;\n",
       "    }\n",
       "\n",
       "    .dataframe thead th {\n",
       "        text-align: right;\n",
       "    }\n",
       "</style>\n",
       "<table border=\"1\" class=\"dataframe\">\n",
       "  <thead>\n",
       "    <tr style=\"text-align: right;\">\n",
       "      <th></th>\n",
       "      <th>Site</th>\n",
       "      <th>Year</th>\n",
       "      <th>Quarter</th>\n",
       "      <th>BreedingZone</th>\n",
       "      <th>EvaluationZone</th>\n",
       "      <th>HetGrp</th>\n",
       "      <th>Type</th>\n",
       "    </tr>\n",
       "  </thead>\n",
       "  <tbody>\n",
       "    <tr>\n",
       "      <th>0</th>\n",
       "      <td>AZ</td>\n",
       "      <td>2015</td>\n",
       "      <td>1</td>\n",
       "      <td>TE</td>\n",
       "      <td>NAWN</td>\n",
       "      <td>SSS</td>\n",
       "      <td>S</td>\n",
       "    </tr>\n",
       "    <tr>\n",
       "      <th>1</th>\n",
       "      <td>AZ</td>\n",
       "      <td>2015</td>\n",
       "      <td>1</td>\n",
       "      <td>TE</td>\n",
       "      <td>NAWN</td>\n",
       "      <td>SSS</td>\n",
       "      <td>S</td>\n",
       "    </tr>\n",
       "    <tr>\n",
       "      <th>2</th>\n",
       "      <td>AZ</td>\n",
       "      <td>2015</td>\n",
       "      <td>1</td>\n",
       "      <td>TE</td>\n",
       "      <td>NAWN</td>\n",
       "      <td>NSS</td>\n",
       "      <td>O</td>\n",
       "    </tr>\n",
       "    <tr>\n",
       "      <th>3</th>\n",
       "      <td>AZ</td>\n",
       "      <td>2015</td>\n",
       "      <td>1</td>\n",
       "      <td>TE</td>\n",
       "      <td>NAWN</td>\n",
       "      <td>NSS</td>\n",
       "      <td>O</td>\n",
       "    </tr>\n",
       "    <tr>\n",
       "      <th>4</th>\n",
       "      <td>AZ</td>\n",
       "      <td>2015</td>\n",
       "      <td>1</td>\n",
       "      <td>TE</td>\n",
       "      <td>NAWN</td>\n",
       "      <td>NSS</td>\n",
       "      <td>O</td>\n",
       "    </tr>\n",
       "  </tbody>\n",
       "</table>\n",
       "</div>"
      ],
      "text/plain": [
       "  Site  Year Quarter BreedingZone EvaluationZone HetGrp Type\n",
       "0   AZ  2015       1           TE           NAWN    SSS    S\n",
       "1   AZ  2015       1           TE           NAWN    SSS    S\n",
       "2   AZ  2015       1           TE           NAWN    NSS    O\n",
       "3   AZ  2015       1           TE           NAWN    NSS    O\n",
       "4   AZ  2015       1           TE           NAWN    NSS    O"
      ]
     },
     "execution_count": 87,
     "metadata": {},
     "output_type": "execute_result"
    }
   ],
   "source": [
    "cat_fea=data.select_dtypes('object')\n",
    "cat_fea.head()"
   ]
  },
  {
   "cell_type": "markdown",
   "id": "368cef5f",
   "metadata": {},
   "source": [
    "# 4 Feature Engineering\n",
    "\n",
    "Missinge values were imputed in wrangling session, so no nan values are there in this dataset\n"
   ]
  },
  {
   "cell_type": "markdown",
   "id": "eebe722a",
   "metadata": {},
   "source": [
    "## 4.1 IS Log transformation required???????????????\n",
    "Since most of the numeric variables of the dataset had skewed distribution, planning to do Log transformation\n",
    "A critical note: The data you apply log transform must have only positive values, otherwise you receive an error."
   ]
  },
  {
   "cell_type": "markdown",
   "id": "481822e7",
   "metadata": {},
   "source": [
    "## 4.1.1 Plotting Numeric features of the dataset"
   ]
  },
  {
   "cell_type": "code",
   "execution_count": 88,
   "id": "5473509b",
   "metadata": {},
   "outputs": [],
   "source": [
    "#Use 'select_dtypes` method to select columns of dtype 'object'\n",
    "#num_fea=data.select_dtypes(exclude='object').copy()\n",
    "#num_fea.head()\n",
    "\n",
    "#num_fea.hist(layout=(3,4), figsize=(15,10))\n",
    "#Give the subplots a little \"breathing room\" with a wspace of 0.5\n",
    "#plt.subplots_adjust(wspace=1.0)      \n",
    "\n",
    "# Tight layout often produces nice results\n",
    "# but requires the title to be spaced accordingly\n",
    "#plt.tight_layout()\n",
    "#plt.suptitle('Distribution of numeric features', Fontsize=20)\n",
    "#plt.subplots_adjust(top=0.92)\n",
    "#plt.show()"
   ]
  },
  {
   "cell_type": "code",
   "execution_count": null,
   "id": "633ef3f7",
   "metadata": {},
   "outputs": [],
   "source": []
  },
  {
   "cell_type": "markdown",
   "id": "e899a824",
   "metadata": {},
   "source": [
    "# 4.2 Encoding"
   ]
  },
  {
   "cell_type": "markdown",
   "id": "daafba64",
   "metadata": {},
   "source": [
    "# 4.2.1 Encoding catogorical features with LabelEncoder\n",
    "Encode the categorical features (change categorical data to numbers), fed to the machine learning models"
   ]
  },
  {
   "cell_type": "code",
   "execution_count": 89,
   "id": "12628cc2",
   "metadata": {},
   "outputs": [
    {
     "name": "stdout",
     "output_type": "stream",
     "text": [
      "   Site  Request_id  Year Quarter     GE_ID  BreedingZone  EvaluationZone  \\\n",
      "0     0      178950  2015       1  67133087             0              11   \n",
      "1     0      178955  2015       1  67133419             0              11   \n",
      "2     0      178969  2015       1  67226512             0              11   \n",
      "3     0      178971  2015       1  67226501             0              11   \n",
      "4     0      178973  2015       1  67226717             0              11   \n",
      "\n",
      "   HetGrp  Type  Actual_embryos  Actual_haploid_embryos  Hap_rate  \\\n",
      "0       1     3            9425                    1308        14   \n",
      "1       1     3            8029                    1206        15   \n",
      "2       0     2            3373                     976        29   \n",
      "3       0     2            4227                    1189        28   \n",
      "4       0     2            5360                    1277        24   \n",
      "\n",
      "   Actual_Elle_pots  Actual_D0_plants  Trans_rate  Actual_D0_poll  Poll_rate  \n",
      "0             599.0             537.0        90.0           256.0       48.0  \n",
      "1             699.0             606.0        87.0           299.0       49.0  \n",
      "2             466.0             270.0        58.0           196.0       73.0  \n",
      "3             518.0             310.0        60.0           184.0       59.0  \n",
      "4             623.0             516.0        83.0           286.0       55.0  \n"
     ]
    }
   ],
   "source": [
    "df=data\n",
    "from sklearn.preprocessing import LabelEncoder\n",
    "label = LabelEncoder()\n",
    "df['Site'] = label.fit_transform(df['Site'].values)\n",
    "df['BreedingZone'] = label.fit_transform(df['BreedingZone'].values)\n",
    "df['EvaluationZone'] = label.fit_transform(df['EvaluationZone'].values)\n",
    "df['HetGrp'] = label.fit_transform(df['HetGrp'].values)\n",
    "df['Type'] = label.fit_transform(df['Type'].values)\n",
    "\n",
    "print(df.head())"
   ]
  },
  {
   "cell_type": "code",
   "execution_count": 90,
   "id": "04e4a797",
   "metadata": {},
   "outputs": [
    {
     "data": {
      "text/plain": [
       "(14811, 17)"
      ]
     },
     "execution_count": 90,
     "metadata": {},
     "output_type": "execute_result"
    }
   ],
   "source": [
    "df.shape"
   ]
  },
  {
   "cell_type": "raw",
   "id": "f52f0282",
   "metadata": {},
   "source": [
    "## LabelEncoder uniquely label/set different categories of catogorical variable 0 to n-1 (0,1,2,3). Since some number is greater than others, this can skew the models leading to inaccurate results."
   ]
  },
  {
   "cell_type": "markdown",
   "id": "cc90de49",
   "metadata": {},
   "source": [
    "## 4.2.2 One-hot Encoding; creates dummy columns\n",
    "One hot encoding create ’n’ columns where n is the number of unique values that the nominal variable.\n",
    "\n"
   ]
  },
  {
   "cell_type": "code",
   "execution_count": 125,
   "id": "d178bdaa",
   "metadata": {},
   "outputs": [
    {
     "data": {
      "text/html": [
       "<div>\n",
       "<style scoped>\n",
       "    .dataframe tbody tr th:only-of-type {\n",
       "        vertical-align: middle;\n",
       "    }\n",
       "\n",
       "    .dataframe tbody tr th {\n",
       "        vertical-align: top;\n",
       "    }\n",
       "\n",
       "    .dataframe thead th {\n",
       "        text-align: right;\n",
       "    }\n",
       "</style>\n",
       "<table border=\"1\" class=\"dataframe\">\n",
       "  <thead>\n",
       "    <tr style=\"text-align: right;\">\n",
       "      <th></th>\n",
       "      <th>Request_id</th>\n",
       "      <th>GE_ID</th>\n",
       "      <th>Actual_embryos</th>\n",
       "      <th>Actual_haploid_embryos</th>\n",
       "      <th>Hap_rate</th>\n",
       "      <th>Actual_Elle_pots</th>\n",
       "      <th>Actual_D0_plants</th>\n",
       "      <th>Trans_rate</th>\n",
       "      <th>Actual_D0_poll</th>\n",
       "      <th>Poll_rate</th>\n",
       "      <th>...</th>\n",
       "      <th>EvaluationZone_9</th>\n",
       "      <th>EvaluationZone_10</th>\n",
       "      <th>EvaluationZone_11</th>\n",
       "      <th>EvaluationZone_12</th>\n",
       "      <th>HetGrp_0</th>\n",
       "      <th>HetGrp_1</th>\n",
       "      <th>Type_0</th>\n",
       "      <th>Type_1</th>\n",
       "      <th>Type_2</th>\n",
       "      <th>Type_3</th>\n",
       "    </tr>\n",
       "  </thead>\n",
       "  <tbody>\n",
       "    <tr>\n",
       "      <th>0</th>\n",
       "      <td>178950</td>\n",
       "      <td>67133087</td>\n",
       "      <td>9425</td>\n",
       "      <td>1308</td>\n",
       "      <td>14</td>\n",
       "      <td>599.0</td>\n",
       "      <td>537.0</td>\n",
       "      <td>90.0</td>\n",
       "      <td>256.0</td>\n",
       "      <td>48.0</td>\n",
       "      <td>...</td>\n",
       "      <td>0</td>\n",
       "      <td>0</td>\n",
       "      <td>1</td>\n",
       "      <td>0</td>\n",
       "      <td>0</td>\n",
       "      <td>1</td>\n",
       "      <td>0</td>\n",
       "      <td>0</td>\n",
       "      <td>0</td>\n",
       "      <td>1</td>\n",
       "    </tr>\n",
       "    <tr>\n",
       "      <th>1</th>\n",
       "      <td>178955</td>\n",
       "      <td>67133419</td>\n",
       "      <td>8029</td>\n",
       "      <td>1206</td>\n",
       "      <td>15</td>\n",
       "      <td>699.0</td>\n",
       "      <td>606.0</td>\n",
       "      <td>87.0</td>\n",
       "      <td>299.0</td>\n",
       "      <td>49.0</td>\n",
       "      <td>...</td>\n",
       "      <td>0</td>\n",
       "      <td>0</td>\n",
       "      <td>1</td>\n",
       "      <td>0</td>\n",
       "      <td>0</td>\n",
       "      <td>1</td>\n",
       "      <td>0</td>\n",
       "      <td>0</td>\n",
       "      <td>0</td>\n",
       "      <td>1</td>\n",
       "    </tr>\n",
       "    <tr>\n",
       "      <th>2</th>\n",
       "      <td>178969</td>\n",
       "      <td>67226512</td>\n",
       "      <td>3373</td>\n",
       "      <td>976</td>\n",
       "      <td>29</td>\n",
       "      <td>466.0</td>\n",
       "      <td>270.0</td>\n",
       "      <td>58.0</td>\n",
       "      <td>196.0</td>\n",
       "      <td>73.0</td>\n",
       "      <td>...</td>\n",
       "      <td>0</td>\n",
       "      <td>0</td>\n",
       "      <td>1</td>\n",
       "      <td>0</td>\n",
       "      <td>1</td>\n",
       "      <td>0</td>\n",
       "      <td>0</td>\n",
       "      <td>0</td>\n",
       "      <td>1</td>\n",
       "      <td>0</td>\n",
       "    </tr>\n",
       "    <tr>\n",
       "      <th>3</th>\n",
       "      <td>178971</td>\n",
       "      <td>67226501</td>\n",
       "      <td>4227</td>\n",
       "      <td>1189</td>\n",
       "      <td>28</td>\n",
       "      <td>518.0</td>\n",
       "      <td>310.0</td>\n",
       "      <td>60.0</td>\n",
       "      <td>184.0</td>\n",
       "      <td>59.0</td>\n",
       "      <td>...</td>\n",
       "      <td>0</td>\n",
       "      <td>0</td>\n",
       "      <td>1</td>\n",
       "      <td>0</td>\n",
       "      <td>1</td>\n",
       "      <td>0</td>\n",
       "      <td>0</td>\n",
       "      <td>0</td>\n",
       "      <td>1</td>\n",
       "      <td>0</td>\n",
       "    </tr>\n",
       "    <tr>\n",
       "      <th>4</th>\n",
       "      <td>178973</td>\n",
       "      <td>67226717</td>\n",
       "      <td>5360</td>\n",
       "      <td>1277</td>\n",
       "      <td>24</td>\n",
       "      <td>623.0</td>\n",
       "      <td>516.0</td>\n",
       "      <td>83.0</td>\n",
       "      <td>286.0</td>\n",
       "      <td>55.0</td>\n",
       "      <td>...</td>\n",
       "      <td>0</td>\n",
       "      <td>0</td>\n",
       "      <td>1</td>\n",
       "      <td>0</td>\n",
       "      <td>1</td>\n",
       "      <td>0</td>\n",
       "      <td>0</td>\n",
       "      <td>0</td>\n",
       "      <td>1</td>\n",
       "      <td>0</td>\n",
       "    </tr>\n",
       "  </tbody>\n",
       "</table>\n",
       "<p>5 rows × 44 columns</p>\n",
       "</div>"
      ],
      "text/plain": [
       "   Request_id     GE_ID  Actual_embryos  Actual_haploid_embryos  Hap_rate  \\\n",
       "0      178950  67133087            9425                    1308        14   \n",
       "1      178955  67133419            8029                    1206        15   \n",
       "2      178969  67226512            3373                     976        29   \n",
       "3      178971  67226501            4227                    1189        28   \n",
       "4      178973  67226717            5360                    1277        24   \n",
       "\n",
       "   Actual_Elle_pots  Actual_D0_plants  Trans_rate  Actual_D0_poll  Poll_rate  \\\n",
       "0             599.0             537.0        90.0           256.0       48.0   \n",
       "1             699.0             606.0        87.0           299.0       49.0   \n",
       "2             466.0             270.0        58.0           196.0       73.0   \n",
       "3             518.0             310.0        60.0           184.0       59.0   \n",
       "4             623.0             516.0        83.0           286.0       55.0   \n",
       "\n",
       "   ...  EvaluationZone_9  EvaluationZone_10  EvaluationZone_11  \\\n",
       "0  ...                 0                  0                  1   \n",
       "1  ...                 0                  0                  1   \n",
       "2  ...                 0                  0                  1   \n",
       "3  ...                 0                  0                  1   \n",
       "4  ...                 0                  0                  1   \n",
       "\n",
       "   EvaluationZone_12  HetGrp_0  HetGrp_1  Type_0  Type_1  Type_2  Type_3  \n",
       "0                  0         0         1       0       0       0       1  \n",
       "1                  0         0         1       0       0       0       1  \n",
       "2                  0         1         0       0       0       1       0  \n",
       "3                  0         1         0       0       0       1       0  \n",
       "4                  0         1         0       0       0       1       0  \n",
       "\n",
       "[5 rows x 44 columns]"
      ]
     },
     "execution_count": 125,
     "metadata": {},
     "output_type": "execute_result"
    }
   ],
   "source": [
    "# create dummy columns for categorical features\n",
    "dummy_data=pd.get_dummies(data=data, columns=['Site','Year','Quarter','BreedingZone','EvaluationZone','HetGrp','Type'])\n",
    "dummy_data.head()\n"
   ]
  },
  {
   "cell_type": "raw",
   "id": "d8e1a263",
   "metadata": {},
   "source": [
    "# notice that different columns were generated for each catogorical varible value and assigned values to 0 & 1  "
   ]
  },
  {
   "cell_type": "code",
   "execution_count": 98,
   "id": "104c3002",
   "metadata": {},
   "outputs": [
    {
     "data": {
      "text/plain": [
       "(14811, 44)"
      ]
     },
     "execution_count": 98,
     "metadata": {},
     "output_type": "execute_result"
    }
   ],
   "source": [
    "dummy_data.shape"
   ]
  },
  {
   "cell_type": "markdown",
   "id": "e64bbed2",
   "metadata": {},
   "source": [
    "# 4.3 Split the data into train and test subsamples"
   ]
  },
  {
   "cell_type": "code",
   "execution_count": 126,
   "id": "351bc59e",
   "metadata": {},
   "outputs": [],
   "source": [
    "X=dummy_data.drop(['Hap_rate'], axis=1)\n",
    "y=dummy_data[['Hap_rate']]"
   ]
  },
  {
   "cell_type": "code",
   "execution_count": 127,
   "id": "ee6f7e77",
   "metadata": {},
   "outputs": [
    {
     "data": {
      "text/plain": [
       "(14811, 43)"
      ]
     },
     "execution_count": 127,
     "metadata": {},
     "output_type": "execute_result"
    }
   ],
   "source": [
    "X.shape"
   ]
  },
  {
   "cell_type": "code",
   "execution_count": 128,
   "id": "07536097",
   "metadata": {},
   "outputs": [
    {
     "data": {
      "text/plain": [
       "(14811, 1)"
      ]
     },
     "execution_count": 128,
     "metadata": {},
     "output_type": "execute_result"
    }
   ],
   "source": [
    "y.shape"
   ]
  },
  {
   "cell_type": "code",
   "execution_count": 137,
   "id": "f755bf1e",
   "metadata": {},
   "outputs": [],
   "source": [
    "from sklearn.model_selection import train_test_split\n",
    "X_train, X_test, y_train, y_test = train_test_split(X, y, test_size=0.2, random_state=42)\n"
   ]
  },
  {
   "cell_type": "code",
   "execution_count": 138,
   "id": "083a8013",
   "metadata": {},
   "outputs": [
    {
     "name": "stdout",
     "output_type": "stream",
     "text": [
      "X_train size: 509464\n",
      "X_test size: 127409\n",
      "y_train size: 11848\n",
      "y_test size: 2963\n"
     ]
    }
   ],
   "source": [
    "#X_test.head()\n",
    "print('X_train size:', X_train.size)\n",
    "print('X_test size:', X_test.size)\n",
    "print('y_train size:', y_train.size)\n",
    "print('y_test size:', y_test.size)\n"
   ]
  },
  {
   "cell_type": "markdown",
   "id": "14fe4e11",
   "metadata": {},
   "source": [
    "# 4.4 Scale the numeric data\n",
    "\n",
    "scale() transforms numeric data columns with mean 0 and std 1.0\n",
    "\n",
    "build scaler based on training data and apply it to test data to then also scale the test data"
   ]
  },
  {
   "cell_type": "code",
   "execution_count": 139,
   "id": "7a2fcf24",
   "metadata": {},
   "outputs": [],
   "source": [
    "#scale the data\n",
    "from sklearn import preprocessing\n",
    "import numpy as np\n",
    "scaler = preprocessing.StandardScaler().fit(X_train)\n",
    "X_train_scaled=scaler.transform(X_train)\n",
    "X_test_scaled=scaler.transform(X_test)"
   ]
  },
  {
   "cell_type": "code",
   "execution_count": 113,
   "id": "bf17e42b",
   "metadata": {},
   "outputs": [
    {
     "data": {
      "text/html": [
       "<div>\n",
       "<style scoped>\n",
       "    .dataframe tbody tr th:only-of-type {\n",
       "        vertical-align: middle;\n",
       "    }\n",
       "\n",
       "    .dataframe tbody tr th {\n",
       "        vertical-align: top;\n",
       "    }\n",
       "\n",
       "    .dataframe thead th {\n",
       "        text-align: right;\n",
       "    }\n",
       "</style>\n",
       "<table border=\"1\" class=\"dataframe\">\n",
       "  <thead>\n",
       "    <tr style=\"text-align: right;\">\n",
       "      <th></th>\n",
       "      <th>Request_id</th>\n",
       "      <th>GE_ID</th>\n",
       "      <th>Actual_embryos</th>\n",
       "      <th>Actual_haploid_embryos</th>\n",
       "      <th>Actual_Elle_pots</th>\n",
       "      <th>Actual_D0_plants</th>\n",
       "      <th>Trans_rate</th>\n",
       "      <th>Actual_D0_poll</th>\n",
       "      <th>Poll_rate</th>\n",
       "      <th>Site_0</th>\n",
       "      <th>...</th>\n",
       "      <th>EvaluationZone_9</th>\n",
       "      <th>EvaluationZone_10</th>\n",
       "      <th>EvaluationZone_11</th>\n",
       "      <th>EvaluationZone_12</th>\n",
       "      <th>HetGrp_0</th>\n",
       "      <th>HetGrp_1</th>\n",
       "      <th>Type_0</th>\n",
       "      <th>Type_1</th>\n",
       "      <th>Type_2</th>\n",
       "      <th>Type_3</th>\n",
       "    </tr>\n",
       "  </thead>\n",
       "  <tbody>\n",
       "    <tr>\n",
       "      <th>0</th>\n",
       "      <td>178950</td>\n",
       "      <td>67133087</td>\n",
       "      <td>9425</td>\n",
       "      <td>1308</td>\n",
       "      <td>599.0</td>\n",
       "      <td>537.0</td>\n",
       "      <td>90.0</td>\n",
       "      <td>256.0</td>\n",
       "      <td>48.0</td>\n",
       "      <td>1</td>\n",
       "      <td>...</td>\n",
       "      <td>0</td>\n",
       "      <td>0</td>\n",
       "      <td>1</td>\n",
       "      <td>0</td>\n",
       "      <td>0</td>\n",
       "      <td>1</td>\n",
       "      <td>0</td>\n",
       "      <td>0</td>\n",
       "      <td>0</td>\n",
       "      <td>1</td>\n",
       "    </tr>\n",
       "    <tr>\n",
       "      <th>1</th>\n",
       "      <td>178955</td>\n",
       "      <td>67133419</td>\n",
       "      <td>8029</td>\n",
       "      <td>1206</td>\n",
       "      <td>699.0</td>\n",
       "      <td>606.0</td>\n",
       "      <td>87.0</td>\n",
       "      <td>299.0</td>\n",
       "      <td>49.0</td>\n",
       "      <td>1</td>\n",
       "      <td>...</td>\n",
       "      <td>0</td>\n",
       "      <td>0</td>\n",
       "      <td>1</td>\n",
       "      <td>0</td>\n",
       "      <td>0</td>\n",
       "      <td>1</td>\n",
       "      <td>0</td>\n",
       "      <td>0</td>\n",
       "      <td>0</td>\n",
       "      <td>1</td>\n",
       "    </tr>\n",
       "    <tr>\n",
       "      <th>2</th>\n",
       "      <td>178969</td>\n",
       "      <td>67226512</td>\n",
       "      <td>3373</td>\n",
       "      <td>976</td>\n",
       "      <td>466.0</td>\n",
       "      <td>270.0</td>\n",
       "      <td>58.0</td>\n",
       "      <td>196.0</td>\n",
       "      <td>73.0</td>\n",
       "      <td>1</td>\n",
       "      <td>...</td>\n",
       "      <td>0</td>\n",
       "      <td>0</td>\n",
       "      <td>1</td>\n",
       "      <td>0</td>\n",
       "      <td>1</td>\n",
       "      <td>0</td>\n",
       "      <td>0</td>\n",
       "      <td>0</td>\n",
       "      <td>1</td>\n",
       "      <td>0</td>\n",
       "    </tr>\n",
       "    <tr>\n",
       "      <th>3</th>\n",
       "      <td>178971</td>\n",
       "      <td>67226501</td>\n",
       "      <td>4227</td>\n",
       "      <td>1189</td>\n",
       "      <td>518.0</td>\n",
       "      <td>310.0</td>\n",
       "      <td>60.0</td>\n",
       "      <td>184.0</td>\n",
       "      <td>59.0</td>\n",
       "      <td>1</td>\n",
       "      <td>...</td>\n",
       "      <td>0</td>\n",
       "      <td>0</td>\n",
       "      <td>1</td>\n",
       "      <td>0</td>\n",
       "      <td>1</td>\n",
       "      <td>0</td>\n",
       "      <td>0</td>\n",
       "      <td>0</td>\n",
       "      <td>1</td>\n",
       "      <td>0</td>\n",
       "    </tr>\n",
       "    <tr>\n",
       "      <th>4</th>\n",
       "      <td>178973</td>\n",
       "      <td>67226717</td>\n",
       "      <td>5360</td>\n",
       "      <td>1277</td>\n",
       "      <td>623.0</td>\n",
       "      <td>516.0</td>\n",
       "      <td>83.0</td>\n",
       "      <td>286.0</td>\n",
       "      <td>55.0</td>\n",
       "      <td>1</td>\n",
       "      <td>...</td>\n",
       "      <td>0</td>\n",
       "      <td>0</td>\n",
       "      <td>1</td>\n",
       "      <td>0</td>\n",
       "      <td>1</td>\n",
       "      <td>0</td>\n",
       "      <td>0</td>\n",
       "      <td>0</td>\n",
       "      <td>1</td>\n",
       "      <td>0</td>\n",
       "    </tr>\n",
       "  </tbody>\n",
       "</table>\n",
       "<p>5 rows × 43 columns</p>\n",
       "</div>"
      ],
      "text/plain": [
       "   Request_id     GE_ID  Actual_embryos  Actual_haploid_embryos  \\\n",
       "0      178950  67133087            9425                    1308   \n",
       "1      178955  67133419            8029                    1206   \n",
       "2      178969  67226512            3373                     976   \n",
       "3      178971  67226501            4227                    1189   \n",
       "4      178973  67226717            5360                    1277   \n",
       "\n",
       "   Actual_Elle_pots  Actual_D0_plants  Trans_rate  Actual_D0_poll  Poll_rate  \\\n",
       "0             599.0             537.0        90.0           256.0       48.0   \n",
       "1             699.0             606.0        87.0           299.0       49.0   \n",
       "2             466.0             270.0        58.0           196.0       73.0   \n",
       "3             518.0             310.0        60.0           184.0       59.0   \n",
       "4             623.0             516.0        83.0           286.0       55.0   \n",
       "\n",
       "   Site_0  ...  EvaluationZone_9  EvaluationZone_10  EvaluationZone_11  \\\n",
       "0       1  ...                 0                  0                  1   \n",
       "1       1  ...                 0                  0                  1   \n",
       "2       1  ...                 0                  0                  1   \n",
       "3       1  ...                 0                  0                  1   \n",
       "4       1  ...                 0                  0                  1   \n",
       "\n",
       "   EvaluationZone_12  HetGrp_0  HetGrp_1  Type_0  Type_1  Type_2  Type_3  \n",
       "0                  0         0         1       0       0       0       1  \n",
       "1                  0         0         1       0       0       0       1  \n",
       "2                  0         1         0       0       0       1       0  \n",
       "3                  0         1         0       0       0       1       0  \n",
       "4                  0         1         0       0       0       1       0  \n",
       "\n",
       "[5 rows x 43 columns]"
      ]
     },
     "execution_count": 113,
     "metadata": {},
     "output_type": "execute_result"
    }
   ],
   "source": [
    "## slicing numeric data (int, float) by excluding object datatype\n",
    "num_fea=X.select_dtypes(exclude='object')\n",
    "num_fea.head()"
   ]
  },
  {
   "cell_type": "code",
   "execution_count": 115,
   "id": "f767a71f",
   "metadata": {},
   "outputs": [],
   "source": [
    " #num_fea.info()"
   ]
  },
  {
   "cell_type": "markdown",
   "id": "d91cf5dd",
   "metadata": {},
   "source": [
    "### Since GE_ID are unique values, setting as index\n"
   ]
  },
  {
   "cell_type": "code",
   "execution_count": 116,
   "id": "44871149",
   "metadata": {},
   "outputs": [
    {
     "data": {
      "text/html": [
       "<div>\n",
       "<style scoped>\n",
       "    .dataframe tbody tr th:only-of-type {\n",
       "        vertical-align: middle;\n",
       "    }\n",
       "\n",
       "    .dataframe tbody tr th {\n",
       "        vertical-align: top;\n",
       "    }\n",
       "\n",
       "    .dataframe thead th {\n",
       "        text-align: right;\n",
       "    }\n",
       "</style>\n",
       "<table border=\"1\" class=\"dataframe\">\n",
       "  <thead>\n",
       "    <tr style=\"text-align: right;\">\n",
       "      <th></th>\n",
       "      <th>Request_id</th>\n",
       "      <th>Actual_embryos</th>\n",
       "      <th>Actual_haploid_embryos</th>\n",
       "      <th>Actual_Elle_pots</th>\n",
       "      <th>Actual_D0_plants</th>\n",
       "      <th>Trans_rate</th>\n",
       "      <th>Actual_D0_poll</th>\n",
       "      <th>Poll_rate</th>\n",
       "      <th>Site_0</th>\n",
       "      <th>Site_1</th>\n",
       "      <th>...</th>\n",
       "      <th>EvaluationZone_9</th>\n",
       "      <th>EvaluationZone_10</th>\n",
       "      <th>EvaluationZone_11</th>\n",
       "      <th>EvaluationZone_12</th>\n",
       "      <th>HetGrp_0</th>\n",
       "      <th>HetGrp_1</th>\n",
       "      <th>Type_0</th>\n",
       "      <th>Type_1</th>\n",
       "      <th>Type_2</th>\n",
       "      <th>Type_3</th>\n",
       "    </tr>\n",
       "    <tr>\n",
       "      <th>GE_ID</th>\n",
       "      <th></th>\n",
       "      <th></th>\n",
       "      <th></th>\n",
       "      <th></th>\n",
       "      <th></th>\n",
       "      <th></th>\n",
       "      <th></th>\n",
       "      <th></th>\n",
       "      <th></th>\n",
       "      <th></th>\n",
       "      <th></th>\n",
       "      <th></th>\n",
       "      <th></th>\n",
       "      <th></th>\n",
       "      <th></th>\n",
       "      <th></th>\n",
       "      <th></th>\n",
       "      <th></th>\n",
       "      <th></th>\n",
       "      <th></th>\n",
       "      <th></th>\n",
       "    </tr>\n",
       "  </thead>\n",
       "  <tbody>\n",
       "    <tr>\n",
       "      <th>67133087</th>\n",
       "      <td>178950</td>\n",
       "      <td>9425</td>\n",
       "      <td>1308</td>\n",
       "      <td>599.0</td>\n",
       "      <td>537.0</td>\n",
       "      <td>90.0</td>\n",
       "      <td>256.0</td>\n",
       "      <td>48.0</td>\n",
       "      <td>1</td>\n",
       "      <td>0</td>\n",
       "      <td>...</td>\n",
       "      <td>0</td>\n",
       "      <td>0</td>\n",
       "      <td>1</td>\n",
       "      <td>0</td>\n",
       "      <td>0</td>\n",
       "      <td>1</td>\n",
       "      <td>0</td>\n",
       "      <td>0</td>\n",
       "      <td>0</td>\n",
       "      <td>1</td>\n",
       "    </tr>\n",
       "    <tr>\n",
       "      <th>67133419</th>\n",
       "      <td>178955</td>\n",
       "      <td>8029</td>\n",
       "      <td>1206</td>\n",
       "      <td>699.0</td>\n",
       "      <td>606.0</td>\n",
       "      <td>87.0</td>\n",
       "      <td>299.0</td>\n",
       "      <td>49.0</td>\n",
       "      <td>1</td>\n",
       "      <td>0</td>\n",
       "      <td>...</td>\n",
       "      <td>0</td>\n",
       "      <td>0</td>\n",
       "      <td>1</td>\n",
       "      <td>0</td>\n",
       "      <td>0</td>\n",
       "      <td>1</td>\n",
       "      <td>0</td>\n",
       "      <td>0</td>\n",
       "      <td>0</td>\n",
       "      <td>1</td>\n",
       "    </tr>\n",
       "    <tr>\n",
       "      <th>67226512</th>\n",
       "      <td>178969</td>\n",
       "      <td>3373</td>\n",
       "      <td>976</td>\n",
       "      <td>466.0</td>\n",
       "      <td>270.0</td>\n",
       "      <td>58.0</td>\n",
       "      <td>196.0</td>\n",
       "      <td>73.0</td>\n",
       "      <td>1</td>\n",
       "      <td>0</td>\n",
       "      <td>...</td>\n",
       "      <td>0</td>\n",
       "      <td>0</td>\n",
       "      <td>1</td>\n",
       "      <td>0</td>\n",
       "      <td>1</td>\n",
       "      <td>0</td>\n",
       "      <td>0</td>\n",
       "      <td>0</td>\n",
       "      <td>1</td>\n",
       "      <td>0</td>\n",
       "    </tr>\n",
       "    <tr>\n",
       "      <th>67226501</th>\n",
       "      <td>178971</td>\n",
       "      <td>4227</td>\n",
       "      <td>1189</td>\n",
       "      <td>518.0</td>\n",
       "      <td>310.0</td>\n",
       "      <td>60.0</td>\n",
       "      <td>184.0</td>\n",
       "      <td>59.0</td>\n",
       "      <td>1</td>\n",
       "      <td>0</td>\n",
       "      <td>...</td>\n",
       "      <td>0</td>\n",
       "      <td>0</td>\n",
       "      <td>1</td>\n",
       "      <td>0</td>\n",
       "      <td>1</td>\n",
       "      <td>0</td>\n",
       "      <td>0</td>\n",
       "      <td>0</td>\n",
       "      <td>1</td>\n",
       "      <td>0</td>\n",
       "    </tr>\n",
       "    <tr>\n",
       "      <th>67226717</th>\n",
       "      <td>178973</td>\n",
       "      <td>5360</td>\n",
       "      <td>1277</td>\n",
       "      <td>623.0</td>\n",
       "      <td>516.0</td>\n",
       "      <td>83.0</td>\n",
       "      <td>286.0</td>\n",
       "      <td>55.0</td>\n",
       "      <td>1</td>\n",
       "      <td>0</td>\n",
       "      <td>...</td>\n",
       "      <td>0</td>\n",
       "      <td>0</td>\n",
       "      <td>1</td>\n",
       "      <td>0</td>\n",
       "      <td>1</td>\n",
       "      <td>0</td>\n",
       "      <td>0</td>\n",
       "      <td>0</td>\n",
       "      <td>1</td>\n",
       "      <td>0</td>\n",
       "    </tr>\n",
       "  </tbody>\n",
       "</table>\n",
       "<p>5 rows × 42 columns</p>\n",
       "</div>"
      ],
      "text/plain": [
       "          Request_id  Actual_embryos  Actual_haploid_embryos  \\\n",
       "GE_ID                                                          \n",
       "67133087      178950            9425                    1308   \n",
       "67133419      178955            8029                    1206   \n",
       "67226512      178969            3373                     976   \n",
       "67226501      178971            4227                    1189   \n",
       "67226717      178973            5360                    1277   \n",
       "\n",
       "          Actual_Elle_pots  Actual_D0_plants  Trans_rate  Actual_D0_poll  \\\n",
       "GE_ID                                                                      \n",
       "67133087             599.0             537.0        90.0           256.0   \n",
       "67133419             699.0             606.0        87.0           299.0   \n",
       "67226512             466.0             270.0        58.0           196.0   \n",
       "67226501             518.0             310.0        60.0           184.0   \n",
       "67226717             623.0             516.0        83.0           286.0   \n",
       "\n",
       "          Poll_rate  Site_0  Site_1  ...  EvaluationZone_9  EvaluationZone_10  \\\n",
       "GE_ID                                ...                                        \n",
       "67133087       48.0       1       0  ...                 0                  0   \n",
       "67133419       49.0       1       0  ...                 0                  0   \n",
       "67226512       73.0       1       0  ...                 0                  0   \n",
       "67226501       59.0       1       0  ...                 0                  0   \n",
       "67226717       55.0       1       0  ...                 0                  0   \n",
       "\n",
       "          EvaluationZone_11  EvaluationZone_12  HetGrp_0  HetGrp_1  Type_0  \\\n",
       "GE_ID                                                                        \n",
       "67133087                  1                  0         0         1       0   \n",
       "67133419                  1                  0         0         1       0   \n",
       "67226512                  1                  0         1         0       0   \n",
       "67226501                  1                  0         1         0       0   \n",
       "67226717                  1                  0         1         0       0   \n",
       "\n",
       "          Type_1  Type_2  Type_3  \n",
       "GE_ID                             \n",
       "67133087       0       0       1  \n",
       "67133419       0       0       1  \n",
       "67226512       0       1       0  \n",
       "67226501       0       1       0  \n",
       "67226717       0       1       0  \n",
       "\n",
       "[5 rows x 42 columns]"
      ]
     },
     "execution_count": 116,
     "metadata": {},
     "output_type": "execute_result"
    }
   ],
   "source": [
    "num_fea=num_fea.set_index('GE_ID')\n",
    "num_fea.head()"
   ]
  },
  {
   "cell_type": "code",
   "execution_count": 117,
   "id": "2fd95998",
   "metadata": {},
   "outputs": [],
   "source": [
    "# save index of numeric data\n",
    "num_fea_index=num_fea.index\n",
    "#num_fea_index"
   ]
  },
  {
   "cell_type": "code",
   "execution_count": 118,
   "id": "57cc482a",
   "metadata": {},
   "outputs": [],
   "source": [
    "# save columns of numeric data\n",
    "num_fea_cols=num_fea.columns\n",
    "#num_cols"
   ]
  },
  {
   "cell_type": "code",
   "execution_count": 119,
   "id": "68942c30",
   "metadata": {},
   "outputs": [],
   "source": [
    "# scale() returns ndarray with no column names, since i want to visualize scaled data, copied column headers separately in earlier step \n",
    "num_scale=scale(num_fea)\n",
    "#num_scale"
   ]
  },
  {
   "cell_type": "code",
   "execution_count": 124,
   "id": "67f406ca",
   "metadata": {},
   "outputs": [
    {
     "data": {
      "text/html": [
       "<div>\n",
       "<style scoped>\n",
       "    .dataframe tbody tr th:only-of-type {\n",
       "        vertical-align: middle;\n",
       "    }\n",
       "\n",
       "    .dataframe tbody tr th {\n",
       "        vertical-align: top;\n",
       "    }\n",
       "\n",
       "    .dataframe thead th {\n",
       "        text-align: right;\n",
       "    }\n",
       "</style>\n",
       "<table border=\"1\" class=\"dataframe\">\n",
       "  <thead>\n",
       "    <tr style=\"text-align: right;\">\n",
       "      <th></th>\n",
       "      <th>Request_id</th>\n",
       "      <th>Actual_embryos</th>\n",
       "      <th>Actual_haploid_embryos</th>\n",
       "      <th>Actual_Elle_pots</th>\n",
       "      <th>Actual_D0_plants</th>\n",
       "      <th>Trans_rate</th>\n",
       "      <th>Actual_D0_poll</th>\n",
       "      <th>Poll_rate</th>\n",
       "      <th>Site_0</th>\n",
       "      <th>Site_1</th>\n",
       "      <th>...</th>\n",
       "      <th>EvaluationZone_9</th>\n",
       "      <th>EvaluationZone_10</th>\n",
       "      <th>EvaluationZone_11</th>\n",
       "      <th>EvaluationZone_12</th>\n",
       "      <th>HetGrp_0</th>\n",
       "      <th>HetGrp_1</th>\n",
       "      <th>Type_0</th>\n",
       "      <th>Type_1</th>\n",
       "      <th>Type_2</th>\n",
       "      <th>Type_3</th>\n",
       "    </tr>\n",
       "    <tr>\n",
       "      <th>GE_ID</th>\n",
       "      <th></th>\n",
       "      <th></th>\n",
       "      <th></th>\n",
       "      <th></th>\n",
       "      <th></th>\n",
       "      <th></th>\n",
       "      <th></th>\n",
       "      <th></th>\n",
       "      <th></th>\n",
       "      <th></th>\n",
       "      <th></th>\n",
       "      <th></th>\n",
       "      <th></th>\n",
       "      <th></th>\n",
       "      <th></th>\n",
       "      <th></th>\n",
       "      <th></th>\n",
       "      <th></th>\n",
       "      <th></th>\n",
       "      <th></th>\n",
       "      <th></th>\n",
       "    </tr>\n",
       "  </thead>\n",
       "  <tbody>\n",
       "    <tr>\n",
       "      <th>67133087</th>\n",
       "      <td>0.155020</td>\n",
       "      <td>2.855074</td>\n",
       "      <td>0.653781</td>\n",
       "      <td>0.127053</td>\n",
       "      <td>0.310501</td>\n",
       "      <td>0.687259</td>\n",
       "      <td>0.136138</td>\n",
       "      <td>-0.375122</td>\n",
       "      <td>0.672988</td>\n",
       "      <td>-0.672988</td>\n",
       "      <td>...</td>\n",
       "      <td>-0.238636</td>\n",
       "      <td>-0.264583</td>\n",
       "      <td>3.07447</td>\n",
       "      <td>-0.346545</td>\n",
       "      <td>-0.965029</td>\n",
       "      <td>0.965029</td>\n",
       "      <td>-0.567916</td>\n",
       "      <td>-0.271242</td>\n",
       "      <td>-0.452259</td>\n",
       "      <td>0.965029</td>\n",
       "    </tr>\n",
       "    <tr>\n",
       "      <th>67133419</th>\n",
       "      <td>0.155082</td>\n",
       "      <td>2.100838</td>\n",
       "      <td>0.433808</td>\n",
       "      <td>0.437450</td>\n",
       "      <td>0.555305</td>\n",
       "      <td>0.485323</td>\n",
       "      <td>0.416693</td>\n",
       "      <td>-0.313756</td>\n",
       "      <td>0.672988</td>\n",
       "      <td>-0.672988</td>\n",
       "      <td>...</td>\n",
       "      <td>-0.238636</td>\n",
       "      <td>-0.264583</td>\n",
       "      <td>3.07447</td>\n",
       "      <td>-0.346545</td>\n",
       "      <td>-0.965029</td>\n",
       "      <td>0.965029</td>\n",
       "      <td>-0.567916</td>\n",
       "      <td>-0.271242</td>\n",
       "      <td>-0.452259</td>\n",
       "      <td>0.965029</td>\n",
       "    </tr>\n",
       "    <tr>\n",
       "      <th>67226512</th>\n",
       "      <td>0.155253</td>\n",
       "      <td>-0.414723</td>\n",
       "      <td>-0.062209</td>\n",
       "      <td>-0.285773</td>\n",
       "      <td>-0.636782</td>\n",
       "      <td>-1.466725</td>\n",
       "      <td>-0.255334</td>\n",
       "      <td>1.159039</td>\n",
       "      <td>0.672988</td>\n",
       "      <td>-0.672988</td>\n",
       "      <td>...</td>\n",
       "      <td>-0.238636</td>\n",
       "      <td>-0.264583</td>\n",
       "      <td>3.07447</td>\n",
       "      <td>-0.346545</td>\n",
       "      <td>1.036238</td>\n",
       "      <td>-1.036238</td>\n",
       "      <td>-0.567916</td>\n",
       "      <td>-0.271242</td>\n",
       "      <td>2.211123</td>\n",
       "      <td>-1.036238</td>\n",
       "    </tr>\n",
       "    <tr>\n",
       "      <th>67226501</th>\n",
       "      <td>0.155278</td>\n",
       "      <td>0.046679</td>\n",
       "      <td>0.397146</td>\n",
       "      <td>-0.124367</td>\n",
       "      <td>-0.494867</td>\n",
       "      <td>-1.332101</td>\n",
       "      <td>-0.333628</td>\n",
       "      <td>0.299909</td>\n",
       "      <td>0.672988</td>\n",
       "      <td>-0.672988</td>\n",
       "      <td>...</td>\n",
       "      <td>-0.238636</td>\n",
       "      <td>-0.264583</td>\n",
       "      <td>3.07447</td>\n",
       "      <td>-0.346545</td>\n",
       "      <td>1.036238</td>\n",
       "      <td>-1.036238</td>\n",
       "      <td>-0.567916</td>\n",
       "      <td>-0.271242</td>\n",
       "      <td>2.211123</td>\n",
       "      <td>-1.036238</td>\n",
       "    </tr>\n",
       "    <tr>\n",
       "      <th>67226717</th>\n",
       "      <td>0.155302</td>\n",
       "      <td>0.658821</td>\n",
       "      <td>0.586926</td>\n",
       "      <td>0.201549</td>\n",
       "      <td>0.235996</td>\n",
       "      <td>0.216075</td>\n",
       "      <td>0.331874</td>\n",
       "      <td>0.054443</td>\n",
       "      <td>0.672988</td>\n",
       "      <td>-0.672988</td>\n",
       "      <td>...</td>\n",
       "      <td>-0.238636</td>\n",
       "      <td>-0.264583</td>\n",
       "      <td>3.07447</td>\n",
       "      <td>-0.346545</td>\n",
       "      <td>1.036238</td>\n",
       "      <td>-1.036238</td>\n",
       "      <td>-0.567916</td>\n",
       "      <td>-0.271242</td>\n",
       "      <td>2.211123</td>\n",
       "      <td>-1.036238</td>\n",
       "    </tr>\n",
       "  </tbody>\n",
       "</table>\n",
       "<p>5 rows × 42 columns</p>\n",
       "</div>"
      ],
      "text/plain": [
       "          Request_id  Actual_embryos  Actual_haploid_embryos  \\\n",
       "GE_ID                                                          \n",
       "67133087    0.155020        2.855074                0.653781   \n",
       "67133419    0.155082        2.100838                0.433808   \n",
       "67226512    0.155253       -0.414723               -0.062209   \n",
       "67226501    0.155278        0.046679                0.397146   \n",
       "67226717    0.155302        0.658821                0.586926   \n",
       "\n",
       "          Actual_Elle_pots  Actual_D0_plants  Trans_rate  Actual_D0_poll  \\\n",
       "GE_ID                                                                      \n",
       "67133087          0.127053          0.310501    0.687259        0.136138   \n",
       "67133419          0.437450          0.555305    0.485323        0.416693   \n",
       "67226512         -0.285773         -0.636782   -1.466725       -0.255334   \n",
       "67226501         -0.124367         -0.494867   -1.332101       -0.333628   \n",
       "67226717          0.201549          0.235996    0.216075        0.331874   \n",
       "\n",
       "          Poll_rate    Site_0    Site_1  ...  EvaluationZone_9  \\\n",
       "GE_ID                                    ...                     \n",
       "67133087  -0.375122  0.672988 -0.672988  ...         -0.238636   \n",
       "67133419  -0.313756  0.672988 -0.672988  ...         -0.238636   \n",
       "67226512   1.159039  0.672988 -0.672988  ...         -0.238636   \n",
       "67226501   0.299909  0.672988 -0.672988  ...         -0.238636   \n",
       "67226717   0.054443  0.672988 -0.672988  ...         -0.238636   \n",
       "\n",
       "          EvaluationZone_10  EvaluationZone_11  EvaluationZone_12  HetGrp_0  \\\n",
       "GE_ID                                                                         \n",
       "67133087          -0.264583            3.07447          -0.346545 -0.965029   \n",
       "67133419          -0.264583            3.07447          -0.346545 -0.965029   \n",
       "67226512          -0.264583            3.07447          -0.346545  1.036238   \n",
       "67226501          -0.264583            3.07447          -0.346545  1.036238   \n",
       "67226717          -0.264583            3.07447          -0.346545  1.036238   \n",
       "\n",
       "          HetGrp_1    Type_0    Type_1    Type_2    Type_3  \n",
       "GE_ID                                                       \n",
       "67133087  0.965029 -0.567916 -0.271242 -0.452259  0.965029  \n",
       "67133419  0.965029 -0.567916 -0.271242 -0.452259  0.965029  \n",
       "67226512 -1.036238 -0.567916 -0.271242  2.211123 -1.036238  \n",
       "67226501 -1.036238 -0.567916 -0.271242  2.211123 -1.036238  \n",
       "67226717 -1.036238 -0.567916 -0.271242  2.211123 -1.036238  \n",
       "\n",
       "[5 rows x 42 columns]"
      ]
     },
     "execution_count": 124,
     "metadata": {},
     "output_type": "execute_result"
    }
   ],
   "source": [
    "# create scaled_num_fea dataframe for scaled ndarray using col names saved\n",
    "scaled_num_df=pd.DataFrame(num_scale, columns=num_fea_cols, index=num_fea_index)\n",
    "scaled_num_df.head()"
   ]
  },
  {
   "cell_type": "markdown",
   "id": "d745adf9",
   "metadata": {},
   "source": [
    "### 3.1.1.1 Verifying the scaling/ validating scaling if data transformed to Mean 0 and Std 1\n",
    "\n",
    "Is done by checking the mean of scaled features"
   ]
  },
  {
   "cell_type": "code",
   "execution_count": 121,
   "id": "3a5e2b3c",
   "metadata": {},
   "outputs": [
    {
     "data": {
      "text/plain": [
       "Request_id               -4.036112e-16\n",
       "Actual_embryos            4.945818e-17\n",
       "Actual_haploid_embryos   -3.686951e-16\n",
       "Actual_Elle_pots          1.498063e-15\n",
       "Actual_D0_plants         -5.114957e-15\n",
       "Trans_rate               -3.446762e-16\n",
       "Actual_D0_poll           -1.452472e-15\n",
       "Poll_rate                 4.526533e-16\n",
       "Site_0                   -1.312701e-13\n",
       "Site_1                    1.312701e-13\n",
       "Year_2015                -5.541738e-15\n",
       "Year_2016                 8.312648e-15\n",
       "Year_2017                -1.824878e-15\n",
       "Year_2018                -7.598660e-15\n",
       "Year_2019                 4.643978e-14\n",
       "Quarter_1                -4.964783e-15\n",
       "Quarter_2                 1.395865e-14\n",
       "Quarter_3                -5.917389e-15\n",
       "Quarter_4                 9.474923e-15\n",
       "BreedingZone_0            1.470215e-15\n",
       "BreedingZone_1           -1.856166e-15\n",
       "BreedingZone_2            1.523624e-16\n",
       "BreedingZone_3            3.955305e-15\n",
       "EvaluationZone_0         -9.327005e-16\n",
       "EvaluationZone_1          1.481103e-15\n",
       "EvaluationZone_2          1.700772e-15\n",
       "EvaluationZone_3          1.418347e-15\n",
       "EvaluationZone_4          2.104353e-16\n",
       "EvaluationZone_5          1.355333e-15\n",
       "EvaluationZone_6          3.370173e-16\n",
       "EvaluationZone_7          2.168878e-15\n",
       "EvaluationZone_8          9.812779e-16\n",
       "EvaluationZone_9         -2.264192e-15\n",
       "EvaluationZone_10         2.739315e-15\n",
       "EvaluationZone_11         3.789076e-15\n",
       "EvaluationZone_12         6.416221e-16\n",
       "HetGrp_0                 -3.914797e-15\n",
       "HetGrp_1                  3.914797e-15\n",
       "Type_0                    1.101983e-14\n",
       "Type_1                   -2.079702e-15\n",
       "Type_2                    1.414135e-14\n",
       "Type_3                    3.914797e-15\n",
       "dtype: float64"
      ]
     },
     "execution_count": 121,
     "metadata": {},
     "output_type": "execute_result"
    }
   ],
   "source": [
    "scaled_num_df.mean()"
   ]
  },
  {
   "cell_type": "markdown",
   "id": "0d4d0817",
   "metadata": {},
   "source": [
    "##### Mean of scaled numeric features is pretty much zero! How about standard deviation (should be closer to 1)"
   ]
  },
  {
   "cell_type": "code",
   "execution_count": 122,
   "id": "04c8fe25",
   "metadata": {},
   "outputs": [
    {
     "data": {
      "text/plain": [
       "Request_id                1.000034\n",
       "Actual_embryos            1.000034\n",
       "Actual_haploid_embryos    1.000034\n",
       "Actual_Elle_pots          1.000034\n",
       "Actual_D0_plants          1.000034\n",
       "Trans_rate                1.000034\n",
       "Actual_D0_poll            1.000034\n",
       "Poll_rate                 1.000034\n",
       "Site_0                    1.000034\n",
       "Site_1                    1.000034\n",
       "Year_2015                 1.000034\n",
       "Year_2016                 1.000034\n",
       "Year_2017                 1.000034\n",
       "Year_2018                 1.000034\n",
       "Year_2019                 1.000034\n",
       "Quarter_1                 1.000034\n",
       "Quarter_2                 1.000034\n",
       "Quarter_3                 1.000034\n",
       "Quarter_4                 1.000034\n",
       "BreedingZone_0            1.000034\n",
       "BreedingZone_1            1.000034\n",
       "BreedingZone_2            1.000034\n",
       "BreedingZone_3            1.000034\n",
       "EvaluationZone_0          1.000034\n",
       "EvaluationZone_1          1.000034\n",
       "EvaluationZone_2          1.000034\n",
       "EvaluationZone_3          1.000034\n",
       "EvaluationZone_4          1.000034\n",
       "EvaluationZone_5          1.000034\n",
       "EvaluationZone_6          1.000034\n",
       "EvaluationZone_7          1.000034\n",
       "EvaluationZone_8          1.000034\n",
       "EvaluationZone_9          1.000034\n",
       "EvaluationZone_10         1.000034\n",
       "EvaluationZone_11         1.000034\n",
       "EvaluationZone_12         1.000034\n",
       "HetGrp_0                  1.000034\n",
       "HetGrp_1                  1.000034\n",
       "Type_0                    1.000034\n",
       "Type_1                    1.000034\n",
       "Type_2                    1.000034\n",
       "Type_3                    1.000034\n",
       "dtype: float64"
      ]
     },
     "execution_count": 122,
     "metadata": {},
     "output_type": "execute_result"
    }
   ],
   "source": [
    "scaled_num_df.std()"
   ]
  },
  {
   "cell_type": "markdown",
   "id": "26867462",
   "metadata": {},
   "source": [
    "#### Hmm, std should be closer to 1, but is higher than 1. `scale()` uses the biased estimator for standard deviation (ddof=0). std() uses dd0f=1 by default, it's normalized by N-1"
   ]
  },
  {
   "cell_type": "code",
   "execution_count": 123,
   "id": "262441ca",
   "metadata": {},
   "outputs": [
    {
     "data": {
      "text/plain": [
       "Request_id                1.0\n",
       "Actual_embryos            1.0\n",
       "Actual_haploid_embryos    1.0\n",
       "Actual_Elle_pots          1.0\n",
       "Actual_D0_plants          1.0\n",
       "Trans_rate                1.0\n",
       "Actual_D0_poll            1.0\n",
       "Poll_rate                 1.0\n",
       "Site_0                    1.0\n",
       "Site_1                    1.0\n",
       "Year_2015                 1.0\n",
       "Year_2016                 1.0\n",
       "Year_2017                 1.0\n",
       "Year_2018                 1.0\n",
       "Year_2019                 1.0\n",
       "Quarter_1                 1.0\n",
       "Quarter_2                 1.0\n",
       "Quarter_3                 1.0\n",
       "Quarter_4                 1.0\n",
       "BreedingZone_0            1.0\n",
       "BreedingZone_1            1.0\n",
       "BreedingZone_2            1.0\n",
       "BreedingZone_3            1.0\n",
       "EvaluationZone_0          1.0\n",
       "EvaluationZone_1          1.0\n",
       "EvaluationZone_2          1.0\n",
       "EvaluationZone_3          1.0\n",
       "EvaluationZone_4          1.0\n",
       "EvaluationZone_5          1.0\n",
       "EvaluationZone_6          1.0\n",
       "EvaluationZone_7          1.0\n",
       "EvaluationZone_8          1.0\n",
       "EvaluationZone_9          1.0\n",
       "EvaluationZone_10         1.0\n",
       "EvaluationZone_11         1.0\n",
       "EvaluationZone_12         1.0\n",
       "HetGrp_0                  1.0\n",
       "HetGrp_1                  1.0\n",
       "Type_0                    1.0\n",
       "Type_1                    1.0\n",
       "Type_2                    1.0\n",
       "Type_3                    1.0\n",
       "dtype: float64"
      ]
     },
     "execution_count": 123,
     "metadata": {},
     "output_type": "execute_result"
    }
   ],
   "source": [
    "# redo std using ddof=0 as parameter of std\n",
    "scaled_num_df.std(ddof=0)"
   ]
  },
  {
   "cell_type": "code",
   "execution_count": null,
   "id": "39ec9cd1",
   "metadata": {},
   "outputs": [],
   "source": []
  },
  {
   "cell_type": "code",
   "execution_count": null,
   "id": "32b8eae9",
   "metadata": {},
   "outputs": [],
   "source": []
  },
  {
   "cell_type": "code",
   "execution_count": null,
   "id": "98d4b3e7",
   "metadata": {},
   "outputs": [],
   "source": []
  },
  {
   "cell_type": "code",
   "execution_count": null,
   "id": "ad3b0fa5",
   "metadata": {},
   "outputs": [],
   "source": []
  },
  {
   "cell_type": "code",
   "execution_count": null,
   "id": "c0971f97",
   "metadata": {},
   "outputs": [],
   "source": []
  },
  {
   "cell_type": "code",
   "execution_count": null,
   "id": "7ef81877",
   "metadata": {},
   "outputs": [],
   "source": []
  },
  {
   "cell_type": "code",
   "execution_count": null,
   "id": "d5d4c54a",
   "metadata": {},
   "outputs": [],
   "source": []
  },
  {
   "cell_type": "markdown",
   "id": "64eff3ef",
   "metadata": {},
   "source": [
    "# 3.1 Visualizing High Dimensional Data\n",
    "\n",
    "Saummary statistics and distribution of features, didn't reveal any outliers. One other way to disentangle the relationship of features is via principle components analysis (PCA). The basic steps in this process are:\n",
    "1. scale the data (when features are heterogenous) in such way col mean is 0 and std 1\n",
    "2. fit the PCA transformation (learn the transformation from the data)\n",
    "3. apply the transformation to the data to create the derived features\n",
    "4. (optionally) use the derived features to look for patterns in the data and explore the coefficients\n"
   ]
  },
  {
   "cell_type": "markdown",
   "id": "5f2c7708",
   "metadata": {},
   "source": [
    "## 3.1.2 Calculate the PCA transformation"
   ]
  },
  {
   "cell_type": "markdown",
   "id": "bd147b7c",
   "metadata": {},
   "source": [
    "#### Fit PCA transformation using the scaled data"
   ]
  },
  {
   "cell_type": "code",
   "execution_count": 18,
   "id": "8d7fea85",
   "metadata": {},
   "outputs": [],
   "source": [
    "num_pca=PCA().fit(num_scale)"
   ]
  },
  {
   "cell_type": "markdown",
   "id": "111be259",
   "metadata": {},
   "source": [
    "### Plot the cumulative variance ratio with number of components"
   ]
  },
  {
   "cell_type": "code",
   "execution_count": 19,
   "id": "5b6ec133",
   "metadata": {},
   "outputs": [
    {
     "data": {
      "image/png": "[encoded data removed]",
      "text/plain": [
       "<Figure size 720x576 with 1 Axes>"
      ]
     },
     "metadata": {
      "needs_background": "light"
     },
     "output_type": "display_data"
    }
   ],
   "source": [
    "# Call the `cumsum()` method on the 'explained_variance_ratio_' attribute of num_pca\n",
    "# create line plot cumulative explained variance ratio (y-axis) vs # of components (x-axis)\n",
    "#Hint: remember the handy ';' at the end of the last plot call to suppress that untidy output\n",
    "\n",
    "plt.subplots(figsize=(10,8))\n",
    "plt.plot(num_pca.explained_variance_ratio_.cumsum())\n",
    "plt.xlabel('Component #')\n",
    "plt.ylabel('Cumulative ratio variance')\n",
    "\n",
    "plt.title('Cumulative variance ratio explained by PCA components');"
   ]
  },
  {
   "cell_type": "code",
   "execution_count": 20,
   "id": "a987e52e",
   "metadata": {},
   "outputs": [
    {
     "name": "stdout",
     "output_type": "stream",
     "text": [
      "0 0.3923286153534371\n",
      "1 0.5257045560466196\n",
      "2 0.6445152416420767\n",
      "3 0.754277719755723\n",
      "4 0.8338029094808646\n",
      "5 0.9085873062249139\n",
      "6 0.9563177331706703\n",
      "7 0.9909321818277701\n",
      "8 0.9965479304615488\n",
      "9 0.998500613577183\n",
      "10 1.0\n"
     ]
    }
   ],
   "source": [
    "for index, var in enumerate (num_pca.explained_variance_ratio_.cumsum()):\n",
    "    print(index, var)"
   ]
  },
  {
   "cell_type": "markdown",
   "id": "33a1aa29",
   "metadata": {},
   "source": [
    "###  Summary of PCA: The first two components seem to account for over 50% of the variance, and the first five for over 85%."
   ]
  },
  {
   "cell_type": "markdown",
   "id": "b371e718",
   "metadata": {},
   "source": [
    "#### Apply the transformation to the scaled data (num_scale) to obtain the derived features\n"
   ]
  },
  {
   "cell_type": "code",
   "execution_count": 21,
   "id": "b16d99d5",
   "metadata": {},
   "outputs": [],
   "source": [
    "num_pca_x=num_pca.transform(num_scale)\n",
    "#num_pca_x[:5]\n",
    "#num_pca_x.shape"
   ]
  },
  {
   "cell_type": "markdown",
   "id": "3a9c4085",
   "metadata": {},
   "source": [
    "#### Plot percentage variance explained by the two PCA components (first & second columns of the transformed data/first two principle components) "
   ]
  },
  {
   "cell_type": "code",
   "execution_count": 22,
   "id": "f9457bfb",
   "metadata": {},
   "outputs": [
    {
     "name": "stdout",
     "output_type": "stream",
     "text": [
      "[ 1.97625998  1.92799319 -0.60999289 ... -3.28924383 -3.24369515\n",
      " -3.12346542] [-2.06839631 -1.82016002  1.4598434  ... -0.27212753  0.12752867\n",
      " -0.60342468]\n"
     ]
    },
    {
     "data": {
      "image/png": "[encoded data removed]",
      "text/plain": [
       "<Figure size 720x576 with 1 Axes>"
      ]
     },
     "metadata": {
      "needs_background": "light"
     },
     "output_type": "display_data"
    }
   ],
   "source": [
    "x = num_pca_x[:, 0]\n",
    "y = num_pca_x[:, 1]\n",
    "print(x, y)\n",
    "GEID=num_fea_index\n",
    "pc_var = 100 * num_pca.explained_variance_ratio_.cumsum()[1]\n",
    "plt.subplots(figsize=(10,8))\n",
    "plt.scatter(x=x, y=y)\n",
    "plt.xlabel('First component')\n",
    "plt.ylabel('Second component')\n",
    "plt.title(f'GEIDs summary PCA, {pc_var:.1f}% variance explained')\n",
    "for s, x, y in zip(GEID, x, y):\n",
    "    plt.annotate(s, (x, y))"
   ]
  },
  {
   "cell_type": "markdown",
   "id": "b11fd1b0",
   "metadata": {},
   "source": [
    "### 3.1 Conclusion On How To Handle GEIDs: treating all GEIDs equally while building prediction model "
   ]
  },
  {
   "cell_type": "markdown",
   "id": "2b748af0",
   "metadata": {},
   "source": [
    "# 3.2 Feature Engineering"
   ]
  },
  {
   "cell_type": "markdown",
   "id": "d753ccb1",
   "metadata": {},
   "source": [
    "# 3.2.1 Feature correlation heatmap\n",
    "Gives high level view of relationships amongst the features"
   ]
  },
  {
   "cell_type": "code",
   "execution_count": 23,
   "id": "6bbab205",
   "metadata": {},
   "outputs": [
    {
     "data": {
      "image/png": "[encoded data removed]",
      "text/plain": [
       "<Figure size 864x720 with 2 Axes>"
      ]
     },
     "metadata": {
      "needs_background": "light"
     },
     "output_type": "display_data"
    }
   ],
   "source": [
    "#Show a seaborn heatmap of correlations in data\n",
    "#Hint: call pandas' `corr()` method on `data` and pass that into `sns.heatmap`\n",
    "plt.subplots(figsize=(12,10))\n",
    "sns.heatmap(data.corr());"
   ]
  },
  {
   "cell_type": "markdown",
   "id": "091afe59",
   "metadata": {},
   "source": [
    "##### None of the numeric features are correlated with target variable: Hap_rate"
   ]
  },
  {
   "cell_type": "markdown",
   "id": "088fa44e",
   "metadata": {},
   "source": [
    "# 3.2.2 Scatterplots of numeric features against target variable: Hap_rate\n",
    "\n",
    "Correlations, in heatmap is a great first pass at identifying patterns. But correlation can mask relationships between two variables. A series of scatterplots help to really dive into how Hap_rate varies with other numeric features."
   ]
  },
  {
   "cell_type": "code",
   "execution_count": 24,
   "id": "6a1d0e6d",
   "metadata": {},
   "outputs": [],
   "source": [
    "# define useful function to create scatterplots of Hap_rate against desired columns\n",
    "def scatterplots(columns, ncol=None, figsize=(15, 8)):\n",
    "    if ncol is None:\n",
    "        ncol = len(columns)\n",
    "    nrow = int(np.ceil(len(columns) / ncol))\n",
    "    fig, axes = plt.subplots(nrow, ncol, figsize=figsize, squeeze=False)\n",
    "    fig.subplots_adjust(wspace=0.5, hspace=0.8)\n",
    "    for i, col in enumerate(columns):\n",
    "        ax = axes.flatten()[i]\n",
    "        ax.scatter(x = col, y = 'Hap_rate', data=data, alpha=0.5)\n",
    "        ax.set(xlabel=col, ylabel='Hap_rate')\n",
    "    nsubplots = nrow * ncol    \n",
    "    for empty in range(i+1, nsubplots):\n",
    "        axes.flatten()[empty].set_visible(False)"
   ]
  },
  {
   "cell_type": "code",
   "execution_count": 25,
   "id": "846b7dad",
   "metadata": {},
   "outputs": [
    {
     "data": {
      "text/plain": [
       "11"
      ]
     },
     "execution_count": 25,
     "metadata": {},
     "output_type": "execute_result"
    }
   ],
   "source": [
    "#Use a list comprehension to build a list of features from the columns of `data` that\n",
    "#are _not_ any of categorical columns, or 'Hap_rate'\n",
    "features = [col for col in data.columns if col not in ['Site', 'BreedingZone','EvaluationZone','HetGrp','Type','Hap_rate']]\n",
    "len(features)"
   ]
  },
  {
   "cell_type": "code",
   "execution_count": 26,
   "id": "f7976960",
   "metadata": {},
   "outputs": [
    {
     "data": {
      "image/png": "[encoded data removed]",
      "text/plain": [
       "<Figure size 1080x1080 with 12 Axes>"
      ]
     },
     "metadata": {
      "needs_background": "light"
     },
     "output_type": "display_data"
    }
   ],
   "source": [
    "scatterplots(features, ncol=4, figsize=(15, 15))"
   ]
  },
  {
   "cell_type": "markdown",
   "id": "48271635",
   "metadata": {},
   "source": [
    "# conclusion: No strong correlation is observed between Hap_rate and other numeric features"
   ]
  },
  {
   "cell_type": "markdown",
   "id": "c1a6ce69",
   "metadata": {},
   "source": [
    "# 3.3 Feature Selection"
   ]
  },
  {
   "cell_type": "code",
   "execution_count": 28,
   "id": "424f9905",
   "metadata": {},
   "outputs": [
    {
     "name": "stdout",
     "output_type": "stream",
     "text": [
      "Column: Request_id, Selected=True, Rank: 1\n",
      "Column: Year, Selected=False, Rank: 7\n",
      "Column: Quarter, Selected=False, Rank: 6\n",
      "Column: GE_ID, Selected=False, Rank: 2\n",
      "Column: Actual_embryos, Selected=True, Rank: 1\n",
      "Column: Actual_haploid_embryos, Selected=True, Rank: 1\n",
      "Column: Actual_Elle_pots, Selected=True, Rank: 1\n",
      "Column: Actual_D0_plants, Selected=False, Rank: 5\n",
      "Column: Trans_rate, Selected=False, Rank: 4\n",
      "Column: Actual_D0_poll, Selected=False, Rank: 3\n",
      "Column: Poll_rate, Selected=True, Rank: 1\n"
     ]
    }
   ],
   "source": [
    "# import libraries\n",
    "from sklearn.feature_selection import RFE\n",
    "from sklearn.tree import DecisionTreeClassifier\n",
    "\n",
    "# devide predictors and target, to keep things simple, we'll use only numerical predictors\n",
    "data_num = data.drop(['Hap_rate'], axis=1)\n",
    "X = data_num.select_dtypes(exclude=['object'])\n",
    "y = data.Hap_rate\n",
    "\n",
    "# define RFE\n",
    "rfe = RFE(estimator=DecisionTreeClassifier(), n_features_to_select=5)\n",
    "# fit RFE\n",
    "rfe.fit(X, y)\n",
    "# summarize all features\n",
    "for i in range(X.shape[1]):\n",
    "    print('Column: %s, Selected=%s, Rank: %d' % (X.columns[i], rfe.support_[i], rfe.ranking_[i]))\n"
   ]
  },
  {
   "cell_type": "code",
   "execution_count": null,
   "id": "eba8c49c",
   "metadata": {},
   "outputs": [],
   "source": []
  },
  {
   "cell_type": "code",
   "execution_count": null,
   "id": "31f604b9",
   "metadata": {},
   "outputs": [],
   "source": []
  }
 ],
 "metadata": {
  "kernelspec": {
   "display_name": "Python 3",
   "language": "python",
   "name": "python3"
  },
  "language_info": {
   "codemirror_mode": {
    "name": "ipython",
    "version": 3
   },
   "file_extension": ".py",
   "mimetype": "text/x-python",
   "name": "python",
   "nbconvert_exporter": "python",
   "pygments_lexer": "ipython3",
   "version": "3.7.4"
  }
 },
 "nbformat": 4,
 "nbformat_minor": 5
}
